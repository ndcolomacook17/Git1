{
 "cells": [
  {
   "cell_type": "markdown",
   "metadata": {},
   "source": [
    "# Exploring PQC Circuits, Optimizers, etc for QAOA with TFQ\n",
    "\n",
    "This is an exploration of MaxCut mapping to QAOA circuits, different optimizers, losses, etc. provided in TFQ/TF for QAOA parameter optimization"
   ]
  },
  {
   "cell_type": "markdown",
   "metadata": {},
   "source": [
    "## Import Necessary Libraries"
   ]
  },
  {
   "cell_type": "code",
   "execution_count": 1,
   "metadata": {},
   "outputs": [],
   "source": [
    "import tensorflow as tf\n",
    "import tensorflow_quantum as tfq\n",
    "import cirq\n",
    "import sympy\n",
    "import numpy as np\n",
    "\n",
    "# visualization tools\n",
    "import matplotlib.pyplot as plt\n",
    "from cirq.contrib.svg import SVGCircuit\n",
    "#supress warning for matplotlib\n",
    "import warnings\n",
    "warnings.filterwarnings(\"ignore\")\n",
    "import networkx as nx"
   ]
  },
  {
   "cell_type": "markdown",
   "metadata": {},
   "source": [
    "## QAOA Ansatz\n",
    "The QAOA alternates between the implementation of a cost hamiltonian ($\\hat{H}_C$) and a mixer hamiltonian ($\\hat{H}_M$) for a depth p times. This results in an overall unitary operator defined as:\n",
    "\n",
    "$$\\hat{U}(\\vec{\\gamma},\\vec{\\beta})= \\prod_{p=1}^{n}e^{-i\\gamma_{p}\\hat{H}_M}e^{-i\\beta_{p} \\hat{H}_C}$$\n",
    "Here, $\\hat{H}_C$ represents the cost Hamiltonian which, for the MaxCut problem within the class of Ising models, is:\n",
    "$$\\hat{H}_C=\\sum_{<i,j>}(I_{2}-\\sigma_{i}^{z}\\sigma_{j}^{z})$$\n",
    "\n",
    "    \n",
    "The mixing Hamiltonian, $\\hat{H}_M$, is defined as:\n",
    "$$\\hat{H}_M=\\sum_{k=1}^{N}\\sigma_{k}^{x}$$\n",
    "\n",
    "Since MaxCut graph can vary in __nodes__ (N), __connectivity__ (can be d-regular, where $d\\in [0,N-1],\\mathbb{Z^{+}}$), and __edge weight distribution__ (for unweighted, $w_{i}=1\\; \\forall \\; edges$), mapping one versus another onto a QAOA can look very different. Here's how the circuit structure changes with different variations of MaxCut graphs:"
   ]
  },
  {
   "cell_type": "code",
   "execution_count": 2,
   "metadata": {},
   "outputs": [],
   "source": [
    "# Define a MaxCut graph to QAOA circuit mapping\n",
    "def maxcut_qaoa_circuit(graph, depth_tot):\n",
    "    # Map nodes to qubits 1:1\n",
    "    qubits = cirq.GridQubit.rect(1, len(graph.nodes))\n",
    "    # Create vars for circuit and total parameters\n",
    "    hadamard_circuit = cirq.Circuit()\n",
    "    qaoa_circuit = cirq.Circuit()\n",
    "    #hadamard_circuit = cirq.Circuit()\n",
    "    qaoa_params = []\n",
    "    \n",
    "    \n",
    "    # Apply Hadamard Transform for initial equal superposition\n",
    "    for q in qubits:\n",
    "        hadamard_circuit += cirq.H(q)\n",
    "    qaoa_circuit.append(hadamard_circuit)\n",
    "    \n",
    "    # Create parameter set\n",
    "    for depth in range(depth_tot):\n",
    "        qaoa_params.append(sympy.Symbol(\"gamma_{}\".format(depth)))\n",
    "    \n",
    "    # Create {H_C, H_M} alternating depth_tot times \n",
    "        for edge in graph.edges():\n",
    "            \n",
    "            qaoa_circuit += cirq.ZZ(qubits[edge[0]], qubits[edge[1]])**qaoa_params[-1]\n",
    "        qaoa_params.append(sympy.Symbol(\"beta_{}\".format(depth)))\n",
    "        \n",
    "        for node in graph.nodes():\n",
    "            qaoa_circuit += cirq.X(qubits[node])**qaoa_params[-1]\n",
    "            \n",
    "    # Define the cost as a Cirq PauliSum\n",
    "    cost_op = None\n",
    "    for edge in graph.edges():\n",
    "        if cost_op is None:\n",
    "            cost_op = cirq.Z(qubits[edge[0]])*cirq.Z(qubits[edge[1]])\n",
    "        else:\n",
    "            cost_op += cirq.Z(qubits[edge[0]])*cirq.Z(qubits[edge[1]])\n",
    "    \n",
    "    return SVGCircuit(qaoa_circuit)"
   ]
  },
  {
   "cell_type": "code",
   "execution_count": 34,
   "metadata": {},
   "outputs": [
    {
     "data": {
      "image/svg+xml": [
       "<svg xmlns=\"http://www.w3.org/2000/svg\" width=\"3392.415507812499\" height=\"540.0\"><line x1=\"32.246796875\" x2=\"3362.415507812499\" y1=\"45.0\" y2=\"45.0\" stroke=\"#1967d2\" stroke-width=\"1\" /><line x1=\"32.246796875\" x2=\"3362.415507812499\" y1=\"95.0\" y2=\"95.0\" stroke=\"#1967d2\" stroke-width=\"1\" /><line x1=\"32.246796875\" x2=\"3362.415507812499\" y1=\"145.0\" y2=\"145.0\" stroke=\"#1967d2\" stroke-width=\"1\" /><line x1=\"32.246796875\" x2=\"3362.415507812499\" y1=\"195.0\" y2=\"195.0\" stroke=\"#1967d2\" stroke-width=\"1\" /><line x1=\"32.246796875\" x2=\"3362.415507812499\" y1=\"245.0\" y2=\"245.0\" stroke=\"#1967d2\" stroke-width=\"1\" /><line x1=\"32.246796875\" x2=\"3362.415507812499\" y1=\"295.0\" y2=\"295.0\" stroke=\"#1967d2\" stroke-width=\"1\" /><line x1=\"32.246796875\" x2=\"3362.415507812499\" y1=\"345.0\" y2=\"345.0\" stroke=\"#1967d2\" stroke-width=\"1\" /><line x1=\"32.246796875\" x2=\"3362.415507812499\" y1=\"395.0\" y2=\"395.0\" stroke=\"#1967d2\" stroke-width=\"1\" /><line x1=\"32.246796875\" x2=\"3362.415507812499\" y1=\"445.0\" y2=\"445.0\" stroke=\"#1967d2\" stroke-width=\"1\" /><line x1=\"32.246796875\" x2=\"3362.415507812499\" y1=\"495.0\" y2=\"495.0\" stroke=\"#1967d2\" stroke-width=\"1\" /><line x1=\"2880.9953906249993\" x2=\"3143.243749999999\" y1=\"5.0\" y2=\"5.0\" stroke=\"black\" stroke-width=\"1\" /><line x1=\"2880.9953906249993\" x2=\"3143.243749999999\" y1=\"535.0\" y2=\"535.0\" stroke=\"black\" stroke-width=\"1\" /><line x1=\"2581.7655859374995\" x2=\"2870.9953906249993\" y1=\"5.0\" y2=\"5.0\" stroke=\"black\" stroke-width=\"1\" /><line x1=\"2581.7655859374995\" x2=\"2870.9953906249993\" y1=\"535.0\" y2=\"535.0\" stroke=\"black\" stroke-width=\"1\" /><line x1=\"2375.6123828124996\" x2=\"2571.7655859374995\" y1=\"5.0\" y2=\"5.0\" stroke=\"black\" stroke-width=\"1\" /><line x1=\"2375.6123828124996\" x2=\"2571.7655859374995\" y1=\"535.0\" y2=\"535.0\" stroke=\"black\" stroke-width=\"1\" /><line x1=\"2169.4591796874997\" x2=\"2365.6123828124996\" y1=\"5.0\" y2=\"5.0\" stroke=\"black\" stroke-width=\"1\" /><line x1=\"2169.4591796874997\" x2=\"2365.6123828124996\" y1=\"535.0\" y2=\"535.0\" stroke=\"black\" stroke-width=\"1\" /><line x1=\"1963.3059765624998\" x2=\"2159.4591796874997\" y1=\"5.0\" y2=\"5.0\" stroke=\"black\" stroke-width=\"1\" /><line x1=\"1963.3059765624998\" x2=\"2159.4591796874997\" y1=\"535.0\" y2=\"535.0\" stroke=\"black\" stroke-width=\"1\" /><line x1=\"1545.2967578125\" x2=\"1838.3284374999998\" y1=\"5.0\" y2=\"5.0\" stroke=\"black\" stroke-width=\"1\" /><line x1=\"1545.2967578125\" x2=\"1838.3284374999998\" y1=\"535.0\" y2=\"535.0\" stroke=\"black\" stroke-width=\"1\" /><line x1=\"1269.2465234375\" x2=\"1535.2967578125\" y1=\"5.0\" y2=\"5.0\" stroke=\"black\" stroke-width=\"1\" /><line x1=\"1269.2465234375\" x2=\"1535.2967578125\" y1=\"535.0\" y2=\"535.0\" stroke=\"black\" stroke-width=\"1\" /><line x1=\"964.31390625\" x2=\"1259.2465234375\" y1=\"5.0\" y2=\"5.0\" stroke=\"black\" stroke-width=\"1\" /><line x1=\"964.31390625\" x2=\"1259.2465234375\" y1=\"535.0\" y2=\"535.0\" stroke=\"black\" stroke-width=\"1\" /><line x1=\"754.358828125\" x2=\"954.31390625\" y1=\"5.0\" y2=\"5.0\" stroke=\"black\" stroke-width=\"1\" /><line x1=\"754.358828125\" x2=\"954.31390625\" y1=\"535.0\" y2=\"535.0\" stroke=\"black\" stroke-width=\"1\" /><line x1=\"449.4262109375\" x2=\"744.358828125\" y1=\"5.0\" y2=\"5.0\" stroke=\"black\" stroke-width=\"1\" /><line x1=\"449.4262109375\" x2=\"744.358828125\" y1=\"535.0\" y2=\"535.0\" stroke=\"black\" stroke-width=\"1\" /><line x1=\"239.4711328125\" x2=\"439.4262109375\" y1=\"5.0\" y2=\"5.0\" stroke=\"black\" stroke-width=\"1\" /><line x1=\"239.4711328125\" x2=\"439.4262109375\" y1=\"535.0\" y2=\"535.0\" stroke=\"black\" stroke-width=\"1\" /><line x1=\"181.98236328125\" x2=\"181.98236328125\" y1=\"45.0\" y2=\"95.0\" stroke=\"black\" stroke-width=\"3\" /><line x1=\"286.95990234375\" x2=\"286.95990234375\" y1=\"45.0\" y2=\"395.0\" stroke=\"black\" stroke-width=\"3\" /><line x1=\"381.93744140625\" x2=\"381.93744140625\" y1=\"95.0\" y2=\"195.0\" stroke=\"black\" stroke-width=\"3\" /><line x1=\"496.91498046875\" x2=\"496.91498046875\" y1=\"45.0\" y2=\"495.0\" stroke=\"black\" stroke-width=\"3\" /><line x1=\"591.89251953125\" x2=\"591.89251953125\" y1=\"95.0\" y2=\"445.0\" stroke=\"black\" stroke-width=\"3\" /><line x1=\"686.87005859375\" x2=\"686.87005859375\" y1=\"245.0\" y2=\"395.0\" stroke=\"black\" stroke-width=\"3\" /><line x1=\"801.84759765625\" x2=\"801.84759765625\" y1=\"245.0\" y2=\"445.0\" stroke=\"black\" stroke-width=\"3\" /><line x1=\"896.82513671875\" x2=\"896.82513671875\" y1=\"345.0\" y2=\"395.0\" stroke=\"black\" stroke-width=\"3\" /><line x1=\"1011.80267578125\" x2=\"1011.80267578125\" y1=\"245.0\" y2=\"295.0\" stroke=\"black\" stroke-width=\"3\" /><line x1=\"1106.78021484375\" x2=\"1106.78021484375\" y1=\"145.0\" y2=\"345.0\" stroke=\"black\" stroke-width=\"3\" /><line x1=\"1201.75775390625\" x2=\"1201.75775390625\" y1=\"195.0\" y2=\"445.0\" stroke=\"black\" stroke-width=\"3\" /><line x1=\"1011.80267578125\" x2=\"1011.80267578125\" y1=\"45.0\" y2=\"95.0\" stroke=\"black\" stroke-width=\"3\" /><line x1=\"1316.73529296875\" x2=\"1316.73529296875\" y1=\"145.0\" y2=\"495.0\" stroke=\"black\" stroke-width=\"3\" /><line x1=\"1478.75845703125\" x2=\"1478.75845703125\" y1=\"45.0\" y2=\"395.0\" stroke=\"black\" stroke-width=\"3\" /><line x1=\"1592.78552734375\" x2=\"1592.78552734375\" y1=\"145.0\" y2=\"295.0\" stroke=\"black\" stroke-width=\"3\" /><line x1=\"1687.76306640625\" x2=\"1687.76306640625\" y1=\"195.0\" y2=\"495.0\" stroke=\"black\" stroke-width=\"3\" /><line x1=\"1781.7901367187499\" x2=\"1781.7901367187499\" y1=\"245.0\" y2=\"395.0\" stroke=\"black\" stroke-width=\"3\" /><line x1=\"1905.8172070312498\" x2=\"1905.8172070312498\" y1=\"295.0\" y2=\"345.0\" stroke=\"black\" stroke-width=\"3\" /><line x1=\"2102.92087890625\" x2=\"2102.92087890625\" y1=\"45.0\" y2=\"495.0\" stroke=\"black\" stroke-width=\"3\" /><line x1=\"2009.8442773437498\" x2=\"2009.8442773437498\" y1=\"95.0\" y2=\"195.0\" stroke=\"black\" stroke-width=\"3\" /><line x1=\"2215.99748046875\" x2=\"2215.99748046875\" y1=\"95.0\" y2=\"445.0\" stroke=\"black\" stroke-width=\"3\" /><line x1=\"2309.07408203125\" x2=\"2309.07408203125\" y1=\"345.0\" y2=\"395.0\" stroke=\"black\" stroke-width=\"3\" /><line x1=\"2422.15068359375\" x2=\"2422.15068359375\" y1=\"245.0\" y2=\"445.0\" stroke=\"black\" stroke-width=\"3\" /><line x1=\"2515.2272851562498\" x2=\"2515.2272851562498\" y1=\"145.0\" y2=\"345.0\" stroke=\"black\" stroke-width=\"3\" /><line x1=\"2628.3038867187497\" x2=\"2628.3038867187497\" y1=\"245.0\" y2=\"295.0\" stroke=\"black\" stroke-width=\"3\" /><line x1=\"2721.3804882812497\" x2=\"2721.3804882812497\" y1=\"145.0\" y2=\"495.0\" stroke=\"black\" stroke-width=\"3\" /><line x1=\"2814.4570898437496\" x2=\"2814.4570898437496\" y1=\"195.0\" y2=\"445.0\" stroke=\"black\" stroke-width=\"3\" /><line x1=\"2927.5336914062495\" x2=\"2927.5336914062495\" y1=\"145.0\" y2=\"295.0\" stroke=\"black\" stroke-width=\"3\" /><line x1=\"3020.6102929687495\" x2=\"3020.6102929687495\" y1=\"195.0\" y2=\"495.0\" stroke=\"black\" stroke-width=\"3\" /><line x1=\"3209.7820507812494\" x2=\"3209.7820507812494\" y1=\"295.0\" y2=\"345.0\" stroke=\"black\" stroke-width=\"3\" /><line x1=\"2880.9953906249993\" x2=\"2880.9953906249993\" y1=\"5.0\" y2=\"15.0\" stroke=\"black\" stroke-width=\"3\" /><line x1=\"3143.243749999999\" x2=\"3143.243749999999\" y1=\"5.0\" y2=\"15.0\" stroke=\"black\" stroke-width=\"3\" /><line x1=\"2880.9953906249993\" x2=\"2880.9953906249993\" y1=\"525.0\" y2=\"535.0\" stroke=\"black\" stroke-width=\"3\" /><line x1=\"3143.243749999999\" x2=\"3143.243749999999\" y1=\"525.0\" y2=\"535.0\" stroke=\"black\" stroke-width=\"3\" /><line x1=\"2581.7655859374995\" x2=\"2581.7655859374995\" y1=\"5.0\" y2=\"15.0\" stroke=\"black\" stroke-width=\"3\" /><line x1=\"2870.9953906249993\" x2=\"2870.9953906249993\" y1=\"5.0\" y2=\"15.0\" stroke=\"black\" stroke-width=\"3\" /><line x1=\"2581.7655859374995\" x2=\"2581.7655859374995\" y1=\"525.0\" y2=\"535.0\" stroke=\"black\" stroke-width=\"3\" /><line x1=\"2870.9953906249993\" x2=\"2870.9953906249993\" y1=\"525.0\" y2=\"535.0\" stroke=\"black\" stroke-width=\"3\" /><line x1=\"2375.6123828124996\" x2=\"2375.6123828124996\" y1=\"5.0\" y2=\"15.0\" stroke=\"black\" stroke-width=\"3\" /><line x1=\"2571.7655859374995\" x2=\"2571.7655859374995\" y1=\"5.0\" y2=\"15.0\" stroke=\"black\" stroke-width=\"3\" /><line x1=\"2375.6123828124996\" x2=\"2375.6123828124996\" y1=\"525.0\" y2=\"535.0\" stroke=\"black\" stroke-width=\"3\" /><line x1=\"2571.7655859374995\" x2=\"2571.7655859374995\" y1=\"525.0\" y2=\"535.0\" stroke=\"black\" stroke-width=\"3\" /><line x1=\"2169.4591796874997\" x2=\"2169.4591796874997\" y1=\"5.0\" y2=\"15.0\" stroke=\"black\" stroke-width=\"3\" /><line x1=\"2365.6123828124996\" x2=\"2365.6123828124996\" y1=\"5.0\" y2=\"15.0\" stroke=\"black\" stroke-width=\"3\" /><line x1=\"2169.4591796874997\" x2=\"2169.4591796874997\" y1=\"525.0\" y2=\"535.0\" stroke=\"black\" stroke-width=\"3\" /><line x1=\"2365.6123828124996\" x2=\"2365.6123828124996\" y1=\"525.0\" y2=\"535.0\" stroke=\"black\" stroke-width=\"3\" /><line x1=\"1963.3059765624998\" x2=\"1963.3059765624998\" y1=\"5.0\" y2=\"15.0\" stroke=\"black\" stroke-width=\"3\" /><line x1=\"2159.4591796874997\" x2=\"2159.4591796874997\" y1=\"5.0\" y2=\"15.0\" stroke=\"black\" stroke-width=\"3\" /><line x1=\"1963.3059765624998\" x2=\"1963.3059765624998\" y1=\"525.0\" y2=\"535.0\" stroke=\"black\" stroke-width=\"3\" /><line x1=\"2159.4591796874997\" x2=\"2159.4591796874997\" y1=\"525.0\" y2=\"535.0\" stroke=\"black\" stroke-width=\"3\" /><line x1=\"1545.2967578125\" x2=\"1545.2967578125\" y1=\"5.0\" y2=\"15.0\" stroke=\"black\" stroke-width=\"3\" /><line x1=\"1838.3284374999998\" x2=\"1838.3284374999998\" y1=\"5.0\" y2=\"15.0\" stroke=\"black\" stroke-width=\"3\" /><line x1=\"1545.2967578125\" x2=\"1545.2967578125\" y1=\"525.0\" y2=\"535.0\" stroke=\"black\" stroke-width=\"3\" /><line x1=\"1838.3284374999998\" x2=\"1838.3284374999998\" y1=\"525.0\" y2=\"535.0\" stroke=\"black\" stroke-width=\"3\" /><line x1=\"1269.2465234375\" x2=\"1269.2465234375\" y1=\"5.0\" y2=\"15.0\" stroke=\"black\" stroke-width=\"3\" /><line x1=\"1535.2967578125\" x2=\"1535.2967578125\" y1=\"5.0\" y2=\"15.0\" stroke=\"black\" stroke-width=\"3\" /><line x1=\"1269.2465234375\" x2=\"1269.2465234375\" y1=\"525.0\" y2=\"535.0\" stroke=\"black\" stroke-width=\"3\" /><line x1=\"1535.2967578125\" x2=\"1535.2967578125\" y1=\"525.0\" y2=\"535.0\" stroke=\"black\" stroke-width=\"3\" /><line x1=\"964.31390625\" x2=\"964.31390625\" y1=\"5.0\" y2=\"15.0\" stroke=\"black\" stroke-width=\"3\" /><line x1=\"1259.2465234375\" x2=\"1259.2465234375\" y1=\"5.0\" y2=\"15.0\" stroke=\"black\" stroke-width=\"3\" /><line x1=\"964.31390625\" x2=\"964.31390625\" y1=\"525.0\" y2=\"535.0\" stroke=\"black\" stroke-width=\"3\" /><line x1=\"1259.2465234375\" x2=\"1259.2465234375\" y1=\"525.0\" y2=\"535.0\" stroke=\"black\" stroke-width=\"3\" /><line x1=\"754.358828125\" x2=\"754.358828125\" y1=\"5.0\" y2=\"15.0\" stroke=\"black\" stroke-width=\"3\" /><line x1=\"954.31390625\" x2=\"954.31390625\" y1=\"5.0\" y2=\"15.0\" stroke=\"black\" stroke-width=\"3\" /><line x1=\"754.358828125\" x2=\"754.358828125\" y1=\"525.0\" y2=\"535.0\" stroke=\"black\" stroke-width=\"3\" /><line x1=\"954.31390625\" x2=\"954.31390625\" y1=\"525.0\" y2=\"535.0\" stroke=\"black\" stroke-width=\"3\" /><line x1=\"449.4262109375\" x2=\"449.4262109375\" y1=\"5.0\" y2=\"15.0\" stroke=\"black\" stroke-width=\"3\" /><line x1=\"744.358828125\" x2=\"744.358828125\" y1=\"5.0\" y2=\"15.0\" stroke=\"black\" stroke-width=\"3\" /><line x1=\"449.4262109375\" x2=\"449.4262109375\" y1=\"525.0\" y2=\"535.0\" stroke=\"black\" stroke-width=\"3\" /><line x1=\"744.358828125\" x2=\"744.358828125\" y1=\"525.0\" y2=\"535.0\" stroke=\"black\" stroke-width=\"3\" /><line x1=\"239.4711328125\" x2=\"239.4711328125\" y1=\"5.0\" y2=\"15.0\" stroke=\"black\" stroke-width=\"3\" /><line x1=\"439.4262109375\" x2=\"439.4262109375\" y1=\"5.0\" y2=\"15.0\" stroke=\"black\" stroke-width=\"3\" /><line x1=\"239.4711328125\" x2=\"239.4711328125\" y1=\"525.0\" y2=\"535.0\" stroke=\"black\" stroke-width=\"3\" /><line x1=\"439.4262109375\" x2=\"439.4262109375\" y1=\"525.0\" y2=\"535.0\" stroke=\"black\" stroke-width=\"3\" /><rect x=\"10.0\" y=\"25.0\" width=\"44.49359375\" height=\"40\" stroke=\"black\" fill=\"white\" stroke-width=\"0\" /><text x=\"32.246796875\" y=\"45.0\" dominant-baseline=\"middle\" text-anchor=\"middle\" font-size=\"14px\">(0, 0): </text><rect x=\"10.0\" y=\"75.0\" width=\"44.49359375\" height=\"40\" stroke=\"black\" fill=\"white\" stroke-width=\"0\" /><text x=\"32.246796875\" y=\"95.0\" dominant-baseline=\"middle\" text-anchor=\"middle\" font-size=\"14px\">(0, 1): </text><rect x=\"10.0\" y=\"125.0\" width=\"44.49359375\" height=\"40\" stroke=\"black\" fill=\"white\" stroke-width=\"0\" /><text x=\"32.246796875\" y=\"145.0\" dominant-baseline=\"middle\" text-anchor=\"middle\" font-size=\"14px\">(0, 2): </text><rect x=\"10.0\" y=\"175.0\" width=\"44.49359375\" height=\"40\" stroke=\"black\" fill=\"white\" stroke-width=\"0\" /><text x=\"32.246796875\" y=\"195.0\" dominant-baseline=\"middle\" text-anchor=\"middle\" font-size=\"14px\">(0, 3): </text><rect x=\"10.0\" y=\"225.0\" width=\"44.49359375\" height=\"40\" stroke=\"black\" fill=\"white\" stroke-width=\"0\" /><text x=\"32.246796875\" y=\"245.0\" dominant-baseline=\"middle\" text-anchor=\"middle\" font-size=\"14px\">(0, 4): </text><rect x=\"10.0\" y=\"275.0\" width=\"44.49359375\" height=\"40\" stroke=\"black\" fill=\"white\" stroke-width=\"0\" /><text x=\"32.246796875\" y=\"295.0\" dominant-baseline=\"middle\" text-anchor=\"middle\" font-size=\"14px\">(0, 5): </text><rect x=\"10.0\" y=\"325.0\" width=\"44.49359375\" height=\"40\" stroke=\"black\" fill=\"white\" stroke-width=\"0\" /><text x=\"32.246796875\" y=\"345.0\" dominant-baseline=\"middle\" text-anchor=\"middle\" font-size=\"14px\">(0, 6): </text><rect x=\"10.0\" y=\"375.0\" width=\"44.49359375\" height=\"40\" stroke=\"black\" fill=\"white\" stroke-width=\"0\" /><text x=\"32.246796875\" y=\"395.0\" dominant-baseline=\"middle\" text-anchor=\"middle\" font-size=\"14px\">(0, 7): </text><rect x=\"10.0\" y=\"425.0\" width=\"44.49359375\" height=\"40\" stroke=\"black\" fill=\"white\" stroke-width=\"0\" /><text x=\"32.246796875\" y=\"445.0\" dominant-baseline=\"middle\" text-anchor=\"middle\" font-size=\"14px\">(0, 8): </text><rect x=\"10.0\" y=\"475.0\" width=\"44.49359375\" height=\"40\" stroke=\"black\" fill=\"white\" stroke-width=\"0\" /><text x=\"32.246796875\" y=\"495.0\" dominant-baseline=\"middle\" text-anchor=\"middle\" font-size=\"14px\">(0, 9): </text><rect x=\"74.49359375\" y=\"25.0\" width=\"40\" height=\"40\" stroke=\"black\" fill=\"white\" stroke-width=\"1\" /><text x=\"94.49359375\" y=\"45.0\" dominant-baseline=\"middle\" text-anchor=\"middle\" font-size=\"18px\">H</text><rect x=\"74.49359375\" y=\"75.0\" width=\"40\" height=\"40\" stroke=\"black\" fill=\"white\" stroke-width=\"1\" /><text x=\"94.49359375\" y=\"95.0\" dominant-baseline=\"middle\" text-anchor=\"middle\" font-size=\"18px\">H</text><rect x=\"74.49359375\" y=\"125.0\" width=\"40\" height=\"40\" stroke=\"black\" fill=\"white\" stroke-width=\"1\" /><text x=\"94.49359375\" y=\"145.0\" dominant-baseline=\"middle\" text-anchor=\"middle\" font-size=\"18px\">H</text><rect x=\"74.49359375\" y=\"175.0\" width=\"40\" height=\"40\" stroke=\"black\" fill=\"white\" stroke-width=\"1\" /><text x=\"94.49359375\" y=\"195.0\" dominant-baseline=\"middle\" text-anchor=\"middle\" font-size=\"18px\">H</text><rect x=\"74.49359375\" y=\"225.0\" width=\"40\" height=\"40\" stroke=\"black\" fill=\"white\" stroke-width=\"1\" /><text x=\"94.49359375\" y=\"245.0\" dominant-baseline=\"middle\" text-anchor=\"middle\" font-size=\"18px\">H</text><rect x=\"74.49359375\" y=\"275.0\" width=\"40\" height=\"40\" stroke=\"black\" fill=\"white\" stroke-width=\"1\" /><text x=\"94.49359375\" y=\"295.0\" dominant-baseline=\"middle\" text-anchor=\"middle\" font-size=\"18px\">H</text><rect x=\"74.49359375\" y=\"325.0\" width=\"40\" height=\"40\" stroke=\"black\" fill=\"white\" stroke-width=\"1\" /><text x=\"94.49359375\" y=\"345.0\" dominant-baseline=\"middle\" text-anchor=\"middle\" font-size=\"18px\">H</text><rect x=\"74.49359375\" y=\"375.0\" width=\"40\" height=\"40\" stroke=\"black\" fill=\"white\" stroke-width=\"1\" /><text x=\"94.49359375\" y=\"395.0\" dominant-baseline=\"middle\" text-anchor=\"middle\" font-size=\"18px\">H</text><rect x=\"74.49359375\" y=\"425.0\" width=\"40\" height=\"40\" stroke=\"black\" fill=\"white\" stroke-width=\"1\" /><text x=\"94.49359375\" y=\"445.0\" dominant-baseline=\"middle\" text-anchor=\"middle\" font-size=\"18px\">H</text><rect x=\"74.49359375\" y=\"475.0\" width=\"40\" height=\"40\" stroke=\"black\" fill=\"white\" stroke-width=\"1\" /><text x=\"94.49359375\" y=\"495.0\" dominant-baseline=\"middle\" text-anchor=\"middle\" font-size=\"18px\">H</text><rect x=\"134.49359375\" y=\"25.0\" width=\"94.9775390625\" height=\"40\" stroke=\"black\" fill=\"white\" stroke-width=\"1\" /><text x=\"181.98236328125\" y=\"45.0\" dominant-baseline=\"middle\" text-anchor=\"middle\" font-size=\"14px\">ZZ</text><rect x=\"134.49359375\" y=\"75.0\" width=\"94.9775390625\" height=\"40\" stroke=\"black\" fill=\"white\" stroke-width=\"1\" /><text x=\"181.98236328125\" y=\"95.0\" dominant-baseline=\"middle\" text-anchor=\"middle\" font-size=\"14px\">ZZ^gamma_0</text><rect x=\"239.4711328125\" y=\"25.0\" width=\"94.9775390625\" height=\"40\" stroke=\"black\" fill=\"white\" stroke-width=\"1\" /><text x=\"286.95990234375\" y=\"45.0\" dominant-baseline=\"middle\" text-anchor=\"middle\" font-size=\"14px\">ZZ</text><rect x=\"239.4711328125\" y=\"375.0\" width=\"94.9775390625\" height=\"40\" stroke=\"black\" fill=\"white\" stroke-width=\"1\" /><text x=\"286.95990234375\" y=\"395.0\" dominant-baseline=\"middle\" text-anchor=\"middle\" font-size=\"14px\">ZZ^gamma_0</text><rect x=\"334.448671875\" y=\"75.0\" width=\"94.9775390625\" height=\"40\" stroke=\"black\" fill=\"white\" stroke-width=\"1\" /><text x=\"381.93744140625\" y=\"95.0\" dominant-baseline=\"middle\" text-anchor=\"middle\" font-size=\"14px\">ZZ</text><rect x=\"334.448671875\" y=\"175.0\" width=\"94.9775390625\" height=\"40\" stroke=\"black\" fill=\"white\" stroke-width=\"1\" /><text x=\"381.93744140625\" y=\"195.0\" dominant-baseline=\"middle\" text-anchor=\"middle\" font-size=\"14px\">ZZ^gamma_0</text><rect x=\"449.4262109375\" y=\"25.0\" width=\"94.9775390625\" height=\"40\" stroke=\"black\" fill=\"white\" stroke-width=\"1\" /><text x=\"496.91498046875\" y=\"45.0\" dominant-baseline=\"middle\" text-anchor=\"middle\" font-size=\"14px\">ZZ</text><rect x=\"449.4262109375\" y=\"475.0\" width=\"94.9775390625\" height=\"40\" stroke=\"black\" fill=\"white\" stroke-width=\"1\" /><text x=\"496.91498046875\" y=\"495.0\" dominant-baseline=\"middle\" text-anchor=\"middle\" font-size=\"14px\">ZZ^gamma_0</text><rect x=\"544.40375\" y=\"75.0\" width=\"94.9775390625\" height=\"40\" stroke=\"black\" fill=\"white\" stroke-width=\"1\" /><text x=\"591.89251953125\" y=\"95.0\" dominant-baseline=\"middle\" text-anchor=\"middle\" font-size=\"14px\">ZZ</text><rect x=\"544.40375\" y=\"425.0\" width=\"94.9775390625\" height=\"40\" stroke=\"black\" fill=\"white\" stroke-width=\"1\" /><text x=\"591.89251953125\" y=\"445.0\" dominant-baseline=\"middle\" text-anchor=\"middle\" font-size=\"14px\">ZZ^gamma_0</text><rect x=\"639.3812890625\" y=\"225.0\" width=\"94.9775390625\" height=\"40\" stroke=\"black\" fill=\"white\" stroke-width=\"1\" /><text x=\"686.87005859375\" y=\"245.0\" dominant-baseline=\"middle\" text-anchor=\"middle\" font-size=\"14px\">ZZ</text><rect x=\"639.3812890625\" y=\"375.0\" width=\"94.9775390625\" height=\"40\" stroke=\"black\" fill=\"white\" stroke-width=\"1\" /><text x=\"686.87005859375\" y=\"395.0\" dominant-baseline=\"middle\" text-anchor=\"middle\" font-size=\"14px\">ZZ^gamma_0</text><rect x=\"754.358828125\" y=\"225.0\" width=\"94.9775390625\" height=\"40\" stroke=\"black\" fill=\"white\" stroke-width=\"1\" /><text x=\"801.84759765625\" y=\"245.0\" dominant-baseline=\"middle\" text-anchor=\"middle\" font-size=\"14px\">ZZ</text><rect x=\"754.358828125\" y=\"425.0\" width=\"94.9775390625\" height=\"40\" stroke=\"black\" fill=\"white\" stroke-width=\"1\" /><text x=\"801.84759765625\" y=\"445.0\" dominant-baseline=\"middle\" text-anchor=\"middle\" font-size=\"14px\">ZZ^gamma_0</text><rect x=\"849.3363671875\" y=\"375.0\" width=\"94.9775390625\" height=\"40\" stroke=\"black\" fill=\"white\" stroke-width=\"1\" /><text x=\"896.82513671875\" y=\"395.0\" dominant-baseline=\"middle\" text-anchor=\"middle\" font-size=\"14px\">ZZ^gamma_0</text><rect x=\"849.3363671875\" y=\"325.0\" width=\"94.9775390625\" height=\"40\" stroke=\"black\" fill=\"white\" stroke-width=\"1\" /><text x=\"896.82513671875\" y=\"345.0\" dominant-baseline=\"middle\" text-anchor=\"middle\" font-size=\"14px\">ZZ</text><rect x=\"754.358828125\" y=\"25.0\" width=\"94.9775390625\" height=\"40\" stroke=\"black\" fill=\"white\" stroke-width=\"1\" /><text x=\"801.84759765625\" y=\"45.0\" dominant-baseline=\"middle\" text-anchor=\"middle\" font-size=\"14px\">X^beta_0</text><rect x=\"754.358828125\" y=\"75.0\" width=\"94.9775390625\" height=\"40\" stroke=\"black\" fill=\"white\" stroke-width=\"1\" /><text x=\"801.84759765625\" y=\"95.0\" dominant-baseline=\"middle\" text-anchor=\"middle\" font-size=\"14px\">X^beta_0</text><rect x=\"964.31390625\" y=\"225.0\" width=\"94.9775390625\" height=\"40\" stroke=\"black\" fill=\"white\" stroke-width=\"1\" /><text x=\"1011.80267578125\" y=\"245.0\" dominant-baseline=\"middle\" text-anchor=\"middle\" font-size=\"14px\">ZZ</text><rect x=\"964.31390625\" y=\"275.0\" width=\"94.9775390625\" height=\"40\" stroke=\"black\" fill=\"white\" stroke-width=\"1\" /><text x=\"1011.80267578125\" y=\"295.0\" dominant-baseline=\"middle\" text-anchor=\"middle\" font-size=\"14px\">ZZ^gamma_0</text><rect x=\"1059.2914453125\" y=\"125.0\" width=\"94.9775390625\" height=\"40\" stroke=\"black\" fill=\"white\" stroke-width=\"1\" /><text x=\"1106.78021484375\" y=\"145.0\" dominant-baseline=\"middle\" text-anchor=\"middle\" font-size=\"14px\">ZZ</text><rect x=\"1059.2914453125\" y=\"325.0\" width=\"94.9775390625\" height=\"40\" stroke=\"black\" fill=\"white\" stroke-width=\"1\" /><text x=\"1106.78021484375\" y=\"345.0\" dominant-baseline=\"middle\" text-anchor=\"middle\" font-size=\"14px\">ZZ^gamma_0</text><rect x=\"1154.268984375\" y=\"175.0\" width=\"94.9775390625\" height=\"40\" stroke=\"black\" fill=\"white\" stroke-width=\"1\" /><text x=\"1201.75775390625\" y=\"195.0\" dominant-baseline=\"middle\" text-anchor=\"middle\" font-size=\"14px\">ZZ</text><rect x=\"1154.268984375\" y=\"425.0\" width=\"94.9775390625\" height=\"40\" stroke=\"black\" fill=\"white\" stroke-width=\"1\" /><text x=\"1201.75775390625\" y=\"445.0\" dominant-baseline=\"middle\" text-anchor=\"middle\" font-size=\"14px\">ZZ^gamma_0</text><rect x=\"964.31390625\" y=\"375.0\" width=\"94.9775390625\" height=\"40\" stroke=\"black\" fill=\"white\" stroke-width=\"1\" /><text x=\"1011.80267578125\" y=\"395.0\" dominant-baseline=\"middle\" text-anchor=\"middle\" font-size=\"14px\">X^beta_0</text><rect x=\"964.31390625\" y=\"25.0\" width=\"94.9775390625\" height=\"40\" stroke=\"black\" fill=\"white\" stroke-width=\"1\" /><text x=\"1011.80267578125\" y=\"45.0\" dominant-baseline=\"middle\" text-anchor=\"middle\" font-size=\"14px\">ZZ</text><rect x=\"964.31390625\" y=\"75.0\" width=\"94.9775390625\" height=\"40\" stroke=\"black\" fill=\"white\" stroke-width=\"1\" /><text x=\"1011.80267578125\" y=\"95.0\" dominant-baseline=\"middle\" text-anchor=\"middle\" font-size=\"14px\">ZZ^gamma_1</text><rect x=\"1269.2465234375\" y=\"125.0\" width=\"94.9775390625\" height=\"40\" stroke=\"black\" fill=\"white\" stroke-width=\"1\" /><text x=\"1316.73529296875\" y=\"145.0\" dominant-baseline=\"middle\" text-anchor=\"middle\" font-size=\"14px\">ZZ</text><rect x=\"1269.2465234375\" y=\"475.0\" width=\"94.9775390625\" height=\"40\" stroke=\"black\" fill=\"white\" stroke-width=\"1\" /><text x=\"1316.73529296875\" y=\"495.0\" dominant-baseline=\"middle\" text-anchor=\"middle\" font-size=\"14px\">ZZ^gamma_0</text><rect x=\"1364.2240625\" y=\"225.0\" width=\"67.99609375\" height=\"40\" stroke=\"black\" fill=\"white\" stroke-width=\"1\" /><text x=\"1398.222109375\" y=\"245.0\" dominant-baseline=\"middle\" text-anchor=\"middle\" font-size=\"14px\">X^beta_0</text><rect x=\"1364.2240625\" y=\"425.0\" width=\"67.99609375\" height=\"40\" stroke=\"black\" fill=\"white\" stroke-width=\"1\" /><text x=\"1398.222109375\" y=\"445.0\" dominant-baseline=\"middle\" text-anchor=\"middle\" font-size=\"14px\">X^beta_0</text><rect x=\"1432.22015625\" y=\"25.0\" width=\"93.0766015625\" height=\"40\" stroke=\"black\" fill=\"white\" stroke-width=\"1\" /><text x=\"1478.75845703125\" y=\"45.0\" dominant-baseline=\"middle\" text-anchor=\"middle\" font-size=\"14px\">ZZ</text><rect x=\"1432.22015625\" y=\"375.0\" width=\"93.0766015625\" height=\"40\" stroke=\"black\" fill=\"white\" stroke-width=\"1\" /><text x=\"1478.75845703125\" y=\"395.0\" dominant-baseline=\"middle\" text-anchor=\"middle\" font-size=\"14px\">ZZ^gamma_1</text><rect x=\"1545.2967578125\" y=\"125.0\" width=\"94.9775390625\" height=\"40\" stroke=\"black\" fill=\"white\" stroke-width=\"1\" /><text x=\"1592.78552734375\" y=\"145.0\" dominant-baseline=\"middle\" text-anchor=\"middle\" font-size=\"14px\">ZZ</text><rect x=\"1545.2967578125\" y=\"275.0\" width=\"94.9775390625\" height=\"40\" stroke=\"black\" fill=\"white\" stroke-width=\"1\" /><text x=\"1592.78552734375\" y=\"295.0\" dominant-baseline=\"middle\" text-anchor=\"middle\" font-size=\"14px\">ZZ^gamma_0</text><rect x=\"1640.274296875\" y=\"175.0\" width=\"94.9775390625\" height=\"40\" stroke=\"black\" fill=\"white\" stroke-width=\"1\" /><text x=\"1687.76306640625\" y=\"195.0\" dominant-baseline=\"middle\" text-anchor=\"middle\" font-size=\"14px\">ZZ</text><rect x=\"1640.274296875\" y=\"475.0\" width=\"94.9775390625\" height=\"40\" stroke=\"black\" fill=\"white\" stroke-width=\"1\" /><text x=\"1687.76306640625\" y=\"495.0\" dominant-baseline=\"middle\" text-anchor=\"middle\" font-size=\"14px\">ZZ^gamma_0</text><rect x=\"1735.2518359375\" y=\"225.0\" width=\"93.0766015625\" height=\"40\" stroke=\"black\" fill=\"white\" stroke-width=\"1\" /><text x=\"1781.7901367187499\" y=\"245.0\" dominant-baseline=\"middle\" text-anchor=\"middle\" font-size=\"14px\">ZZ</text><rect x=\"1735.2518359375\" y=\"375.0\" width=\"93.0766015625\" height=\"40\" stroke=\"black\" fill=\"white\" stroke-width=\"1\" /><text x=\"1781.7901367187499\" y=\"395.0\" dominant-baseline=\"middle\" text-anchor=\"middle\" font-size=\"14px\">ZZ^gamma_1</text><rect x=\"1858.3284374999998\" y=\"325.0\" width=\"94.9775390625\" height=\"40\" stroke=\"black\" fill=\"white\" stroke-width=\"1\" /><text x=\"1905.8172070312498\" y=\"345.0\" dominant-baseline=\"middle\" text-anchor=\"middle\" font-size=\"14px\">ZZ^gamma_0</text><rect x=\"1858.3284374999998\" y=\"275.0\" width=\"94.9775390625\" height=\"40\" stroke=\"black\" fill=\"white\" stroke-width=\"1\" /><text x=\"1905.8172070312498\" y=\"295.0\" dominant-baseline=\"middle\" text-anchor=\"middle\" font-size=\"14px\">ZZ</text><rect x=\"1858.3284374999998\" y=\"125.0\" width=\"94.9775390625\" height=\"40\" stroke=\"black\" fill=\"white\" stroke-width=\"1\" /><text x=\"1905.8172070312498\" y=\"145.0\" dominant-baseline=\"middle\" text-anchor=\"middle\" font-size=\"14px\">X^beta_0</text><rect x=\"1858.3284374999998\" y=\"175.0\" width=\"94.9775390625\" height=\"40\" stroke=\"black\" fill=\"white\" stroke-width=\"1\" /><text x=\"1905.8172070312498\" y=\"195.0\" dominant-baseline=\"middle\" text-anchor=\"middle\" font-size=\"14px\">X^beta_0</text><rect x=\"1858.3284374999998\" y=\"475.0\" width=\"94.9775390625\" height=\"40\" stroke=\"black\" fill=\"white\" stroke-width=\"1\" /><text x=\"1905.8172070312498\" y=\"495.0\" dominant-baseline=\"middle\" text-anchor=\"middle\" font-size=\"14px\">X^beta_0</text><rect x=\"1963.3059765624998\" y=\"325.0\" width=\"93.0766015625\" height=\"40\" stroke=\"black\" fill=\"white\" stroke-width=\"1\" /><text x=\"2009.8442773437498\" y=\"345.0\" dominant-baseline=\"middle\" text-anchor=\"middle\" font-size=\"14px\">X^beta_0</text><rect x=\"1963.3059765624998\" y=\"275.0\" width=\"93.0766015625\" height=\"40\" stroke=\"black\" fill=\"white\" stroke-width=\"1\" /><text x=\"2009.8442773437498\" y=\"295.0\" dominant-baseline=\"middle\" text-anchor=\"middle\" font-size=\"14px\">X^beta_0</text><rect x=\"2056.382578125\" y=\"25.0\" width=\"93.0766015625\" height=\"40\" stroke=\"black\" fill=\"white\" stroke-width=\"1\" /><text x=\"2102.92087890625\" y=\"45.0\" dominant-baseline=\"middle\" text-anchor=\"middle\" font-size=\"14px\">ZZ</text><rect x=\"2056.382578125\" y=\"475.0\" width=\"93.0766015625\" height=\"40\" stroke=\"black\" fill=\"white\" stroke-width=\"1\" /><text x=\"2102.92087890625\" y=\"495.0\" dominant-baseline=\"middle\" text-anchor=\"middle\" font-size=\"14px\">ZZ^gamma_1</text><rect x=\"1963.3059765624998\" y=\"75.0\" width=\"93.0766015625\" height=\"40\" stroke=\"black\" fill=\"white\" stroke-width=\"1\" /><text x=\"2009.8442773437498\" y=\"95.0\" dominant-baseline=\"middle\" text-anchor=\"middle\" font-size=\"14px\">ZZ</text><rect x=\"1963.3059765624998\" y=\"175.0\" width=\"93.0766015625\" height=\"40\" stroke=\"black\" fill=\"white\" stroke-width=\"1\" /><text x=\"2009.8442773437498\" y=\"195.0\" dominant-baseline=\"middle\" text-anchor=\"middle\" font-size=\"14px\">ZZ^gamma_1</text><rect x=\"2169.4591796874997\" y=\"75.0\" width=\"93.0766015625\" height=\"40\" stroke=\"black\" fill=\"white\" stroke-width=\"1\" /><text x=\"2215.99748046875\" y=\"95.0\" dominant-baseline=\"middle\" text-anchor=\"middle\" font-size=\"14px\">ZZ</text><rect x=\"2169.4591796874997\" y=\"425.0\" width=\"93.0766015625\" height=\"40\" stroke=\"black\" fill=\"white\" stroke-width=\"1\" /><text x=\"2215.99748046875\" y=\"445.0\" dominant-baseline=\"middle\" text-anchor=\"middle\" font-size=\"14px\">ZZ^gamma_1</text><rect x=\"2262.5357812499997\" y=\"375.0\" width=\"93.0766015625\" height=\"40\" stroke=\"black\" fill=\"white\" stroke-width=\"1\" /><text x=\"2309.07408203125\" y=\"395.0\" dominant-baseline=\"middle\" text-anchor=\"middle\" font-size=\"14px\">ZZ^gamma_1</text><rect x=\"2262.5357812499997\" y=\"325.0\" width=\"93.0766015625\" height=\"40\" stroke=\"black\" fill=\"white\" stroke-width=\"1\" /><text x=\"2309.07408203125\" y=\"345.0\" dominant-baseline=\"middle\" text-anchor=\"middle\" font-size=\"14px\">ZZ</text><rect x=\"2169.4591796874997\" y=\"25.0\" width=\"93.0766015625\" height=\"40\" stroke=\"black\" fill=\"white\" stroke-width=\"1\" /><text x=\"2215.99748046875\" y=\"45.0\" dominant-baseline=\"middle\" text-anchor=\"middle\" font-size=\"14px\">X^beta_1</text><rect x=\"2375.6123828124996\" y=\"225.0\" width=\"93.0766015625\" height=\"40\" stroke=\"black\" fill=\"white\" stroke-width=\"1\" /><text x=\"2422.15068359375\" y=\"245.0\" dominant-baseline=\"middle\" text-anchor=\"middle\" font-size=\"14px\">ZZ</text><rect x=\"2375.6123828124996\" y=\"425.0\" width=\"93.0766015625\" height=\"40\" stroke=\"black\" fill=\"white\" stroke-width=\"1\" /><text x=\"2422.15068359375\" y=\"445.0\" dominant-baseline=\"middle\" text-anchor=\"middle\" font-size=\"14px\">ZZ^gamma_1</text><rect x=\"2468.6889843749996\" y=\"125.0\" width=\"93.0766015625\" height=\"40\" stroke=\"black\" fill=\"white\" stroke-width=\"1\" /><text x=\"2515.2272851562498\" y=\"145.0\" dominant-baseline=\"middle\" text-anchor=\"middle\" font-size=\"14px\">ZZ</text><rect x=\"2468.6889843749996\" y=\"325.0\" width=\"93.0766015625\" height=\"40\" stroke=\"black\" fill=\"white\" stroke-width=\"1\" /><text x=\"2515.2272851562498\" y=\"345.0\" dominant-baseline=\"middle\" text-anchor=\"middle\" font-size=\"14px\">ZZ^gamma_1</text><rect x=\"2375.6123828124996\" y=\"75.0\" width=\"93.0766015625\" height=\"40\" stroke=\"black\" fill=\"white\" stroke-width=\"1\" /><text x=\"2422.15068359375\" y=\"95.0\" dominant-baseline=\"middle\" text-anchor=\"middle\" font-size=\"14px\">X^beta_1</text><rect x=\"2468.6889843749996\" y=\"375.0\" width=\"93.0766015625\" height=\"40\" stroke=\"black\" fill=\"white\" stroke-width=\"1\" /><text x=\"2515.2272851562498\" y=\"395.0\" dominant-baseline=\"middle\" text-anchor=\"middle\" font-size=\"14px\">X^beta_1</text><rect x=\"2581.7655859374995\" y=\"225.0\" width=\"93.0766015625\" height=\"40\" stroke=\"black\" fill=\"white\" stroke-width=\"1\" /><text x=\"2628.3038867187497\" y=\"245.0\" dominant-baseline=\"middle\" text-anchor=\"middle\" font-size=\"14px\">ZZ</text><rect x=\"2581.7655859374995\" y=\"275.0\" width=\"93.0766015625\" height=\"40\" stroke=\"black\" fill=\"white\" stroke-width=\"1\" /><text x=\"2628.3038867187497\" y=\"295.0\" dominant-baseline=\"middle\" text-anchor=\"middle\" font-size=\"14px\">ZZ^gamma_1</text><rect x=\"2674.8421874999995\" y=\"125.0\" width=\"93.0766015625\" height=\"40\" stroke=\"black\" fill=\"white\" stroke-width=\"1\" /><text x=\"2721.3804882812497\" y=\"145.0\" dominant-baseline=\"middle\" text-anchor=\"middle\" font-size=\"14px\">ZZ</text><rect x=\"2674.8421874999995\" y=\"475.0\" width=\"93.0766015625\" height=\"40\" stroke=\"black\" fill=\"white\" stroke-width=\"1\" /><text x=\"2721.3804882812497\" y=\"495.0\" dominant-baseline=\"middle\" text-anchor=\"middle\" font-size=\"14px\">ZZ^gamma_1</text><rect x=\"2767.9187890624994\" y=\"175.0\" width=\"93.0766015625\" height=\"40\" stroke=\"black\" fill=\"white\" stroke-width=\"1\" /><text x=\"2814.4570898437496\" y=\"195.0\" dominant-baseline=\"middle\" text-anchor=\"middle\" font-size=\"14px\">ZZ</text><rect x=\"2767.9187890624994\" y=\"425.0\" width=\"93.0766015625\" height=\"40\" stroke=\"black\" fill=\"white\" stroke-width=\"1\" /><text x=\"2814.4570898437496\" y=\"445.0\" dominant-baseline=\"middle\" text-anchor=\"middle\" font-size=\"14px\">ZZ^gamma_1</text><rect x=\"2880.9953906249993\" y=\"125.0\" width=\"93.0766015625\" height=\"40\" stroke=\"black\" fill=\"white\" stroke-width=\"1\" /><text x=\"2927.5336914062495\" y=\"145.0\" dominant-baseline=\"middle\" text-anchor=\"middle\" font-size=\"14px\">ZZ</text><rect x=\"2880.9953906249993\" y=\"275.0\" width=\"93.0766015625\" height=\"40\" stroke=\"black\" fill=\"white\" stroke-width=\"1\" /><text x=\"2927.5336914062495\" y=\"295.0\" dominant-baseline=\"middle\" text-anchor=\"middle\" font-size=\"14px\">ZZ^gamma_1</text><rect x=\"2974.0719921874993\" y=\"175.0\" width=\"93.0766015625\" height=\"40\" stroke=\"black\" fill=\"white\" stroke-width=\"1\" /><text x=\"3020.6102929687495\" y=\"195.0\" dominant-baseline=\"middle\" text-anchor=\"middle\" font-size=\"14px\">ZZ</text><rect x=\"2974.0719921874993\" y=\"475.0\" width=\"93.0766015625\" height=\"40\" stroke=\"black\" fill=\"white\" stroke-width=\"1\" /><text x=\"3020.6102929687495\" y=\"495.0\" dominant-baseline=\"middle\" text-anchor=\"middle\" font-size=\"14px\">ZZ^gamma_1</text><rect x=\"3067.1485937499992\" y=\"225.0\" width=\"66.09515625\" height=\"40\" stroke=\"black\" fill=\"white\" stroke-width=\"1\" /><text x=\"3100.1961718749994\" y=\"245.0\" dominant-baseline=\"middle\" text-anchor=\"middle\" font-size=\"14px\">X^beta_1</text><rect x=\"2880.9953906249993\" y=\"425.0\" width=\"93.0766015625\" height=\"40\" stroke=\"black\" fill=\"white\" stroke-width=\"1\" /><text x=\"2927.5336914062495\" y=\"445.0\" dominant-baseline=\"middle\" text-anchor=\"middle\" font-size=\"14px\">X^beta_1</text><rect x=\"3163.243749999999\" y=\"325.0\" width=\"93.0766015625\" height=\"40\" stroke=\"black\" fill=\"white\" stroke-width=\"1\" /><text x=\"3209.7820507812494\" y=\"345.0\" dominant-baseline=\"middle\" text-anchor=\"middle\" font-size=\"14px\">ZZ^gamma_1</text><rect x=\"3163.243749999999\" y=\"275.0\" width=\"93.0766015625\" height=\"40\" stroke=\"black\" fill=\"white\" stroke-width=\"1\" /><text x=\"3209.7820507812494\" y=\"295.0\" dominant-baseline=\"middle\" text-anchor=\"middle\" font-size=\"14px\">ZZ</text><rect x=\"3163.243749999999\" y=\"125.0\" width=\"93.0766015625\" height=\"40\" stroke=\"black\" fill=\"white\" stroke-width=\"1\" /><text x=\"3209.7820507812494\" y=\"145.0\" dominant-baseline=\"middle\" text-anchor=\"middle\" font-size=\"14px\">X^beta_1</text><rect x=\"3163.243749999999\" y=\"175.0\" width=\"93.0766015625\" height=\"40\" stroke=\"black\" fill=\"white\" stroke-width=\"1\" /><text x=\"3209.7820507812494\" y=\"195.0\" dominant-baseline=\"middle\" text-anchor=\"middle\" font-size=\"14px\">X^beta_1</text><rect x=\"3163.243749999999\" y=\"475.0\" width=\"93.0766015625\" height=\"40\" stroke=\"black\" fill=\"white\" stroke-width=\"1\" /><text x=\"3209.7820507812494\" y=\"495.0\" dominant-baseline=\"middle\" text-anchor=\"middle\" font-size=\"14px\">X^beta_1</text><rect x=\"3276.320351562499\" y=\"325.0\" width=\"66.09515625\" height=\"40\" stroke=\"black\" fill=\"white\" stroke-width=\"1\" /><text x=\"3309.3679296874993\" y=\"345.0\" dominant-baseline=\"middle\" text-anchor=\"middle\" font-size=\"14px\">X^beta_1</text><rect x=\"3276.320351562499\" y=\"275.0\" width=\"66.09515625\" height=\"40\" stroke=\"black\" fill=\"white\" stroke-width=\"1\" /><text x=\"3309.3679296874993\" y=\"295.0\" dominant-baseline=\"middle\" text-anchor=\"middle\" font-size=\"14px\">X^beta_1</text></svg>"
      ],
      "text/plain": [
       "<cirq.contrib.svg.svg.SVGCircuit at 0x7fc863d78950>"
      ]
     },
     "execution_count": 34,
     "metadata": {},
     "output_type": "execute_result"
    }
   ],
   "source": [
    "graph_a = nx.random_regular_graph(n=10,d=3)\n",
    "maxcut_qaoa_circuit(graph_a, 2)"
   ]
  },
  {
   "cell_type": "markdown",
   "metadata": {},
   "source": [
    "## Alternate Method for $p>1$\n",
    "1. When we define the model and training data for the QAOA circuit, unlike regular ML models there are no training inputs or corresponding labels. We need to use the initial superposition ($H^{\\otimes N-1}|0>^{\\otimes N-1}$) as our input after converting it to a tensor for TFQ compatibility. \n",
    "2. I'm still working through how to get the initial maxcut_qaoa_graph definition to work with the TFQ framework, so for now I'm temporarily building up each part of the circuit needed, allowing me to easily pass them into the TFQ framework/ model:"
   ]
  },
  {
   "cell_type": "code",
   "execution_count": 9,
   "metadata": {},
   "outputs": [],
   "source": [
    "# Define initial superposition, H_(N-1)\n",
    "cirq_qubits = cirq.GridQubit.rect(1, 10)\n",
    "\n",
    "hadamard_circuit = cirq.Circuit()\n",
    "for node in graph_a.nodes():\n",
    "    qubit = cirq_qubits[node]\n",
    "    hadamard_circuit.append(cirq.H(qubit))"
   ]
  },
  {
   "cell_type": "code",
   "execution_count": 10,
   "metadata": {},
   "outputs": [],
   "source": [
    "# Define params\n",
    "qaoa_parameters = sympy.symbols('gamma0 beta0 gamma1 beta1')"
   ]
  },
  {
   "cell_type": "code",
   "execution_count": 11,
   "metadata": {},
   "outputs": [],
   "source": [
    "# define the the mixing and the cost Hamiltonian, H_M and H_P\n",
    "\n",
    "mixing_ham_1 = 0\n",
    "mixing_ham_2 = 0\n",
    "cost_ham_1 = graph_a.number_of_edges()/2\n",
    "cost_ham_2 = graph_a.number_of_edges()/2\n",
    "for node in graph_a.nodes():\n",
    "    qubit = cirq_qubits[node]\n",
    "    mixing_ham_1 += cirq.PauliString(cirq.X(qubit))\n",
    "\n",
    "for edge in graph_a.edges():\n",
    "    qubit1 = cirq_qubits[edge[0]]\n",
    "    qubit2 = cirq_qubits[edge[1]]\n",
    "    cost_ham_1 += cirq.PauliString(1/2*(cirq.Z(qubit1)*cirq.Z(qubit2)))\n",
    " \n",
    "for node in graph_a.nodes():\n",
    "    qubit = cirq_qubits[node]\n",
    "    mixing_ham_2 += cirq.PauliString(cirq.X(qubit))\n",
    "\n",
    "for edge in graph_a.edges():\n",
    "    qubit1 = cirq_qubits[edge[0]]\n",
    "    qubit2 = cirq_qubits[edge[1]]\n",
    "    cost_ham_2 += cirq.PauliString(1/2*(cirq.Z(qubit1)*cirq.Z(qubit2)))\n",
    "\n",
    "# generate the qaoa circuit\n",
    "qaoa_circuit = tfq.util.exponential(operators = [cost_ham_1, mixing_ham_1, cost_ham_2, mixing_ham_2], \n",
    "                                    coefficients = qaoa_parameters)"
   ]
  },
  {
   "cell_type": "code",
   "execution_count": 12,
   "metadata": {},
   "outputs": [],
   "source": [
    "# define the model and training data\n",
    "model_circuit, model_readout = qaoa_circuit, cost_ham_2\n",
    "input_ = [hadamard_circuit]\n",
    "input_ = tfq.convert_to_tensor(input_)\n",
    "optimum = [0]"
   ]
  },
  {
   "cell_type": "markdown",
   "metadata": {},
   "source": [
    "Shown here there are 4, or 2p, parameters to optimize here which agrees with our circuit depth of 2:"
   ]
  },
  {
   "cell_type": "code",
   "execution_count": 13,
   "metadata": {},
   "outputs": [
    {
     "name": "stdout",
     "output_type": "stream",
     "text": [
      "Model: \"sequential\"\n",
      "_________________________________________________________________\n",
      "Layer (type)                 Output Shape              Param #   \n",
      "=================================================================\n",
      "pqc (PQC)                    (None, 1)                 4         \n",
      "=================================================================\n",
      "Total params: 4\n",
      "Trainable params: 4\n",
      "Non-trainable params: 0\n",
      "_________________________________________________________________\n"
     ]
    }
   ],
   "source": [
    "# Build the Keras model.\n",
    "optimum=np.array(optimum)\n",
    "model = tf.keras.Sequential([\n",
    "    tf.keras.layers.Input(shape=(), dtype=tf.dtypes.string),  # Input layer for the hadamard circuit\n",
    "    tfq.layers.PQC(model_circuit, model_readout)\n",
    "])\n",
    "model.summary()"
   ]
  },
  {
   "cell_type": "markdown",
   "metadata": {},
   "source": [
    "We now compile the model, choosing the __loss, optimizer, and metric__ and as mentioned earlier the TFQ framework allows us to use GD, SGD, Adam, etc. as optimizers. Here we use the Adam optimizer:"
   ]
  },
  {
   "cell_type": "code",
   "execution_count": 14,
   "metadata": {},
   "outputs": [],
   "source": [
    "model.compile(loss=tf.keras.losses.mean_absolute_error,\n",
    "              optimizer=tf.keras.optimizers.Adam())"
   ]
  },
  {
   "cell_type": "markdown",
   "metadata": {},
   "source": [
    "Let's also create an early stopping mechanism to make the time the model needs to train more efficient"
   ]
  },
  {
   "cell_type": "code",
   "execution_count": 15,
   "metadata": {},
   "outputs": [],
   "source": [
    "# Create early stopping mechanism\n",
    "callback = tf.keras.callbacks.EarlyStopping(\n",
    "    monitor='loss', min_delta=0.005, patience=0, verbose=1)"
   ]
  },
  {
   "cell_type": "markdown",
   "metadata": {},
   "source": [
    "Now we fit/train the model with our Hadamard circuit as input and a desired loss of 0:"
   ]
  },
  {
   "cell_type": "code",
   "execution_count": 16,
   "metadata": {},
   "outputs": [
    {
     "name": "stdout",
     "output_type": "stream",
     "text": [
      "Train on 1 samples\n",
      "Epoch 1/600\n",
      "1/1 [==============================] - 1s 1s/sample - loss: 8.2207\n",
      "Epoch 2/600\n",
      "1/1 [==============================] - 0s 13ms/sample - loss: 8.2102\n",
      "Epoch 3/600\n",
      "1/1 [==============================] - 0s 15ms/sample - loss: 8.1997\n",
      "Epoch 4/600\n",
      "1/1 [==============================] - 0s 14ms/sample - loss: 8.1891\n",
      "Epoch 5/600\n",
      "1/1 [==============================] - 0s 15ms/sample - loss: 8.1786\n",
      "Epoch 6/600\n",
      "1/1 [==============================] - 0s 15ms/sample - loss: 8.1681\n",
      "Epoch 7/600\n",
      "1/1 [==============================] - 0s 15ms/sample - loss: 8.1575\n",
      "Epoch 8/600\n",
      "1/1 [==============================] - 0s 14ms/sample - loss: 8.1470\n",
      "Epoch 9/600\n",
      "1/1 [==============================] - 0s 14ms/sample - loss: 8.1365\n",
      "Epoch 10/600\n",
      "1/1 [==============================] - 0s 10ms/sample - loss: 8.1260\n",
      "Epoch 11/600\n",
      "1/1 [==============================] - 0s 12ms/sample - loss: 8.1154\n",
      "Epoch 12/600\n",
      "1/1 [==============================] - 0s 12ms/sample - loss: 8.1049\n",
      "Epoch 13/600\n",
      "1/1 [==============================] - 0s 10ms/sample - loss: 8.0944\n",
      "Epoch 14/600\n",
      "1/1 [==============================] - 0s 12ms/sample - loss: 8.0839\n",
      "Epoch 15/600\n",
      "1/1 [==============================] - 0s 10ms/sample - loss: 8.0735\n",
      "Epoch 16/600\n",
      "1/1 [==============================] - 0s 14ms/sample - loss: 8.0630\n",
      "Epoch 17/600\n",
      "1/1 [==============================] - 0s 14ms/sample - loss: 8.0526\n",
      "Epoch 18/600\n",
      "1/1 [==============================] - 0s 12ms/sample - loss: 8.0421\n",
      "Epoch 19/600\n",
      "1/1 [==============================] - 0s 15ms/sample - loss: 8.0317\n",
      "Epoch 20/600\n",
      "1/1 [==============================] - 0s 16ms/sample - loss: 8.0213\n",
      "Epoch 21/600\n",
      "1/1 [==============================] - 0s 13ms/sample - loss: 8.0110\n",
      "Epoch 22/600\n",
      "1/1 [==============================] - 0s 13ms/sample - loss: 8.0006\n",
      "Epoch 23/600\n",
      "1/1 [==============================] - 0s 14ms/sample - loss: 7.9903\n",
      "Epoch 24/600\n",
      "1/1 [==============================] - 0s 16ms/sample - loss: 7.9801\n",
      "Epoch 25/600\n",
      "1/1 [==============================] - 0s 12ms/sample - loss: 7.9698\n",
      "Epoch 26/600\n",
      "1/1 [==============================] - 0s 15ms/sample - loss: 7.9596\n",
      "Epoch 27/600\n",
      "1/1 [==============================] - 0s 13ms/sample - loss: 7.9494\n",
      "Epoch 28/600\n",
      "1/1 [==============================] - 0s 15ms/sample - loss: 7.9392\n",
      "Epoch 29/600\n",
      "1/1 [==============================] - 0s 11ms/sample - loss: 7.9291\n",
      "Epoch 30/600\n",
      "1/1 [==============================] - 0s 13ms/sample - loss: 7.9190\n",
      "Epoch 31/600\n",
      "1/1 [==============================] - 0s 14ms/sample - loss: 7.9090\n",
      "Epoch 32/600\n",
      "1/1 [==============================] - 0s 13ms/sample - loss: 7.8990\n",
      "Epoch 33/600\n",
      "1/1 [==============================] - 0s 15ms/sample - loss: 7.8891\n",
      "Epoch 34/600\n",
      "1/1 [==============================] - 0s 17ms/sample - loss: 7.8792\n",
      "Epoch 35/600\n",
      "1/1 [==============================] - 0s 14ms/sample - loss: 7.8693\n",
      "Epoch 36/600\n",
      "1/1 [==============================] - 0s 15ms/sample - loss: 7.8595\n",
      "Epoch 37/600\n",
      "1/1 [==============================] - 0s 15ms/sample - loss: 7.8498\n",
      "Epoch 38/600\n",
      "1/1 [==============================] - 0s 14ms/sample - loss: 7.8400\n",
      "Epoch 39/600\n",
      "1/1 [==============================] - 0s 11ms/sample - loss: 7.8304\n",
      "Epoch 40/600\n",
      "1/1 [==============================] - 0s 16ms/sample - loss: 7.8208\n",
      "Epoch 41/600\n",
      "1/1 [==============================] - 0s 12ms/sample - loss: 7.8113\n",
      "Epoch 42/600\n",
      "1/1 [==============================] - 0s 15ms/sample - loss: 7.8018\n",
      "Epoch 43/600\n",
      "1/1 [==============================] - 0s 15ms/sample - loss: 7.7924\n",
      "Epoch 44/600\n",
      "1/1 [==============================] - 0s 15ms/sample - loss: 7.7830\n",
      "Epoch 45/600\n",
      "1/1 [==============================] - 0s 16ms/sample - loss: 7.7738\n",
      "Epoch 46/600\n",
      "1/1 [==============================] - 0s 12ms/sample - loss: 7.7645\n",
      "Epoch 47/600\n",
      "1/1 [==============================] - 0s 10ms/sample - loss: 7.7554\n",
      "Epoch 48/600\n",
      "1/1 [==============================] - 0s 13ms/sample - loss: 7.7463\n",
      "Epoch 49/600\n",
      "1/1 [==============================] - 0s 15ms/sample - loss: 7.7373\n",
      "Epoch 50/600\n",
      "1/1 [==============================] - 0s 14ms/sample - loss: 7.7283\n",
      "Epoch 51/600\n",
      "1/1 [==============================] - 0s 13ms/sample - loss: 7.7195\n",
      "Epoch 52/600\n",
      "1/1 [==============================] - 0s 15ms/sample - loss: 7.7107\n",
      "Epoch 53/600\n",
      "1/1 [==============================] - 0s 12ms/sample - loss: 7.7019\n",
      "Epoch 54/600\n",
      "1/1 [==============================] - 0s 13ms/sample - loss: 7.6933\n",
      "Epoch 55/600\n",
      "1/1 [==============================] - 0s 15ms/sample - loss: 7.6847\n",
      "Epoch 56/600\n",
      "1/1 [==============================] - 0s 14ms/sample - loss: 7.6762\n",
      "Epoch 57/600\n",
      "1/1 [==============================] - 0s 16ms/sample - loss: 7.6678\n",
      "Epoch 58/600\n",
      "1/1 [==============================] - 0s 13ms/sample - loss: 7.6595\n",
      "Epoch 59/600\n",
      "1/1 [==============================] - 0s 13ms/sample - loss: 7.6512\n",
      "Epoch 60/600\n",
      "1/1 [==============================] - 0s 14ms/sample - loss: 7.6431\n",
      "Epoch 61/600\n",
      "1/1 [==============================] - 0s 12ms/sample - loss: 7.6350\n",
      "Epoch 62/600\n",
      "1/1 [==============================] - 0s 14ms/sample - loss: 7.6270\n",
      "Epoch 63/600\n",
      "1/1 [==============================] - 0s 15ms/sample - loss: 7.6190\n",
      "Epoch 64/600\n",
      "1/1 [==============================] - 0s 16ms/sample - loss: 7.6112\n",
      "Epoch 65/600\n",
      "1/1 [==============================] - 0s 13ms/sample - loss: 7.6034\n",
      "Epoch 66/600\n",
      "1/1 [==============================] - 0s 16ms/sample - loss: 7.5958\n",
      "Epoch 67/600\n",
      "1/1 [==============================] - 0s 15ms/sample - loss: 7.5882\n",
      "Epoch 68/600\n",
      "1/1 [==============================] - 0s 15ms/sample - loss: 7.5807\n",
      "Epoch 69/600\n",
      "1/1 [==============================] - 0s 16ms/sample - loss: 7.5733\n",
      "Epoch 70/600\n",
      "1/1 [==============================] - 0s 14ms/sample - loss: 7.5659\n",
      "Epoch 71/600\n",
      "1/1 [==============================] - 0s 14ms/sample - loss: 7.5587\n",
      "Epoch 72/600\n",
      "1/1 [==============================] - 0s 12ms/sample - loss: 7.5515\n",
      "Epoch 73/600\n",
      "1/1 [==============================] - 0s 13ms/sample - loss: 7.5445\n",
      "Epoch 74/600\n",
      "1/1 [==============================] - 0s 15ms/sample - loss: 7.5375\n",
      "Epoch 75/600\n",
      "1/1 [==============================] - 0s 12ms/sample - loss: 7.5306\n",
      "Epoch 76/600\n",
      "1/1 [==============================] - 0s 13ms/sample - loss: 7.5238\n",
      "Epoch 77/600\n",
      "1/1 [==============================] - 0s 12ms/sample - loss: 7.5170\n",
      "Epoch 78/600\n",
      "1/1 [==============================] - 0s 12ms/sample - loss: 7.5104\n",
      "Epoch 79/600\n",
      "1/1 [==============================] - 0s 14ms/sample - loss: 7.5038\n",
      "Epoch 80/600\n",
      "1/1 [==============================] - 0s 13ms/sample - loss: 7.4974\n",
      "Epoch 81/600\n",
      "1/1 [==============================] - 0s 12ms/sample - loss: 7.4910\n",
      "Epoch 82/600\n",
      "1/1 [==============================] - 0s 12ms/sample - loss: 7.4847\n",
      "Epoch 83/600\n",
      "1/1 [==============================] - 0s 11ms/sample - loss: 7.4785\n",
      "Epoch 84/600\n",
      "1/1 [==============================] - 0s 14ms/sample - loss: 7.4723\n",
      "Epoch 85/600\n",
      "1/1 [==============================] - 0s 12ms/sample - loss: 7.4663\n",
      "Epoch 86/600\n",
      "1/1 [==============================] - 0s 13ms/sample - loss: 7.4603\n",
      "Epoch 87/600\n",
      "1/1 [==============================] - 0s 11ms/sample - loss: 7.4544\n",
      "Epoch 88/600\n",
      "1/1 [==============================] - 0s 14ms/sample - loss: 7.4486\n",
      "Epoch 89/600\n",
      "1/1 [==============================] - 0s 11ms/sample - loss: 7.4429\n",
      "Epoch 90/600\n",
      "1/1 [==============================] - 0s 10ms/sample - loss: 7.4372\n",
      "Epoch 91/600\n",
      "1/1 [==============================] - 0s 12ms/sample - loss: 7.4317\n",
      "Epoch 92/600\n",
      "1/1 [==============================] - 0s 12ms/sample - loss: 7.4262\n",
      "Epoch 93/600\n",
      "1/1 [==============================] - 0s 11ms/sample - loss: 7.4208\n",
      "Epoch 94/600\n",
      "1/1 [==============================] - 0s 13ms/sample - loss: 7.4154\n",
      "Epoch 95/600\n",
      "1/1 [==============================] - 0s 10ms/sample - loss: 7.4102\n",
      "Epoch 96/600\n",
      "1/1 [==============================] - 0s 13ms/sample - loss: 7.4050\n",
      "Epoch 97/600\n",
      "1/1 [==============================] - 0s 11ms/sample - loss: 7.3999\n",
      "Epoch 98/600\n",
      "1/1 [==============================] - 0s 11ms/sample - loss: 7.3948\n",
      "Epoch 99/600\n",
      "1/1 [==============================] - 0s 13ms/sample - loss: 7.3898\n",
      "Epoch 00099: early stopping\n"
     ]
    }
   ],
   "source": [
    "# Train the model\n",
    "history = model.fit(input_,optimum,epochs=600, callbacks=[callback], verbose=1)"
   ]
  },
  {
   "cell_type": "code",
   "execution_count": 17,
   "metadata": {},
   "outputs": [
    {
     "data": {
      "image/png": "[encoded data removed]",
      "text/plain": [
       "<Figure size 432x288 with 1 Axes>"
      ]
     },
     "metadata": {
      "needs_background": "light"
     },
     "output_type": "display_data"
    }
   ],
   "source": [
    "plt.plot(history.history['loss'])\n",
    "plt.title(\"QAOA with TFQ\")\n",
    "plt.xlabel(\"Iteration\")\n",
    "plt.ylabel(\"Loss\")\n",
    "plt.show()"
   ]
  },
  {
   "cell_type": "code",
   "execution_count": 22,
   "metadata": {},
   "outputs": [
    {
     "name": "stdout",
     "output_type": "stream",
     "text": [
      "<tf.Variable 'parameters:0' shape=(4,) dtype=float32, numpy=array([0.48674062, 3.815017  , 4.2800107 , 3.4325886 ], dtype=float32)>\n"
     ]
    }
   ],
   "source": [
    "# Let's look at the optimal paramaters from training\n",
    "params = model.trainable_variables"
   ]
  },
  {
   "cell_type": "markdown",
   "metadata": {},
   "source": [
    "Once trained, we see the optimal parameters, which are:\n",
    "$$\\vec\\alpha=\\displaystyle \\left[\\begin{matrix}0.48674062\\\\4.2800107\\end{matrix}\\right], \\; \\vec\\beta=\\displaystyle \\left[\\begin{matrix}3.815017\\\\3.4325886\\end{matrix}\\right] $$\n",
    "So let's now sample from the final state for many repeitions, resulting in a bitstring which is the measurement of each qubit for x reps"
   ]
  },
  {
   "cell_type": "code",
   "execution_count": 23,
   "metadata": {},
   "outputs": [
    {
     "name": "stdout",
     "output_type": "stream",
     "text": [
      "WARNING:tensorflow:From /Users/nicocolomacook/opt/anaconda3/lib/python3.7/site-packages/tensorflow_core/python/util/deprecation.py:507: calling count_nonzero (from tensorflow.python.ops.math_ops) with axis is deprecated and will be removed in a future version.\n",
      "Instructions for updating:\n",
      "reduction_indices is deprecated, use axis instead\n"
     ]
    }
   ],
   "source": [
    "# Sample from the final state 1000 times\n",
    "params = model.trainable_variables\n",
    "add = tfq.layers.AddCircuit()\n",
    "output_circuit = add(input_, append =qaoa_circuit )\n",
    "\n",
    "sample_layer = tfq.layers.Sample()\n",
    "output = sample_layer(output_circuit,  symbol_names=qaoa_parameters, symbol_values = params,repetitions=1000)"
   ]
  },
  {
   "cell_type": "code",
   "execution_count": 24,
   "metadata": {},
   "outputs": [
    {
     "name": "stdout",
     "output_type": "stream",
     "text": [
      "\n",
      "rep 0 qubit measurements:\n",
      "\n",
      "qubit 0 measurment: 0\n",
      "qubit 1 measurment: 1\n",
      "qubit 2 measurment: 1\n",
      "qubit 3 measurment: 0\n",
      "qubit 4 measurment: 1\n",
      "qubit 5 measurment: 0\n",
      "qubit 6 measurment: 1\n",
      "qubit 7 measurment: 0\n",
      "qubit 8 measurment: 1\n",
      "qubit 9 measurment: 1\n",
      "\n",
      "rep 1 qubit measurements:\n",
      "\n",
      "qubit 0 measurment: 1\n",
      "qubit 1 measurment: 1\n",
      "qubit 2 measurment: 1\n",
      "qubit 3 measurment: 0\n",
      "qubit 4 measurment: 0\n",
      "qubit 5 measurment: 0\n",
      "qubit 6 measurment: 1\n",
      "qubit 7 measurment: 0\n",
      "qubit 8 measurment: 1\n",
      "qubit 9 measurment: 0\n",
      "\n",
      "rep 2 qubit measurements:\n",
      "\n",
      "qubit 0 measurment: 0\n",
      "qubit 1 measurment: 1\n",
      "qubit 2 measurment: 1\n",
      "qubit 3 measurment: 0\n",
      "qubit 4 measurment: 1\n",
      "qubit 5 measurment: 1\n",
      "qubit 6 measurment: 0\n",
      "qubit 7 measurment: 1\n",
      "qubit 8 measurment: 0\n",
      "qubit 9 measurment: 0\n",
      "\n",
      "rep 3 qubit measurements:\n",
      "\n",
      "qubit 0 measurment: 0\n",
      "qubit 1 measurment: 0\n",
      "qubit 2 measurment: 1\n",
      "qubit 3 measurment: 1\n",
      "qubit 4 measurment: 1\n",
      "qubit 5 measurment: 1\n",
      "qubit 6 measurment: 0\n",
      "qubit 7 measurment: 0\n",
      "qubit 8 measurment: 1\n",
      "qubit 9 measurment: 0\n",
      "\n",
      "rep 4 qubit measurements:\n",
      "\n",
      "qubit 0 measurment: 1\n",
      "qubit 1 measurment: 1\n",
      "qubit 2 measurment: 1\n",
      "qubit 3 measurment: 0\n",
      "qubit 4 measurment: 1\n",
      "qubit 5 measurment: 0\n",
      "qubit 6 measurment: 0\n",
      "qubit 7 measurment: 0\n",
      "qubit 8 measurment: 0\n",
      "qubit 9 measurment: 1\n",
      "\n",
      "rep 5 qubit measurements:\n",
      "\n",
      "qubit 0 measurment: 1\n",
      "qubit 1 measurment: 1\n",
      "qubit 2 measurment: 1\n",
      "qubit 3 measurment: 1\n",
      "qubit 4 measurment: 1\n",
      "qubit 5 measurment: 1\n",
      "qubit 6 measurment: 1\n",
      "qubit 7 measurment: 0\n",
      "qubit 8 measurment: 0\n",
      "qubit 9 measurment: 0\n",
      "\n",
      "rep 6 qubit measurements:\n",
      "\n",
      "qubit 0 measurment: 0\n",
      "qubit 1 measurment: 1\n",
      "qubit 2 measurment: 1\n",
      "qubit 3 measurment: 1\n",
      "qubit 4 measurment: 1\n",
      "qubit 5 measurment: 1\n",
      "qubit 6 measurment: 1\n",
      "qubit 7 measurment: 0\n",
      "qubit 8 measurment: 1\n",
      "qubit 9 measurment: 0\n",
      "\n",
      "rep 7 qubit measurements:\n",
      "\n",
      "qubit 0 measurment: 1\n",
      "qubit 1 measurment: 0\n",
      "qubit 2 measurment: 1\n",
      "qubit 3 measurment: 1\n",
      "qubit 4 measurment: 0\n",
      "qubit 5 measurment: 0\n",
      "qubit 6 measurment: 0\n",
      "qubit 7 measurment: 1\n",
      "qubit 8 measurment: 1\n",
      "qubit 9 measurment: 0\n",
      "\n",
      "rep 8 qubit measurements:\n",
      "\n",
      "qubit 0 measurment: 1\n",
      "qubit 1 measurment: 1\n",
      "qubit 2 measurment: 0\n",
      "qubit 3 measurment: 0\n",
      "qubit 4 measurment: 0\n",
      "qubit 5 measurment: 1\n",
      "qubit 6 measurment: 1\n",
      "qubit 7 measurment: 0\n",
      "qubit 8 measurment: 1\n",
      "qubit 9 measurment: 1\n",
      "\n",
      "rep 9 qubit measurements:\n",
      "\n",
      "qubit 0 measurment: 1\n",
      "qubit 1 measurment: 0\n",
      "qubit 2 measurment: 1\n",
      "qubit 3 measurment: 0\n",
      "qubit 4 measurment: 1\n",
      "qubit 5 measurment: 0\n",
      "qubit 6 measurment: 0\n",
      "qubit 7 measurment: 0\n",
      "qubit 8 measurment: 0\n",
      "qubit 9 measurment: 1\n"
     ]
    }
   ],
   "source": [
    "# Output has measurement of all 10 qubits, 1000 times using optimal beta, gamma params\n",
    "# Here's the first 10 reps and the outputs \n",
    "for i, element in enumerate(output.values[:10]):\n",
    "    print(f'\\nrep {i} qubit measurements:\\n')\n",
    "    for j, bit in enumerate(element):\n",
    "        print(f'qubit {j} measurment: {bit}')"
   ]
  },
  {
   "cell_type": "code",
   "execution_count": 35,
   "metadata": {},
   "outputs": [
    {
     "data": {
      "text/plain": [
       "[[1, 2, 4, 6, 8, 9],\n",
       " [0, 1, 2, 6, 8],\n",
       " [1, 2, 4, 5, 7],\n",
       " [2, 3, 4, 5, 8],\n",
       " [0, 1, 2, 4, 9],\n",
       " [0, 1, 2, 3, 4, 5, 6],\n",
       " [1, 2, 3, 4, 5, 6, 8],\n",
       " [0, 2, 3, 7, 8],\n",
       " [0, 1, 5, 6, 8, 9],\n",
       " [0, 2, 4, 9],\n",
       " [3, 4, 5, 6, 8],\n",
       " [0, 1, 2, 3, 6, 8],\n",
       " [1, 3, 5, 6, 8],\n",
       " [0, 5, 6, 7, 8, 9],\n",
       " [1, 3, 4, 6, 7, 8, 9],\n",
       " [0, 1, 3, 7, 8, 9],\n",
       " [0, 5, 9],\n",
       " [1, 2, 3, 5, 7, 9],\n",
       " [0, 2, 5, 7, 8],\n",
       " [2, 3, 4, 6, 7, 8],\n",
       " [2, 4, 5, 7, 9],\n",
       " [0, 1, 3, 5, 7],\n",
       " [0, 4, 5, 6, 7],\n",
       " [1, 2, 4, 5, 8, 9],\n",
       " [1, 2, 3, 4, 5],\n",
       " [0, 1, 2, 5],\n",
       " [0, 3, 4, 5, 6, 7],\n",
       " [0, 2, 3, 4, 9],\n",
       " [0, 1, 2, 3, 8],\n",
       " [6, 7, 8, 9],\n",
       " [2, 5, 8],\n",
       " [0, 1, 2, 3, 4],\n",
       " [3, 4, 5, 8, 9],\n",
       " [0, 2, 4, 6, 7],\n",
       " [1, 2, 5, 6, 7, 8],\n",
       " [0, 1, 3, 4, 6, 7, 8],\n",
       " [0, 1, 2, 4, 5, 6, 7, 9],\n",
       " [0, 2, 3, 5, 7, 8],\n",
       " [4, 6, 8, 9],\n",
       " [0, 1, 6, 7, 8],\n",
       " [0, 4, 7, 8, 9],\n",
       " [1, 4, 9],\n",
       " [1, 2, 3, 5, 9],\n",
       " [0, 1, 2, 4, 7, 8, 9],\n",
       " [0, 1, 2, 3, 5, 7, 8],\n",
       " [0, 2],\n",
       " [0, 1, 2, 5, 7, 8, 9],\n",
       " [1, 3, 4, 6, 7, 8],\n",
       " [0, 2, 5, 9],\n",
       " [7, 8, 9]]"
      ]
     },
     "execution_count": 35,
     "metadata": {},
     "output_type": "execute_result"
    }
   ],
   "source": [
    "# Store the position of all the 1s in a list for the cut set\n",
    "all_ones = []\n",
    "for bitstr in output.values:\n",
    "    temp_list = []\n",
    "    for pos, bit in enumerate(bitstr):\n",
    "        if bit==1:\n",
    "            temp_list.append(pos)\n",
    "    all_ones.append(temp_list)\n",
    "\n",
    "all_ones[:50]"
   ]
  },
  {
   "cell_type": "code",
   "execution_count": 36,
   "metadata": {},
   "outputs": [
    {
     "data": {
      "text/plain": [
       "[[],\n",
       " [0],\n",
       " [1],\n",
       " [4],\n",
       " [7],\n",
       " [2],\n",
       " [6],\n",
       " [3],\n",
       " [9],\n",
       " [8],\n",
       " [5],\n",
       " [0, 1],\n",
       " [0, 4],\n",
       " [0, 7],\n",
       " [0, 2],\n",
       " [0, 6],\n",
       " [0, 3],\n",
       " [0, 9],\n",
       " [0, 8],\n",
       " [0, 5],\n",
       " [1, 4],\n",
       " [1, 7],\n",
       " [1, 2],\n",
       " [1, 6],\n",
       " [1, 3],\n",
       " [1, 9],\n",
       " [1, 8],\n",
       " [1, 5],\n",
       " [4, 7],\n",
       " [4, 2],\n",
       " [4, 6],\n",
       " [4, 3],\n",
       " [4, 9],\n",
       " [4, 8],\n",
       " [4, 5],\n",
       " [7, 2],\n",
       " [7, 6],\n",
       " [7, 3],\n",
       " [7, 9],\n",
       " [7, 8],\n",
       " [7, 5],\n",
       " [2, 6],\n",
       " [2, 3],\n",
       " [2, 9],\n",
       " [2, 8],\n",
       " [2, 5],\n",
       " [6, 3],\n",
       " [6, 9],\n",
       " [6, 8],\n",
       " [6, 5]]"
      ]
     },
     "execution_count": 36,
     "metadata": {},
     "output_type": "execute_result"
    }
   ],
   "source": [
    "# Generate a list with all possible subsets- combinatorial total\n",
    "from itertools import combinations\n",
    "sub_lists = []\n",
    "for i in range(0, len(graph_a.nodes())+1):\n",
    "  temp = [list(x) for x in combinations(graph_a.nodes(), i)]\n",
    "  sub_lists.extend(temp)\n",
    "\n",
    "sub_lists[:50]"
   ]
  },
  {
   "cell_type": "code",
   "execution_count": 32,
   "metadata": {},
   "outputs": [
    {
     "name": "stdout",
     "output_type": "stream",
     "text": [
      "For all possible cuts (first 20):\n",
      "Cut sizes: [0, 3, 3, 3, 3, 3, 3, 3, 3, 3, 3, 4, 6, 4, 6, 4, 6, 6, 6, 6]\n",
      "\n",
      "Corresponding cut set: [[], [4], [7], [2], [6], [5], [1], [8], [9], [3], [0], [4, 7], [4, 2], [4, 6], [4, 5], [4, 1], [4, 8], [4, 9], [4, 3], [4, 0]]\n",
      "\n",
      "Found with QAOA:\n",
      "Cut sizes (QAOA): [8, 9, 9, 11, 9, 7, 9, 7, 6, 10, 9, 10, 11, 8, 5, 6, 7, 8, 7, 8]\n",
      "\n",
      "Corresponding QAOA found cut set: [[1, 2, 4, 6, 8, 9], [0, 1, 2, 6, 8], [1, 2, 4, 5, 7], [2, 3, 4, 5, 8], [0, 1, 2, 4, 9], [0, 1, 2, 3, 4, 5, 6], [1, 2, 3, 4, 5, 6, 8], [0, 2, 3, 7, 8], [0, 1, 5, 6, 8, 9], [0, 2, 4, 9], [3, 4, 5, 6, 8], [0, 1, 2, 3, 6, 8], [1, 3, 5, 6, 8], [0, 5, 6, 7, 8, 9], [1, 3, 4, 6, 7, 8, 9], [0, 1, 3, 7, 8, 9], [0, 5, 9], [1, 2, 3, 5, 7, 9], [0, 2, 5, 7, 8], [2, 3, 4, 6, 7, 8]]\n"
     ]
    }
   ],
   "source": [
    "# Calculate the cut_size for all possible cuts\n",
    "cut_size = []\n",
    "for sub_list in sub_lists:\n",
    "  cut_size.append(nx.algorithms.cuts.cut_size(graph_a,sub_list))\n",
    "\n",
    "\n",
    "print(\"For all possible cuts (first 20):\")\n",
    "\n",
    "\n",
    "print(f'Cut sizes: {cut_size[:20]}\\n')\n",
    "print(f'Corresponding cut set: {sub_lists[:20]}')\n",
    "\n",
    "# Calculate the cut_size for the cuts found with QAOA\n",
    "cut_size_qaoa = []\n",
    "for cut in cuts_qaoa:\n",
    "  cut_size_qaoa.append(nx.algorithms.cuts.cut_size(graph_a,cut))\n",
    "\n",
    "# preview the differences between QAOA and all cuts\n",
    "print(\"\\nFound with QAOA:\")\n",
    "print(f'Cut sizes (QAOA): {cut_size_qaoa[:20]}\\n')\n",
    "print(f'Corresponding QAOA found cut set: {cuts_qaoa[:20]}')"
   ]
  },
  {
   "cell_type": "code",
   "execution_count": 33,
   "metadata": {},
   "outputs": [
    {
     "data": {
      "text/plain": [
       "0.6262307692307693"
      ]
     },
     "execution_count": 33,
     "metadata": {},
     "output_type": "execute_result"
    }
   ],
   "source": [
    "# Finally, calculate the approximation ratio \n",
    "np.mean(cut_size_qaoa)/np.max(cut_size)"
   ]
  }
 ],
 "metadata": {
  "kernelspec": {
   "display_name": "Python 3",
   "language": "python",
   "name": "python3"
  },
  "language_info": {
   "codemirror_mode": {
    "name": "ipython",
    "version": 3
   },
   "file_extension": ".py",
   "mimetype": "text/x-python",
   "name": "python",
   "nbconvert_exporter": "python",
   "pygments_lexer": "ipython3",
   "version": "3.7.6"
  }
 },
 "nbformat": 4,
 "nbformat_minor": 4
}
