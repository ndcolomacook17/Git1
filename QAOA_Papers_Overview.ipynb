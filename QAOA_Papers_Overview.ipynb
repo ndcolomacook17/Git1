{
 "cells": [
  {
   "cell_type": "markdown",
   "metadata": {},
   "source": [
    "# Running list of QAOA Optimization techniques\n",
    "This document provides a very brief summary of each paper explored and the QAOA optimization tehcniques performed in each"
   ]
  },
  {
   "cell_type": "markdown",
   "metadata": {},
   "source": [
    "## [Accelerating Quantum Approximate Optimization Algorithm using Machine Learning](https://arxiv.org/pdf/2002.01089.pdf)\n",
    "1. Used an ML based method to speed up the QAOA optimization loop on MaxCut by having an ML model learn initialized parameters $(\\gamma, \\beta)$, aka 'intelligently initialized', and benchmarking them with random param initializtion (RI)\n",
    "    - Optimizers used (same for both RI and ML-based initialization): \n",
    "        - Gradient-based: L-BFGS-B, Nelder-Mead\n",
    "        - Gradient-free: SLSQP, COBYLA\n",
    "    - Circuit depth: ranging from $p\\in[2,5]$ so total params ranging from $[4,10]$\n",
    "    - MaxCut graph set: From Erdos-Renyi graphs, solved the MaxCut problem on 264 graphs for both\n",
    "    - __ML Model used__: Used Gaussian Process Regression (GPR)/ Bayesian Optimization with Mean Squared Error (MSE) as loss function during training phase\n",
    "    - __ML Models explored__: Regression Tree (RTREE), Support Vector Machine Regression (RSVM), GPR, Linear Regression"
   ]
  },
  {
   "cell_type": "markdown",
   "metadata": {},
   "source": [
    "## [Quantum Approximate Optimization Algorithm: Performance, Mechanism, and Implementation on Near-Term Devices](https://arxiv.org/pdf/1812.01041.pdf)\n",
    "1. Addresses the issue of effective optimization for deep QAOA circuits representing MaxCut ($1<p<\\infty$)"
   ]
  },
  {
   "cell_type": "code",
   "execution_count": null,
   "metadata": {},
   "outputs": [],
   "source": []
  },
  {
   "cell_type": "code",
   "execution_count": null,
   "metadata": {},
   "outputs": [],
   "source": []
  }
 ],
 "metadata": {
  "kernelspec": {
   "display_name": "Python 3",
   "language": "python",
   "name": "python3"
  },
  "language_info": {
   "codemirror_mode": {
    "name": "ipython",
    "version": 3
   },
   "file_extension": ".py",
   "mimetype": "text/x-python",
   "name": "python",
   "nbconvert_exporter": "python",
   "pygments_lexer": "ipython3",
   "version": "3.7.6"
  }
 },
 "nbformat": 4,
 "nbformat_minor": 4
}
