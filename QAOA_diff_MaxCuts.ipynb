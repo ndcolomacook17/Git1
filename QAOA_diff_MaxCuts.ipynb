{
 "cells": [
  {
   "cell_type": "markdown",
   "metadata": {},
   "source": [
    "# I. MaxCut (4-regular ) QAOA at depth p=1 with 10 qubits (nodes)\n",
    "1. Extending the TFQ whitepaper to a 4-regular MaxCut graph to at a depth of p=1 to compare the convergence in training for this model versus the example provided\n",
    "    - Due to the higher degrees of freedom, this QAOA circuit will be larger so it is expected that the parameter convergence within a certain error $\\epsilon$ will take longer"
   ]
  },
  {
   "cell_type": "markdown",
   "metadata": {},
   "source": [
    "## Step 1\n",
    "1. Create a 4-regular graph with 10 nodes to be mapped onto the qubit hardware"
   ]
  },
  {
   "cell_type": "code",
   "execution_count": 1,
   "metadata": {},
   "outputs": [],
   "source": [
    "# Import necessary libraries\n",
    "import tensorflow as tf\n",
    "import tensorflow_quantum as tfq\n",
    "import cirq\n",
    "import sympy\n",
    "import numpy as np\n",
    "\n",
    "# visualization tools\n",
    "import matplotlib.pyplot as plt\n",
    "from cirq.contrib.svg import SVGCircuit\n",
    "#supress warning for matplotlib\n",
    "import warnings\n",
    "warnings.filterwarnings(\"ignore\")\n",
    "\n",
    "# Used to make network\n",
    "import networkx as nx\n",
    "import random"
   ]
  },
  {
   "cell_type": "code",
   "execution_count": 2,
   "metadata": {},
   "outputs": [
    {
     "data": {
      "image/png": "[encoded data removed]",
      "text/plain": [
       "<Figure size 432x288 with 1 Axes>"
      ]
     },
     "metadata": {},
     "output_type": "display_data"
    }
   ],
   "source": [
    "# Create a 4-regular graph with 10 nodes\n",
    "random.seed()\n",
    "maxcut_graph = nx.random_regular_graph(n=10, d=4)\n",
    "\n",
    "# Visualize this graph \n",
    "nx.draw_networkx(maxcut_graph)\n"
   ]
  },
  {
   "cell_type": "markdown",
   "metadata": {},
   "source": [
    "## Step 2\n",
    "1. Create the QAOA circuit, first for only a p=1 depth \n",
    "2. Note that due to the 4-regular graph structure, the size of each QAOA block will be __increased by__ 5.\n",
    "3. So given a depth-p QAOA circuit, the size of the circuit mapping a 4-regular, 10 node graph is increased by __5p__ relative to that of a circuit mapping a 3-regular, 10 node graph "
   ]
  },
  {
   "cell_type": "code",
   "execution_count": 3,
   "metadata": {},
   "outputs": [
    {
     "data": {
      "image/svg+xml": [
       "<svg xmlns=\"http://www.w3.org/2000/svg\" width=\"164.49359375\" height=\"500.0\"><line x1=\"32.246796875\" x2=\"134.49359375\" y1=\"25.0\" y2=\"25.0\" stroke=\"#1967d2\" stroke-width=\"1\" /><line x1=\"32.246796875\" x2=\"134.49359375\" y1=\"75.0\" y2=\"75.0\" stroke=\"#1967d2\" stroke-width=\"1\" /><line x1=\"32.246796875\" x2=\"134.49359375\" y1=\"125.0\" y2=\"125.0\" stroke=\"#1967d2\" stroke-width=\"1\" /><line x1=\"32.246796875\" x2=\"134.49359375\" y1=\"175.0\" y2=\"175.0\" stroke=\"#1967d2\" stroke-width=\"1\" /><line x1=\"32.246796875\" x2=\"134.49359375\" y1=\"225.0\" y2=\"225.0\" stroke=\"#1967d2\" stroke-width=\"1\" /><line x1=\"32.246796875\" x2=\"134.49359375\" y1=\"275.0\" y2=\"275.0\" stroke=\"#1967d2\" stroke-width=\"1\" /><line x1=\"32.246796875\" x2=\"134.49359375\" y1=\"325.0\" y2=\"325.0\" stroke=\"#1967d2\" stroke-width=\"1\" /><line x1=\"32.246796875\" x2=\"134.49359375\" y1=\"375.0\" y2=\"375.0\" stroke=\"#1967d2\" stroke-width=\"1\" /><line x1=\"32.246796875\" x2=\"134.49359375\" y1=\"425.0\" y2=\"425.0\" stroke=\"#1967d2\" stroke-width=\"1\" /><line x1=\"32.246796875\" x2=\"134.49359375\" y1=\"475.0\" y2=\"475.0\" stroke=\"#1967d2\" stroke-width=\"1\" /><rect x=\"10.0\" y=\"5.0\" width=\"44.49359375\" height=\"40\" stroke=\"black\" fill=\"white\" stroke-width=\"0\" /><text x=\"32.246796875\" y=\"25.0\" dominant-baseline=\"middle\" text-anchor=\"middle\" font-size=\"14px\">(0, 0): </text><rect x=\"10.0\" y=\"55.0\" width=\"44.49359375\" height=\"40\" stroke=\"black\" fill=\"white\" stroke-width=\"0\" /><text x=\"32.246796875\" y=\"75.0\" dominant-baseline=\"middle\" text-anchor=\"middle\" font-size=\"14px\">(0, 1): </text><rect x=\"10.0\" y=\"105.0\" width=\"44.49359375\" height=\"40\" stroke=\"black\" fill=\"white\" stroke-width=\"0\" /><text x=\"32.246796875\" y=\"125.0\" dominant-baseline=\"middle\" text-anchor=\"middle\" font-size=\"14px\">(0, 2): </text><rect x=\"10.0\" y=\"155.0\" width=\"44.49359375\" height=\"40\" stroke=\"black\" fill=\"white\" stroke-width=\"0\" /><text x=\"32.246796875\" y=\"175.0\" dominant-baseline=\"middle\" text-anchor=\"middle\" font-size=\"14px\">(0, 3): </text><rect x=\"10.0\" y=\"205.0\" width=\"44.49359375\" height=\"40\" stroke=\"black\" fill=\"white\" stroke-width=\"0\" /><text x=\"32.246796875\" y=\"225.0\" dominant-baseline=\"middle\" text-anchor=\"middle\" font-size=\"14px\">(0, 4): </text><rect x=\"10.0\" y=\"255.0\" width=\"44.49359375\" height=\"40\" stroke=\"black\" fill=\"white\" stroke-width=\"0\" /><text x=\"32.246796875\" y=\"275.0\" dominant-baseline=\"middle\" text-anchor=\"middle\" font-size=\"14px\">(0, 5): </text><rect x=\"10.0\" y=\"305.0\" width=\"44.49359375\" height=\"40\" stroke=\"black\" fill=\"white\" stroke-width=\"0\" /><text x=\"32.246796875\" y=\"325.0\" dominant-baseline=\"middle\" text-anchor=\"middle\" font-size=\"14px\">(0, 6): </text><rect x=\"10.0\" y=\"355.0\" width=\"44.49359375\" height=\"40\" stroke=\"black\" fill=\"white\" stroke-width=\"0\" /><text x=\"32.246796875\" y=\"375.0\" dominant-baseline=\"middle\" text-anchor=\"middle\" font-size=\"14px\">(0, 7): </text><rect x=\"10.0\" y=\"405.0\" width=\"44.49359375\" height=\"40\" stroke=\"black\" fill=\"white\" stroke-width=\"0\" /><text x=\"32.246796875\" y=\"425.0\" dominant-baseline=\"middle\" text-anchor=\"middle\" font-size=\"14px\">(0, 8): </text><rect x=\"10.0\" y=\"455.0\" width=\"44.49359375\" height=\"40\" stroke=\"black\" fill=\"white\" stroke-width=\"0\" /><text x=\"32.246796875\" y=\"475.0\" dominant-baseline=\"middle\" text-anchor=\"middle\" font-size=\"14px\">(0, 9): </text><rect x=\"74.49359375\" y=\"255.0\" width=\"40\" height=\"40\" stroke=\"black\" fill=\"white\" stroke-width=\"1\" /><text x=\"94.49359375\" y=\"275.0\" dominant-baseline=\"middle\" text-anchor=\"middle\" font-size=\"18px\">H</text><rect x=\"74.49359375\" y=\"455.0\" width=\"40\" height=\"40\" stroke=\"black\" fill=\"white\" stroke-width=\"1\" /><text x=\"94.49359375\" y=\"475.0\" dominant-baseline=\"middle\" text-anchor=\"middle\" font-size=\"18px\">H</text><rect x=\"74.49359375\" y=\"305.0\" width=\"40\" height=\"40\" stroke=\"black\" fill=\"white\" stroke-width=\"1\" /><text x=\"94.49359375\" y=\"325.0\" dominant-baseline=\"middle\" text-anchor=\"middle\" font-size=\"18px\">H</text><rect x=\"74.49359375\" y=\"55.0\" width=\"40\" height=\"40\" stroke=\"black\" fill=\"white\" stroke-width=\"1\" /><text x=\"94.49359375\" y=\"75.0\" dominant-baseline=\"middle\" text-anchor=\"middle\" font-size=\"18px\">H</text><rect x=\"74.49359375\" y=\"155.0\" width=\"40\" height=\"40\" stroke=\"black\" fill=\"white\" stroke-width=\"1\" /><text x=\"94.49359375\" y=\"175.0\" dominant-baseline=\"middle\" text-anchor=\"middle\" font-size=\"18px\">H</text><rect x=\"74.49359375\" y=\"205.0\" width=\"40\" height=\"40\" stroke=\"black\" fill=\"white\" stroke-width=\"1\" /><text x=\"94.49359375\" y=\"225.0\" dominant-baseline=\"middle\" text-anchor=\"middle\" font-size=\"18px\">H</text><rect x=\"74.49359375\" y=\"405.0\" width=\"40\" height=\"40\" stroke=\"black\" fill=\"white\" stroke-width=\"1\" /><text x=\"94.49359375\" y=\"425.0\" dominant-baseline=\"middle\" text-anchor=\"middle\" font-size=\"18px\">H</text><rect x=\"74.49359375\" y=\"5.0\" width=\"40\" height=\"40\" stroke=\"black\" fill=\"white\" stroke-width=\"1\" /><text x=\"94.49359375\" y=\"25.0\" dominant-baseline=\"middle\" text-anchor=\"middle\" font-size=\"18px\">H</text><rect x=\"74.49359375\" y=\"355.0\" width=\"40\" height=\"40\" stroke=\"black\" fill=\"white\" stroke-width=\"1\" /><text x=\"94.49359375\" y=\"375.0\" dominant-baseline=\"middle\" text-anchor=\"middle\" font-size=\"18px\">H</text><rect x=\"74.49359375\" y=\"105.0\" width=\"40\" height=\"40\" stroke=\"black\" fill=\"white\" stroke-width=\"1\" /><text x=\"94.49359375\" y=\"125.0\" dominant-baseline=\"middle\" text-anchor=\"middle\" font-size=\"18px\">H</text></svg>"
      ],
      "text/plain": [
       "<cirq.contrib.svg.svg.SVGCircuit at 0x7fc828704550>"
      ]
     },
     "execution_count": 3,
     "metadata": {},
     "output_type": "execute_result"
    }
   ],
   "source": [
    "# Define the qubit structure\n",
    "qubits = cirq.GridQubit.rect(1,10)\n",
    "\n",
    "# Map qubits to 4-regular graph and apply the hadamard transform for \n",
    "#the initial superposition state for all qubits\n",
    "hadamard_circuit = cirq.Circuit()\n",
    "for node in maxcut_graph.nodes():\n",
    "    qubit = qubits[node]\n",
    "    hadamard_circuit.append(cirq.H(qubit))\n",
    "    \n",
    "SVGCircuit(hadamard_circuit)"
   ]
  },
  {
   "cell_type": "code",
   "execution_count": 4,
   "metadata": {},
   "outputs": [
    {
     "name": "stdout",
     "output_type": "stream",
     "text": [
      "1.000*X((0, 5))+1.000*X((0, 9))+1.000*X((0, 6))+1.000*X((0, 1))+1.000*X((0, 3))+1.000*X((0, 4))+1.000*X((0, 8))+1.000*X((0, 0))+1.000*X((0, 7))+1.000*X((0, 2))\n"
     ]
    },
    {
     "data": {
      "image/svg+xml": [
       "<svg xmlns=\"http://www.w3.org/2000/svg\" width=\"164.49359375\" height=\"500.0\"><line x1=\"32.246796875\" x2=\"134.49359375\" y1=\"25.0\" y2=\"25.0\" stroke=\"#1967d2\" stroke-width=\"1\" /><line x1=\"32.246796875\" x2=\"134.49359375\" y1=\"75.0\" y2=\"75.0\" stroke=\"#1967d2\" stroke-width=\"1\" /><line x1=\"32.246796875\" x2=\"134.49359375\" y1=\"125.0\" y2=\"125.0\" stroke=\"#1967d2\" stroke-width=\"1\" /><line x1=\"32.246796875\" x2=\"134.49359375\" y1=\"175.0\" y2=\"175.0\" stroke=\"#1967d2\" stroke-width=\"1\" /><line x1=\"32.246796875\" x2=\"134.49359375\" y1=\"225.0\" y2=\"225.0\" stroke=\"#1967d2\" stroke-width=\"1\" /><line x1=\"32.246796875\" x2=\"134.49359375\" y1=\"275.0\" y2=\"275.0\" stroke=\"#1967d2\" stroke-width=\"1\" /><line x1=\"32.246796875\" x2=\"134.49359375\" y1=\"325.0\" y2=\"325.0\" stroke=\"#1967d2\" stroke-width=\"1\" /><line x1=\"32.246796875\" x2=\"134.49359375\" y1=\"375.0\" y2=\"375.0\" stroke=\"#1967d2\" stroke-width=\"1\" /><line x1=\"32.246796875\" x2=\"134.49359375\" y1=\"425.0\" y2=\"425.0\" stroke=\"#1967d2\" stroke-width=\"1\" /><line x1=\"32.246796875\" x2=\"134.49359375\" y1=\"475.0\" y2=\"475.0\" stroke=\"#1967d2\" stroke-width=\"1\" /><rect x=\"10.0\" y=\"5.0\" width=\"44.49359375\" height=\"40\" stroke=\"black\" fill=\"white\" stroke-width=\"0\" /><text x=\"32.246796875\" y=\"25.0\" dominant-baseline=\"middle\" text-anchor=\"middle\" font-size=\"14px\">(0, 0): </text><rect x=\"10.0\" y=\"55.0\" width=\"44.49359375\" height=\"40\" stroke=\"black\" fill=\"white\" stroke-width=\"0\" /><text x=\"32.246796875\" y=\"75.0\" dominant-baseline=\"middle\" text-anchor=\"middle\" font-size=\"14px\">(0, 1): </text><rect x=\"10.0\" y=\"105.0\" width=\"44.49359375\" height=\"40\" stroke=\"black\" fill=\"white\" stroke-width=\"0\" /><text x=\"32.246796875\" y=\"125.0\" dominant-baseline=\"middle\" text-anchor=\"middle\" font-size=\"14px\">(0, 2): </text><rect x=\"10.0\" y=\"155.0\" width=\"44.49359375\" height=\"40\" stroke=\"black\" fill=\"white\" stroke-width=\"0\" /><text x=\"32.246796875\" y=\"175.0\" dominant-baseline=\"middle\" text-anchor=\"middle\" font-size=\"14px\">(0, 3): </text><rect x=\"10.0\" y=\"205.0\" width=\"44.49359375\" height=\"40\" stroke=\"black\" fill=\"white\" stroke-width=\"0\" /><text x=\"32.246796875\" y=\"225.0\" dominant-baseline=\"middle\" text-anchor=\"middle\" font-size=\"14px\">(0, 4): </text><rect x=\"10.0\" y=\"255.0\" width=\"44.49359375\" height=\"40\" stroke=\"black\" fill=\"white\" stroke-width=\"0\" /><text x=\"32.246796875\" y=\"275.0\" dominant-baseline=\"middle\" text-anchor=\"middle\" font-size=\"14px\">(0, 5): </text><rect x=\"10.0\" y=\"305.0\" width=\"44.49359375\" height=\"40\" stroke=\"black\" fill=\"white\" stroke-width=\"0\" /><text x=\"32.246796875\" y=\"325.0\" dominant-baseline=\"middle\" text-anchor=\"middle\" font-size=\"14px\">(0, 6): </text><rect x=\"10.0\" y=\"355.0\" width=\"44.49359375\" height=\"40\" stroke=\"black\" fill=\"white\" stroke-width=\"0\" /><text x=\"32.246796875\" y=\"375.0\" dominant-baseline=\"middle\" text-anchor=\"middle\" font-size=\"14px\">(0, 7): </text><rect x=\"10.0\" y=\"405.0\" width=\"44.49359375\" height=\"40\" stroke=\"black\" fill=\"white\" stroke-width=\"0\" /><text x=\"32.246796875\" y=\"425.0\" dominant-baseline=\"middle\" text-anchor=\"middle\" font-size=\"14px\">(0, 8): </text><rect x=\"10.0\" y=\"455.0\" width=\"44.49359375\" height=\"40\" stroke=\"black\" fill=\"white\" stroke-width=\"0\" /><text x=\"32.246796875\" y=\"475.0\" dominant-baseline=\"middle\" text-anchor=\"middle\" font-size=\"14px\">(0, 9): </text><rect x=\"74.49359375\" y=\"255.0\" width=\"40\" height=\"40\" stroke=\"black\" fill=\"white\" stroke-width=\"1\" /><text x=\"94.49359375\" y=\"275.0\" dominant-baseline=\"middle\" text-anchor=\"middle\" font-size=\"18px\">X</text><rect x=\"74.49359375\" y=\"455.0\" width=\"40\" height=\"40\" stroke=\"black\" fill=\"white\" stroke-width=\"1\" /><text x=\"94.49359375\" y=\"475.0\" dominant-baseline=\"middle\" text-anchor=\"middle\" font-size=\"18px\">X</text><rect x=\"74.49359375\" y=\"305.0\" width=\"40\" height=\"40\" stroke=\"black\" fill=\"white\" stroke-width=\"1\" /><text x=\"94.49359375\" y=\"325.0\" dominant-baseline=\"middle\" text-anchor=\"middle\" font-size=\"18px\">X</text><rect x=\"74.49359375\" y=\"55.0\" width=\"40\" height=\"40\" stroke=\"black\" fill=\"white\" stroke-width=\"1\" /><text x=\"94.49359375\" y=\"75.0\" dominant-baseline=\"middle\" text-anchor=\"middle\" font-size=\"18px\">X</text><rect x=\"74.49359375\" y=\"155.0\" width=\"40\" height=\"40\" stroke=\"black\" fill=\"white\" stroke-width=\"1\" /><text x=\"94.49359375\" y=\"175.0\" dominant-baseline=\"middle\" text-anchor=\"middle\" font-size=\"18px\">X</text><rect x=\"74.49359375\" y=\"205.0\" width=\"40\" height=\"40\" stroke=\"black\" fill=\"white\" stroke-width=\"1\" /><text x=\"94.49359375\" y=\"225.0\" dominant-baseline=\"middle\" text-anchor=\"middle\" font-size=\"18px\">X</text><rect x=\"74.49359375\" y=\"405.0\" width=\"40\" height=\"40\" stroke=\"black\" fill=\"white\" stroke-width=\"1\" /><text x=\"94.49359375\" y=\"425.0\" dominant-baseline=\"middle\" text-anchor=\"middle\" font-size=\"18px\">X</text><rect x=\"74.49359375\" y=\"5.0\" width=\"40\" height=\"40\" stroke=\"black\" fill=\"white\" stroke-width=\"1\" /><text x=\"94.49359375\" y=\"25.0\" dominant-baseline=\"middle\" text-anchor=\"middle\" font-size=\"18px\">X</text><rect x=\"74.49359375\" y=\"355.0\" width=\"40\" height=\"40\" stroke=\"black\" fill=\"white\" stroke-width=\"1\" /><text x=\"94.49359375\" y=\"375.0\" dominant-baseline=\"middle\" text-anchor=\"middle\" font-size=\"18px\">X</text><rect x=\"74.49359375\" y=\"105.0\" width=\"40\" height=\"40\" stroke=\"black\" fill=\"white\" stroke-width=\"1\" /><text x=\"94.49359375\" y=\"125.0\" dominant-baseline=\"middle\" text-anchor=\"middle\" font-size=\"18px\">X</text></svg>"
      ],
      "text/plain": [
       "<cirq.contrib.svg.svg.SVGCircuit at 0x7fc81d489a10>"
      ]
     },
     "execution_count": 4,
     "metadata": {},
     "output_type": "execute_result"
    }
   ],
   "source": [
    "# Create the mixing hamiltonian\n",
    "mixing_H = 0\n",
    "for node in maxcut_graph.nodes():\n",
    "    qubit = qubits[node]\n",
    "    mixing_H += cirq.PauliString(cirq.X(qubit))\n",
    "    \n",
    "print(mixing_H)\n",
    "\n",
    "m_H_circuit = cirq.Circuit(mixing_H)\n",
    "#View the mixing Hamiltonian (should be X gate on all qubits)\n",
    "SVGCircuit(m_H_circuit)"
   ]
  },
  {
   "cell_type": "code",
   "execution_count": 5,
   "metadata": {},
   "outputs": [
    {
     "data": {
      "image/svg+xml": [
       "<svg xmlns=\"http://www.w3.org/2000/svg\" width=\"2703.5466406250002\" height=\"540.0\"><line x1=\"32.246796875\" x2=\"2673.5466406250002\" y1=\"45.0\" y2=\"45.0\" stroke=\"#1967d2\" stroke-width=\"1\" /><line x1=\"32.246796875\" x2=\"2673.5466406250002\" y1=\"95.0\" y2=\"95.0\" stroke=\"#1967d2\" stroke-width=\"1\" /><line x1=\"32.246796875\" x2=\"2673.5466406250002\" y1=\"145.0\" y2=\"145.0\" stroke=\"#1967d2\" stroke-width=\"1\" /><line x1=\"32.246796875\" x2=\"2673.5466406250002\" y1=\"195.0\" y2=\"195.0\" stroke=\"#1967d2\" stroke-width=\"1\" /><line x1=\"32.246796875\" x2=\"2673.5466406250002\" y1=\"245.0\" y2=\"245.0\" stroke=\"#1967d2\" stroke-width=\"1\" /><line x1=\"32.246796875\" x2=\"2673.5466406250002\" y1=\"295.0\" y2=\"295.0\" stroke=\"#1967d2\" stroke-width=\"1\" /><line x1=\"32.246796875\" x2=\"2673.5466406250002\" y1=\"345.0\" y2=\"345.0\" stroke=\"#1967d2\" stroke-width=\"1\" /><line x1=\"32.246796875\" x2=\"2673.5466406250002\" y1=\"395.0\" y2=\"395.0\" stroke=\"#1967d2\" stroke-width=\"1\" /><line x1=\"32.246796875\" x2=\"2673.5466406250002\" y1=\"445.0\" y2=\"445.0\" stroke=\"#1967d2\" stroke-width=\"1\" /><line x1=\"32.246796875\" x2=\"2673.5466406250002\" y1=\"495.0\" y2=\"495.0\" stroke=\"#1967d2\" stroke-width=\"1\" /><line x1=\"1552.5239062500004\" x2=\"1899.5314843750007\" y1=\"5.0\" y2=\"5.0\" stroke=\"black\" stroke-width=\"1\" /><line x1=\"1552.5239062500004\" x2=\"1899.5314843750007\" y1=\"535.0\" y2=\"535.0\" stroke=\"black\" stroke-width=\"1\" /><line x1=\"630.0049609375001\" x2=\"977.0125390625001\" y1=\"5.0\" y2=\"5.0\" stroke=\"black\" stroke-width=\"1\" /><line x1=\"630.0049609375001\" x2=\"977.0125390625001\" y1=\"535.0\" y2=\"535.0\" stroke=\"black\" stroke-width=\"1\" /><line x1=\"158.74548828125\" x2=\"158.74548828125\" y1=\"295.0\" y2=\"495.0\" stroke=\"black\" stroke-width=\"3\" /><line x1=\"347.24927734375007\" x2=\"347.24927734375007\" y1=\"295.0\" y2=\"345.0\" stroke=\"black\" stroke-width=\"3\" /><line x1=\"535.7530664062501\" x2=\"535.7530664062501\" y1=\"245.0\" y2=\"295.0\" stroke=\"black\" stroke-width=\"3\" /><line x1=\"535.7530664062501\" x2=\"535.7530664062501\" y1=\"345.0\" y2=\"495.0\" stroke=\"black\" stroke-width=\"3\" /><line x1=\"714.2568554687501\" x2=\"714.2568554687501\" y1=\"195.0\" y2=\"295.0\" stroke=\"black\" stroke-width=\"3\" /><line x1=\"882.7606445312501\" x2=\"882.7606445312501\" y1=\"145.0\" y2=\"495.0\" stroke=\"black\" stroke-width=\"3\" /><line x1=\"1081.26443359375\" x2=\"1081.26443359375\" y1=\"395.0\" y2=\"495.0\" stroke=\"black\" stroke-width=\"3\" /><line x1=\"1081.26443359375\" x2=\"1081.26443359375\" y1=\"95.0\" y2=\"195.0\" stroke=\"black\" stroke-width=\"3\" /><line x1=\"1269.7682226562501\" x2=\"1269.7682226562501\" y1=\"345.0\" y2=\"395.0\" stroke=\"black\" stroke-width=\"3\" /><line x1=\"1269.7682226562501\" x2=\"1269.7682226562501\" y1=\"95.0\" y2=\"245.0\" stroke=\"black\" stroke-width=\"3\" /><line x1=\"1458.2720117187503\" x2=\"1458.2720117187503\" y1=\"345.0\" y2=\"445.0\" stroke=\"black\" stroke-width=\"3\" /><line x1=\"1458.2720117187503\" x2=\"1458.2720117187503\" y1=\"45.0\" y2=\"95.0\" stroke=\"black\" stroke-width=\"3\" /><line x1=\"1636.7758007812504\" x2=\"1636.7758007812504\" y1=\"95.0\" y2=\"445.0\" stroke=\"black\" stroke-width=\"3\" /><line x1=\"1805.2795898437505\" x2=\"1805.2795898437505\" y1=\"45.0\" y2=\"195.0\" stroke=\"black\" stroke-width=\"3\" /><line x1=\"2003.7833789062506\" x2=\"2003.7833789062506\" y1=\"145.0\" y2=\"195.0\" stroke=\"black\" stroke-width=\"3\" /><line x1=\"2003.7833789062506\" x2=\"2003.7833789062506\" y1=\"245.0\" y2=\"445.0\" stroke=\"black\" stroke-width=\"3\" /><line x1=\"2192.2871679687505\" x2=\"2192.2871679687505\" y1=\"45.0\" y2=\"245.0\" stroke=\"black\" stroke-width=\"3\" /><line x1=\"2192.2871679687505\" x2=\"2192.2871679687505\" y1=\"395.0\" y2=\"445.0\" stroke=\"black\" stroke-width=\"3\" /><line x1=\"2380.7909570312504\" x2=\"2380.7909570312504\" y1=\"45.0\" y2=\"145.0\" stroke=\"black\" stroke-width=\"3\" /><line x1=\"2569.2947460937503\" x2=\"2569.2947460937503\" y1=\"145.0\" y2=\"395.0\" stroke=\"black\" stroke-width=\"3\" /><line x1=\"1552.5239062500004\" x2=\"1552.5239062500004\" y1=\"5.0\" y2=\"15.0\" stroke=\"black\" stroke-width=\"3\" /><line x1=\"1899.5314843750007\" x2=\"1899.5314843750007\" y1=\"5.0\" y2=\"15.0\" stroke=\"black\" stroke-width=\"3\" /><line x1=\"1552.5239062500004\" x2=\"1552.5239062500004\" y1=\"525.0\" y2=\"535.0\" stroke=\"black\" stroke-width=\"3\" /><line x1=\"1899.5314843750007\" x2=\"1899.5314843750007\" y1=\"525.0\" y2=\"535.0\" stroke=\"black\" stroke-width=\"3\" /><line x1=\"630.0049609375001\" x2=\"630.0049609375001\" y1=\"5.0\" y2=\"15.0\" stroke=\"black\" stroke-width=\"3\" /><line x1=\"977.0125390625001\" x2=\"977.0125390625001\" y1=\"5.0\" y2=\"15.0\" stroke=\"black\" stroke-width=\"3\" /><line x1=\"630.0049609375001\" x2=\"630.0049609375001\" y1=\"525.0\" y2=\"535.0\" stroke=\"black\" stroke-width=\"3\" /><line x1=\"977.0125390625001\" x2=\"977.0125390625001\" y1=\"525.0\" y2=\"535.0\" stroke=\"black\" stroke-width=\"3\" /><rect x=\"10.0\" y=\"25.0\" width=\"44.49359375\" height=\"40\" stroke=\"black\" fill=\"white\" stroke-width=\"0\" /><text x=\"32.246796875\" y=\"45.0\" dominant-baseline=\"middle\" text-anchor=\"middle\" font-size=\"14px\">(0, 0): </text><rect x=\"10.0\" y=\"75.0\" width=\"44.49359375\" height=\"40\" stroke=\"black\" fill=\"white\" stroke-width=\"0\" /><text x=\"32.246796875\" y=\"95.0\" dominant-baseline=\"middle\" text-anchor=\"middle\" font-size=\"14px\">(0, 1): </text><rect x=\"10.0\" y=\"125.0\" width=\"44.49359375\" height=\"40\" stroke=\"black\" fill=\"white\" stroke-width=\"0\" /><text x=\"32.246796875\" y=\"145.0\" dominant-baseline=\"middle\" text-anchor=\"middle\" font-size=\"14px\">(0, 2): </text><rect x=\"10.0\" y=\"175.0\" width=\"44.49359375\" height=\"40\" stroke=\"black\" fill=\"white\" stroke-width=\"0\" /><text x=\"32.246796875\" y=\"195.0\" dominant-baseline=\"middle\" text-anchor=\"middle\" font-size=\"14px\">(0, 3): </text><rect x=\"10.0\" y=\"225.0\" width=\"44.49359375\" height=\"40\" stroke=\"black\" fill=\"white\" stroke-width=\"0\" /><text x=\"32.246796875\" y=\"245.0\" dominant-baseline=\"middle\" text-anchor=\"middle\" font-size=\"14px\">(0, 4): </text><rect x=\"10.0\" y=\"275.0\" width=\"44.49359375\" height=\"40\" stroke=\"black\" fill=\"white\" stroke-width=\"0\" /><text x=\"32.246796875\" y=\"295.0\" dominant-baseline=\"middle\" text-anchor=\"middle\" font-size=\"14px\">(0, 5): </text><rect x=\"10.0\" y=\"325.0\" width=\"44.49359375\" height=\"40\" stroke=\"black\" fill=\"white\" stroke-width=\"0\" /><text x=\"32.246796875\" y=\"345.0\" dominant-baseline=\"middle\" text-anchor=\"middle\" font-size=\"14px\">(0, 6): </text><rect x=\"10.0\" y=\"375.0\" width=\"44.49359375\" height=\"40\" stroke=\"black\" fill=\"white\" stroke-width=\"0\" /><text x=\"32.246796875\" y=\"395.0\" dominant-baseline=\"middle\" text-anchor=\"middle\" font-size=\"14px\">(0, 7): </text><rect x=\"10.0\" y=\"425.0\" width=\"44.49359375\" height=\"40\" stroke=\"black\" fill=\"white\" stroke-width=\"0\" /><text x=\"32.246796875\" y=\"445.0\" dominant-baseline=\"middle\" text-anchor=\"middle\" font-size=\"14px\">(0, 8): </text><rect x=\"10.0\" y=\"475.0\" width=\"44.49359375\" height=\"40\" stroke=\"black\" fill=\"white\" stroke-width=\"0\" /><text x=\"32.246796875\" y=\"495.0\" dominant-baseline=\"middle\" text-anchor=\"middle\" font-size=\"14px\">(0, 9): </text><rect x=\"74.49359374999999\" y=\"275.0\" width=\"168.50378906250003\" height=\"40\" stroke=\"black\" fill=\"white\" stroke-width=\"1\" /><text x=\"158.74548828125\" y=\"295.0\" dominant-baseline=\"middle\" text-anchor=\"middle\" font-size=\"14px\">(0.5+0j)*Z((0, 5))*Z((0, 9))</text><rect x=\"74.49359374999999\" y=\"475.0\" width=\"168.50378906250003\" height=\"40\" stroke=\"black\" fill=\"white\" stroke-width=\"1\" /><text x=\"158.74548828125\" y=\"495.0\" dominant-baseline=\"middle\" text-anchor=\"middle\" font-size=\"14px\">#2</text><rect x=\"262.99738281250006\" y=\"275.0\" width=\"168.50378906250003\" height=\"40\" stroke=\"black\" fill=\"white\" stroke-width=\"1\" /><text x=\"347.24927734375007\" y=\"295.0\" dominant-baseline=\"middle\" text-anchor=\"middle\" font-size=\"14px\">(0.5+0j)*Z((0, 5))*Z((0, 6))</text><rect x=\"262.99738281250006\" y=\"325.0\" width=\"168.50378906250003\" height=\"40\" stroke=\"black\" fill=\"white\" stroke-width=\"1\" /><text x=\"347.24927734375007\" y=\"345.0\" dominant-baseline=\"middle\" text-anchor=\"middle\" font-size=\"14px\">#2</text><rect x=\"451.5011718750001\" y=\"225.0\" width=\"168.50378906250003\" height=\"40\" stroke=\"black\" fill=\"white\" stroke-width=\"1\" /><text x=\"535.7530664062501\" y=\"245.0\" dominant-baseline=\"middle\" text-anchor=\"middle\" font-size=\"14px\">(0.5+0j)*Z((0, 4))*Z((0, 5))</text><rect x=\"451.5011718750001\" y=\"275.0\" width=\"168.50378906250003\" height=\"40\" stroke=\"black\" fill=\"white\" stroke-width=\"1\" /><text x=\"535.7530664062501\" y=\"295.0\" dominant-baseline=\"middle\" text-anchor=\"middle\" font-size=\"14px\">#2</text><rect x=\"451.5011718750001\" y=\"325.0\" width=\"168.50378906250003\" height=\"40\" stroke=\"black\" fill=\"white\" stroke-width=\"1\" /><text x=\"535.7530664062501\" y=\"345.0\" dominant-baseline=\"middle\" text-anchor=\"middle\" font-size=\"14px\">(0.5+0j)*Z((0, 6))*Z((0, 9))</text><rect x=\"451.5011718750001\" y=\"475.0\" width=\"168.50378906250003\" height=\"40\" stroke=\"black\" fill=\"white\" stroke-width=\"1\" /><text x=\"535.7530664062501\" y=\"495.0\" dominant-baseline=\"middle\" text-anchor=\"middle\" font-size=\"14px\">#2</text><rect x=\"630.0049609375001\" y=\"175.0\" width=\"168.50378906250003\" height=\"40\" stroke=\"black\" fill=\"white\" stroke-width=\"1\" /><text x=\"714.2568554687501\" y=\"195.0\" dominant-baseline=\"middle\" text-anchor=\"middle\" font-size=\"14px\">(0.5+0j)*Z((0, 3))*Z((0, 5))</text><rect x=\"630.0049609375001\" y=\"275.0\" width=\"168.50378906250003\" height=\"40\" stroke=\"black\" fill=\"white\" stroke-width=\"1\" /><text x=\"714.2568554687501\" y=\"295.0\" dominant-baseline=\"middle\" text-anchor=\"middle\" font-size=\"14px\">#2</text><rect x=\"798.5087500000001\" y=\"125.0\" width=\"168.50378906250003\" height=\"40\" stroke=\"black\" fill=\"white\" stroke-width=\"1\" /><text x=\"882.7606445312501\" y=\"145.0\" dominant-baseline=\"middle\" text-anchor=\"middle\" font-size=\"14px\">(0.5+0j)*Z((0, 2))*Z((0, 9))</text><rect x=\"798.5087500000001\" y=\"475.0\" width=\"168.50378906250003\" height=\"40\" stroke=\"black\" fill=\"white\" stroke-width=\"1\" /><text x=\"882.7606445312501\" y=\"495.0\" dominant-baseline=\"middle\" text-anchor=\"middle\" font-size=\"14px\">#2</text><rect x=\"997.0125390625\" y=\"375.0\" width=\"168.50378906250003\" height=\"40\" stroke=\"black\" fill=\"white\" stroke-width=\"1\" /><text x=\"1081.26443359375\" y=\"395.0\" dominant-baseline=\"middle\" text-anchor=\"middle\" font-size=\"14px\">(0.5+0j)*Z((0, 7))*Z((0, 9))</text><rect x=\"997.0125390625\" y=\"475.0\" width=\"168.50378906250003\" height=\"40\" stroke=\"black\" fill=\"white\" stroke-width=\"1\" /><text x=\"1081.26443359375\" y=\"495.0\" dominant-baseline=\"middle\" text-anchor=\"middle\" font-size=\"14px\">#2</text><rect x=\"997.0125390625\" y=\"75.0\" width=\"168.50378906250003\" height=\"40\" stroke=\"black\" fill=\"white\" stroke-width=\"1\" /><text x=\"1081.26443359375\" y=\"95.0\" dominant-baseline=\"middle\" text-anchor=\"middle\" font-size=\"14px\">(0.5+0j)*Z((0, 1))*Z((0, 3))</text><rect x=\"997.0125390625\" y=\"175.0\" width=\"168.50378906250003\" height=\"40\" stroke=\"black\" fill=\"white\" stroke-width=\"1\" /><text x=\"1081.26443359375\" y=\"195.0\" dominant-baseline=\"middle\" text-anchor=\"middle\" font-size=\"14px\">#2</text><rect x=\"1185.5163281250002\" y=\"325.0\" width=\"168.50378906250003\" height=\"40\" stroke=\"black\" fill=\"white\" stroke-width=\"1\" /><text x=\"1269.7682226562501\" y=\"345.0\" dominant-baseline=\"middle\" text-anchor=\"middle\" font-size=\"14px\">(0.5+0j)*Z((0, 6))*Z((0, 7))</text><rect x=\"1185.5163281250002\" y=\"375.0\" width=\"168.50378906250003\" height=\"40\" stroke=\"black\" fill=\"white\" stroke-width=\"1\" /><text x=\"1269.7682226562501\" y=\"395.0\" dominant-baseline=\"middle\" text-anchor=\"middle\" font-size=\"14px\">#2</text><rect x=\"1185.5163281250002\" y=\"75.0\" width=\"168.50378906250003\" height=\"40\" stroke=\"black\" fill=\"white\" stroke-width=\"1\" /><text x=\"1269.7682226562501\" y=\"95.0\" dominant-baseline=\"middle\" text-anchor=\"middle\" font-size=\"14px\">(0.5+0j)*Z((0, 1))*Z((0, 4))</text><rect x=\"1185.5163281250002\" y=\"225.0\" width=\"168.50378906250003\" height=\"40\" stroke=\"black\" fill=\"white\" stroke-width=\"1\" /><text x=\"1269.7682226562501\" y=\"245.0\" dominant-baseline=\"middle\" text-anchor=\"middle\" font-size=\"14px\">#2</text><rect x=\"1374.0201171875003\" y=\"325.0\" width=\"168.50378906250003\" height=\"40\" stroke=\"black\" fill=\"white\" stroke-width=\"1\" /><text x=\"1458.2720117187503\" y=\"345.0\" dominant-baseline=\"middle\" text-anchor=\"middle\" font-size=\"14px\">(0.5+0j)*Z((0, 6))*Z((0, 8))</text><rect x=\"1374.0201171875003\" y=\"425.0\" width=\"168.50378906250003\" height=\"40\" stroke=\"black\" fill=\"white\" stroke-width=\"1\" /><text x=\"1458.2720117187503\" y=\"445.0\" dominant-baseline=\"middle\" text-anchor=\"middle\" font-size=\"14px\">#2</text><rect x=\"1374.0201171875003\" y=\"25.0\" width=\"168.50378906250003\" height=\"40\" stroke=\"black\" fill=\"white\" stroke-width=\"1\" /><text x=\"1458.2720117187503\" y=\"45.0\" dominant-baseline=\"middle\" text-anchor=\"middle\" font-size=\"14px\">(0.5+0j)*Z((0, 0))*Z((0, 1))</text><rect x=\"1374.0201171875003\" y=\"75.0\" width=\"168.50378906250003\" height=\"40\" stroke=\"black\" fill=\"white\" stroke-width=\"1\" /><text x=\"1458.2720117187503\" y=\"95.0\" dominant-baseline=\"middle\" text-anchor=\"middle\" font-size=\"14px\">#2</text><rect x=\"1552.5239062500004\" y=\"75.0\" width=\"168.50378906250003\" height=\"40\" stroke=\"black\" fill=\"white\" stroke-width=\"1\" /><text x=\"1636.7758007812504\" y=\"95.0\" dominant-baseline=\"middle\" text-anchor=\"middle\" font-size=\"14px\">(0.5+0j)*Z((0, 1))*Z((0, 8))</text><rect x=\"1552.5239062500004\" y=\"425.0\" width=\"168.50378906250003\" height=\"40\" stroke=\"black\" fill=\"white\" stroke-width=\"1\" /><text x=\"1636.7758007812504\" y=\"445.0\" dominant-baseline=\"middle\" text-anchor=\"middle\" font-size=\"14px\">#2</text><rect x=\"1721.0276953125006\" y=\"25.0\" width=\"168.50378906250003\" height=\"40\" stroke=\"black\" fill=\"white\" stroke-width=\"1\" /><text x=\"1805.2795898437505\" y=\"45.0\" dominant-baseline=\"middle\" text-anchor=\"middle\" font-size=\"14px\">(0.5+0j)*Z((0, 0))*Z((0, 3))</text><rect x=\"1721.0276953125006\" y=\"175.0\" width=\"168.50378906250003\" height=\"40\" stroke=\"black\" fill=\"white\" stroke-width=\"1\" /><text x=\"1805.2795898437505\" y=\"195.0\" dominant-baseline=\"middle\" text-anchor=\"middle\" font-size=\"14px\">#2</text><rect x=\"1919.5314843750007\" y=\"125.0\" width=\"168.50378906250003\" height=\"40\" stroke=\"black\" fill=\"white\" stroke-width=\"1\" /><text x=\"2003.7833789062506\" y=\"145.0\" dominant-baseline=\"middle\" text-anchor=\"middle\" font-size=\"14px\">(0.5+0j)*Z((0, 2))*Z((0, 3))</text><rect x=\"1919.5314843750007\" y=\"175.0\" width=\"168.50378906250003\" height=\"40\" stroke=\"black\" fill=\"white\" stroke-width=\"1\" /><text x=\"2003.7833789062506\" y=\"195.0\" dominant-baseline=\"middle\" text-anchor=\"middle\" font-size=\"14px\">#2</text><rect x=\"1919.5314843750007\" y=\"225.0\" width=\"168.50378906250003\" height=\"40\" stroke=\"black\" fill=\"white\" stroke-width=\"1\" /><text x=\"2003.7833789062506\" y=\"245.0\" dominant-baseline=\"middle\" text-anchor=\"middle\" font-size=\"14px\">(0.5+0j)*Z((0, 4))*Z((0, 8))</text><rect x=\"1919.5314843750007\" y=\"425.0\" width=\"168.50378906250003\" height=\"40\" stroke=\"black\" fill=\"white\" stroke-width=\"1\" /><text x=\"2003.7833789062506\" y=\"445.0\" dominant-baseline=\"middle\" text-anchor=\"middle\" font-size=\"14px\">#2</text><rect x=\"2108.0352734375006\" y=\"25.0\" width=\"168.50378906250003\" height=\"40\" stroke=\"black\" fill=\"white\" stroke-width=\"1\" /><text x=\"2192.2871679687505\" y=\"45.0\" dominant-baseline=\"middle\" text-anchor=\"middle\" font-size=\"14px\">(0.5+0j)*Z((0, 0))*Z((0, 4))</text><rect x=\"2108.0352734375006\" y=\"225.0\" width=\"168.50378906250003\" height=\"40\" stroke=\"black\" fill=\"white\" stroke-width=\"1\" /><text x=\"2192.2871679687505\" y=\"245.0\" dominant-baseline=\"middle\" text-anchor=\"middle\" font-size=\"14px\">#2</text><rect x=\"2108.0352734375006\" y=\"375.0\" width=\"168.50378906250003\" height=\"40\" stroke=\"black\" fill=\"white\" stroke-width=\"1\" /><text x=\"2192.2871679687505\" y=\"395.0\" dominant-baseline=\"middle\" text-anchor=\"middle\" font-size=\"14px\">(0.5+0j)*Z((0, 7))*Z((0, 8))</text><rect x=\"2108.0352734375006\" y=\"425.0\" width=\"168.50378906250003\" height=\"40\" stroke=\"black\" fill=\"white\" stroke-width=\"1\" /><text x=\"2192.2871679687505\" y=\"445.0\" dominant-baseline=\"middle\" text-anchor=\"middle\" font-size=\"14px\">#2</text><rect x=\"2296.5390625000005\" y=\"25.0\" width=\"168.50378906250003\" height=\"40\" stroke=\"black\" fill=\"white\" stroke-width=\"1\" /><text x=\"2380.7909570312504\" y=\"45.0\" dominant-baseline=\"middle\" text-anchor=\"middle\" font-size=\"14px\">(0.5+0j)*Z((0, 0))*Z((0, 2))</text><rect x=\"2296.5390625000005\" y=\"125.0\" width=\"168.50378906250003\" height=\"40\" stroke=\"black\" fill=\"white\" stroke-width=\"1\" /><text x=\"2380.7909570312504\" y=\"145.0\" dominant-baseline=\"middle\" text-anchor=\"middle\" font-size=\"14px\">#2</text><rect x=\"2485.0428515625003\" y=\"125.0\" width=\"168.50378906250003\" height=\"40\" stroke=\"black\" fill=\"white\" stroke-width=\"1\" /><text x=\"2569.2947460937503\" y=\"145.0\" dominant-baseline=\"middle\" text-anchor=\"middle\" font-size=\"14px\">(0.5+0j)*Z((0, 2))*Z((0, 7))</text><rect x=\"2485.0428515625003\" y=\"375.0\" width=\"168.50378906250003\" height=\"40\" stroke=\"black\" fill=\"white\" stroke-width=\"1\" /><text x=\"2569.2947460937503\" y=\"395.0\" dominant-baseline=\"middle\" text-anchor=\"middle\" font-size=\"14px\">#2</text></svg>"
      ],
      "text/plain": [
       "<cirq.contrib.svg.svg.SVGCircuit at 0x7fc8286defd0>"
      ]
     },
     "execution_count": 5,
     "metadata": {},
     "output_type": "execute_result"
    }
   ],
   "source": [
    "# Creat the cost Hamiltonian\n",
    "cost_H = maxcut_graph.number_of_edges()/2\n",
    "\n",
    "for edge in maxcut_graph.edges():\n",
    "    # Map the edges to qubit architecture\n",
    "    qubit1 = qubits[edge[0]]\n",
    "    qubit2 = qubits[edge[1]]\n",
    "    \n",
    "    # Apply the ZZ gate on connected qubits\n",
    "    cost_H += cirq.PauliString(1/2*cirq.Z(qubit1)*cirq.Z(qubit2))\n",
    "\n",
    "# View cost Hamiltonian structure\n",
    "c_H_circuit = cirq.Circuit(cost_H)\n",
    "SVGCircuit(c_H_circuit)\n",
    "    \n",
    "\n",
    "    "
   ]
  },
  {
   "cell_type": "code",
   "execution_count": 6,
   "metadata": {},
   "outputs": [
    {
     "name": "stdout",
     "output_type": "stream",
     "text": [
      "(5, 9)\n",
      "(5, 6)\n",
      "(5, 4)\n",
      "(5, 3)\n",
      "(9, 6)\n",
      "(9, 2)\n",
      "(9, 7)\n",
      "(6, 7)\n",
      "(6, 8)\n",
      "(1, 3)\n",
      "(1, 4)\n",
      "(1, 0)\n",
      "(1, 8)\n",
      "(3, 0)\n",
      "(3, 2)\n",
      "(4, 8)\n",
      "(4, 0)\n",
      "(8, 7)\n",
      "(0, 2)\n",
      "(7, 2)\n"
     ]
    }
   ],
   "source": [
    "# Compare structure to the 4-regular MaxCut graph edges to see if \n",
    "# they agree\n",
    "for edge in maxcut_graph.edges():\n",
    "    print(edge)"
   ]
  },
  {
   "cell_type": "code",
   "execution_count": 7,
   "metadata": {},
   "outputs": [
    {
     "data": {
      "image/svg+xml": [
       "<svg xmlns=\"http://www.w3.org/2000/svg\" width=\"7885.051171875002\" height=\"500.0\"><line x1=\"32.246796875\" x2=\"7855.051171875002\" y1=\"25.0\" y2=\"25.0\" stroke=\"#1967d2\" stroke-width=\"1\" /><line x1=\"32.246796875\" x2=\"7855.051171875002\" y1=\"75.0\" y2=\"75.0\" stroke=\"#1967d2\" stroke-width=\"1\" /><line x1=\"32.246796875\" x2=\"7855.051171875002\" y1=\"125.0\" y2=\"125.0\" stroke=\"#1967d2\" stroke-width=\"1\" /><line x1=\"32.246796875\" x2=\"7855.051171875002\" y1=\"175.0\" y2=\"175.0\" stroke=\"#1967d2\" stroke-width=\"1\" /><line x1=\"32.246796875\" x2=\"7855.051171875002\" y1=\"225.0\" y2=\"225.0\" stroke=\"#1967d2\" stroke-width=\"1\" /><line x1=\"32.246796875\" x2=\"7855.051171875002\" y1=\"275.0\" y2=\"275.0\" stroke=\"#1967d2\" stroke-width=\"1\" /><line x1=\"32.246796875\" x2=\"7855.051171875002\" y1=\"325.0\" y2=\"325.0\" stroke=\"#1967d2\" stroke-width=\"1\" /><line x1=\"32.246796875\" x2=\"7855.051171875002\" y1=\"375.0\" y2=\"375.0\" stroke=\"#1967d2\" stroke-width=\"1\" /><line x1=\"32.246796875\" x2=\"7855.051171875002\" y1=\"425.0\" y2=\"425.0\" stroke=\"#1967d2\" stroke-width=\"1\" /><line x1=\"32.246796875\" x2=\"7855.051171875002\" y1=\"475.0\" y2=\"475.0\" stroke=\"#1967d2\" stroke-width=\"1\" /><line x1=\"94.49359375\" x2=\"94.49359375\" y1=\"275.0\" y2=\"475.0\" stroke=\"black\" stroke-width=\"3\" /><line x1=\"280.91476562500003\" x2=\"280.91476562500003\" y1=\"275.0\" y2=\"475.0\" stroke=\"black\" stroke-width=\"3\" /><line x1=\"923.182890625\" x2=\"923.182890625\" y1=\"275.0\" y2=\"325.0\" stroke=\"black\" stroke-width=\"3\" /><line x1=\"1109.6040625\" x2=\"1109.6040625\" y1=\"275.0\" y2=\"325.0\" stroke=\"black\" stroke-width=\"3\" /><line x1=\"1169.6040625\" x2=\"1169.6040625\" y1=\"225.0\" y2=\"275.0\" stroke=\"black\" stroke-width=\"3\" /><line x1=\"1356.025234375\" x2=\"1356.025234375\" y1=\"225.0\" y2=\"275.0\" stroke=\"black\" stroke-width=\"3\" /><line x1=\"1416.025234375\" x2=\"1416.025234375\" y1=\"175.0\" y2=\"275.0\" stroke=\"black\" stroke-width=\"3\" /><line x1=\"1602.44640625\" x2=\"1602.44640625\" y1=\"175.0\" y2=\"275.0\" stroke=\"black\" stroke-width=\"3\" /><line x1=\"1662.44640625\" x2=\"1662.44640625\" y1=\"325.0\" y2=\"475.0\" stroke=\"black\" stroke-width=\"3\" /><line x1=\"1848.8675781250001\" x2=\"1848.8675781250001\" y1=\"325.0\" y2=\"475.0\" stroke=\"black\" stroke-width=\"3\" /><line x1=\"1908.8675781250001\" x2=\"1908.8675781250001\" y1=\"125.0\" y2=\"475.0\" stroke=\"black\" stroke-width=\"3\" /><line x1=\"2095.28875\" x2=\"2095.28875\" y1=\"125.0\" y2=\"475.0\" stroke=\"black\" stroke-width=\"3\" /><line x1=\"2155.28875\" x2=\"2155.28875\" y1=\"375.0\" y2=\"475.0\" stroke=\"black\" stroke-width=\"3\" /><line x1=\"2341.709921875\" x2=\"2341.709921875\" y1=\"375.0\" y2=\"475.0\" stroke=\"black\" stroke-width=\"3\" /><line x1=\"2401.709921875\" x2=\"2401.709921875\" y1=\"325.0\" y2=\"375.0\" stroke=\"black\" stroke-width=\"3\" /><line x1=\"2588.1310937499998\" x2=\"2588.1310937499998\" y1=\"325.0\" y2=\"375.0\" stroke=\"black\" stroke-width=\"3\" /><line x1=\"2648.1310937499998\" x2=\"2648.1310937499998\" y1=\"325.0\" y2=\"425.0\" stroke=\"black\" stroke-width=\"3\" /><line x1=\"2834.5522656249996\" x2=\"2834.5522656249996\" y1=\"325.0\" y2=\"425.0\" stroke=\"black\" stroke-width=\"3\" /><line x1=\"2894.5522656249996\" x2=\"2894.5522656249996\" y1=\"75.0\" y2=\"175.0\" stroke=\"black\" stroke-width=\"3\" /><line x1=\"3080.9734374999994\" x2=\"3080.9734374999994\" y1=\"75.0\" y2=\"175.0\" stroke=\"black\" stroke-width=\"3\" /><line x1=\"3140.9734374999994\" x2=\"3140.9734374999994\" y1=\"75.0\" y2=\"225.0\" stroke=\"black\" stroke-width=\"3\" /><line x1=\"3327.394609374999\" x2=\"3327.394609374999\" y1=\"75.0\" y2=\"225.0\" stroke=\"black\" stroke-width=\"3\" /><line x1=\"3387.394609374999\" x2=\"3387.394609374999\" y1=\"25.0\" y2=\"75.0\" stroke=\"black\" stroke-width=\"3\" /><line x1=\"3573.815781249999\" x2=\"3573.815781249999\" y1=\"25.0\" y2=\"75.0\" stroke=\"black\" stroke-width=\"3\" /><line x1=\"3633.815781249999\" x2=\"3633.815781249999\" y1=\"75.0\" y2=\"425.0\" stroke=\"black\" stroke-width=\"3\" /><line x1=\"3820.2369531249988\" x2=\"3820.2369531249988\" y1=\"75.0\" y2=\"425.0\" stroke=\"black\" stroke-width=\"3\" /><line x1=\"3880.2369531249988\" x2=\"3880.2369531249988\" y1=\"25.0\" y2=\"175.0\" stroke=\"black\" stroke-width=\"3\" /><line x1=\"4066.6581249999986\" x2=\"4066.6581249999986\" y1=\"25.0\" y2=\"175.0\" stroke=\"black\" stroke-width=\"3\" /><line x1=\"4126.658124999998\" x2=\"4126.658124999998\" y1=\"125.0\" y2=\"175.0\" stroke=\"black\" stroke-width=\"3\" /><line x1=\"4313.079296874998\" x2=\"4313.079296874998\" y1=\"125.0\" y2=\"175.0\" stroke=\"black\" stroke-width=\"3\" /><line x1=\"4373.079296874998\" x2=\"4373.079296874998\" y1=\"225.0\" y2=\"425.0\" stroke=\"black\" stroke-width=\"3\" /><line x1=\"4559.500468749999\" x2=\"4559.500468749999\" y1=\"225.0\" y2=\"425.0\" stroke=\"black\" stroke-width=\"3\" /><line x1=\"4619.500468749999\" x2=\"4619.500468749999\" y1=\"25.0\" y2=\"225.0\" stroke=\"black\" stroke-width=\"3\" /><line x1=\"4805.921640624999\" x2=\"4805.921640624999\" y1=\"25.0\" y2=\"225.0\" stroke=\"black\" stroke-width=\"3\" /><line x1=\"4865.921640624999\" x2=\"4865.921640624999\" y1=\"375.0\" y2=\"425.0\" stroke=\"black\" stroke-width=\"3\" /><line x1=\"5052.342812499999\" x2=\"5052.342812499999\" y1=\"375.0\" y2=\"425.0\" stroke=\"black\" stroke-width=\"3\" /><line x1=\"5112.342812499999\" x2=\"5112.342812499999\" y1=\"25.0\" y2=\"125.0\" stroke=\"black\" stroke-width=\"3\" /><line x1=\"5298.763984374999\" x2=\"5298.763984374999\" y1=\"25.0\" y2=\"125.0\" stroke=\"black\" stroke-width=\"3\" /><line x1=\"5358.763984374999\" x2=\"5358.763984374999\" y1=\"125.0\" y2=\"375.0\" stroke=\"black\" stroke-width=\"3\" /><line x1=\"5545.18515625\" x2=\"5545.18515625\" y1=\"125.0\" y2=\"375.0\" stroke=\"black\" stroke-width=\"3\" /><rect x=\"10.0\" y=\"5.0\" width=\"44.49359375\" height=\"40\" stroke=\"black\" fill=\"white\" stroke-width=\"0\" /><text x=\"32.246796875\" y=\"25.0\" dominant-baseline=\"middle\" text-anchor=\"middle\" font-size=\"14px\">(0, 0): </text><rect x=\"10.0\" y=\"55.0\" width=\"44.49359375\" height=\"40\" stroke=\"black\" fill=\"white\" stroke-width=\"0\" /><text x=\"32.246796875\" y=\"75.0\" dominant-baseline=\"middle\" text-anchor=\"middle\" font-size=\"14px\">(0, 1): </text><rect x=\"10.0\" y=\"105.0\" width=\"44.49359375\" height=\"40\" stroke=\"black\" fill=\"white\" stroke-width=\"0\" /><text x=\"32.246796875\" y=\"125.0\" dominant-baseline=\"middle\" text-anchor=\"middle\" font-size=\"14px\">(0, 2): </text><rect x=\"10.0\" y=\"155.0\" width=\"44.49359375\" height=\"40\" stroke=\"black\" fill=\"white\" stroke-width=\"0\" /><text x=\"32.246796875\" y=\"175.0\" dominant-baseline=\"middle\" text-anchor=\"middle\" font-size=\"14px\">(0, 3): </text><rect x=\"10.0\" y=\"205.0\" width=\"44.49359375\" height=\"40\" stroke=\"black\" fill=\"white\" stroke-width=\"0\" /><text x=\"32.246796875\" y=\"225.0\" dominant-baseline=\"middle\" text-anchor=\"middle\" font-size=\"14px\">(0, 4): </text><rect x=\"10.0\" y=\"255.0\" width=\"44.49359375\" height=\"40\" stroke=\"black\" fill=\"white\" stroke-width=\"0\" /><text x=\"32.246796875\" y=\"275.0\" dominant-baseline=\"middle\" text-anchor=\"middle\" font-size=\"14px\">(0, 5): </text><rect x=\"10.0\" y=\"305.0\" width=\"44.49359375\" height=\"40\" stroke=\"black\" fill=\"white\" stroke-width=\"0\" /><text x=\"32.246796875\" y=\"325.0\" dominant-baseline=\"middle\" text-anchor=\"middle\" font-size=\"14px\">(0, 6): </text><rect x=\"10.0\" y=\"355.0\" width=\"44.49359375\" height=\"40\" stroke=\"black\" fill=\"white\" stroke-width=\"0\" /><text x=\"32.246796875\" y=\"375.0\" dominant-baseline=\"middle\" text-anchor=\"middle\" font-size=\"14px\">(0, 7): </text><rect x=\"10.0\" y=\"405.0\" width=\"44.49359375\" height=\"40\" stroke=\"black\" fill=\"white\" stroke-width=\"0\" /><text x=\"32.246796875\" y=\"425.0\" dominant-baseline=\"middle\" text-anchor=\"middle\" font-size=\"14px\">(0, 8): </text><rect x=\"10.0\" y=\"455.0\" width=\"44.49359375\" height=\"40\" stroke=\"black\" fill=\"white\" stroke-width=\"0\" /><text x=\"32.246796875\" y=\"475.0\" dominant-baseline=\"middle\" text-anchor=\"middle\" font-size=\"14px\">(0, 9): </text><circle cx=\"94.49359375\" cy=\"275.0\" r=\"10.0\" /><rect x=\"74.49359375\" y=\"455.0\" width=\"40\" height=\"40\" stroke=\"black\" fill=\"white\" stroke-width=\"1\" /><text x=\"94.49359375\" y=\"475.0\" dominant-baseline=\"middle\" text-anchor=\"middle\" font-size=\"18px\">X</text><rect x=\"134.49359375\" y=\"455.0\" width=\"106.42117187500001\" height=\"40\" stroke=\"black\" fill=\"white\" stroke-width=\"1\" /><text x=\"187.70417968750002\" y=\"475.0\" dominant-baseline=\"middle\" text-anchor=\"middle\" font-size=\"14px\">Rz(1.0*gamma)</text><circle cx=\"280.91476562500003\" cy=\"275.0\" r=\"10.0\" /><rect x=\"260.91476562500003\" y=\"455.0\" width=\"40\" height=\"40\" stroke=\"black\" fill=\"white\" stroke-width=\"1\" /><text x=\"280.91476562500003\" y=\"475.0\" dominant-baseline=\"middle\" text-anchor=\"middle\" font-size=\"18px\">X</text><rect x=\"320.91476562500003\" y=\"5.0\" width=\"40\" height=\"40\" stroke=\"black\" fill=\"white\" stroke-width=\"1\" /><text x=\"340.91476562500003\" y=\"25.0\" dominant-baseline=\"middle\" text-anchor=\"middle\" font-size=\"18px\">X</text><rect x=\"380.91476562500003\" y=\"5.0\" width=\"211.13406250000003\" height=\"40\" stroke=\"black\" fill=\"white\" stroke-width=\"1\" /><text x=\"486.48179687500004\" y=\"25.0\" dominant-baseline=\"middle\" text-anchor=\"middle\" font-size=\"14px\">Z^(-3.18309886183791*gamma)</text><rect x=\"612.048828125\" y=\"5.0\" width=\"40\" height=\"40\" stroke=\"black\" fill=\"white\" stroke-width=\"1\" /><text x=\"632.048828125\" y=\"25.0\" dominant-baseline=\"middle\" text-anchor=\"middle\" font-size=\"18px\">X</text><rect x=\"672.048828125\" y=\"5.0\" width=\"211.13406250000003\" height=\"40\" stroke=\"black\" fill=\"white\" stroke-width=\"1\" /><text x=\"777.615859375\" y=\"25.0\" dominant-baseline=\"middle\" text-anchor=\"middle\" font-size=\"14px\">Z^(-3.18309886183791*gamma)</text><circle cx=\"923.182890625\" cy=\"275.0\" r=\"10.0\" /><rect x=\"903.182890625\" y=\"305.0\" width=\"40\" height=\"40\" stroke=\"black\" fill=\"white\" stroke-width=\"1\" /><text x=\"923.182890625\" y=\"325.0\" dominant-baseline=\"middle\" text-anchor=\"middle\" font-size=\"18px\">X</text><rect x=\"963.182890625\" y=\"305.0\" width=\"106.42117187500001\" height=\"40\" stroke=\"black\" fill=\"white\" stroke-width=\"1\" /><text x=\"1016.3934765625\" y=\"325.0\" dominant-baseline=\"middle\" text-anchor=\"middle\" font-size=\"14px\">Rz(1.0*gamma)</text><circle cx=\"1109.6040625\" cy=\"275.0\" r=\"10.0\" /><rect x=\"1089.6040625\" y=\"305.0\" width=\"40\" height=\"40\" stroke=\"black\" fill=\"white\" stroke-width=\"1\" /><text x=\"1109.6040625\" y=\"325.0\" dominant-baseline=\"middle\" text-anchor=\"middle\" font-size=\"18px\">X</text><circle cx=\"1169.6040625\" cy=\"225.0\" r=\"10.0\" /><rect x=\"1149.6040625\" y=\"255.0\" width=\"40\" height=\"40\" stroke=\"black\" fill=\"white\" stroke-width=\"1\" /><text x=\"1169.6040625\" y=\"275.0\" dominant-baseline=\"middle\" text-anchor=\"middle\" font-size=\"18px\">X</text><rect x=\"1209.6040625\" y=\"255.0\" width=\"106.42117187500001\" height=\"40\" stroke=\"black\" fill=\"white\" stroke-width=\"1\" /><text x=\"1262.8146484375\" y=\"275.0\" dominant-baseline=\"middle\" text-anchor=\"middle\" font-size=\"14px\">Rz(1.0*gamma)</text><circle cx=\"1356.025234375\" cy=\"225.0\" r=\"10.0\" /><rect x=\"1336.025234375\" y=\"255.0\" width=\"40\" height=\"40\" stroke=\"black\" fill=\"white\" stroke-width=\"1\" /><text x=\"1356.025234375\" y=\"275.0\" dominant-baseline=\"middle\" text-anchor=\"middle\" font-size=\"18px\">X</text><circle cx=\"1416.025234375\" cy=\"175.0\" r=\"10.0\" /><rect x=\"1396.025234375\" y=\"255.0\" width=\"40\" height=\"40\" stroke=\"black\" fill=\"white\" stroke-width=\"1\" /><text x=\"1416.025234375\" y=\"275.0\" dominant-baseline=\"middle\" text-anchor=\"middle\" font-size=\"18px\">X</text><rect x=\"1456.025234375\" y=\"255.0\" width=\"106.42117187500001\" height=\"40\" stroke=\"black\" fill=\"white\" stroke-width=\"1\" /><text x=\"1509.2358203125\" y=\"275.0\" dominant-baseline=\"middle\" text-anchor=\"middle\" font-size=\"14px\">Rz(1.0*gamma)</text><circle cx=\"1602.44640625\" cy=\"175.0\" r=\"10.0\" /><rect x=\"1582.44640625\" y=\"255.0\" width=\"40\" height=\"40\" stroke=\"black\" fill=\"white\" stroke-width=\"1\" /><text x=\"1602.44640625\" y=\"275.0\" dominant-baseline=\"middle\" text-anchor=\"middle\" font-size=\"18px\">X</text><circle cx=\"1662.44640625\" cy=\"325.0\" r=\"10.0\" /><rect x=\"1642.44640625\" y=\"455.0\" width=\"40\" height=\"40\" stroke=\"black\" fill=\"white\" stroke-width=\"1\" /><text x=\"1662.44640625\" y=\"475.0\" dominant-baseline=\"middle\" text-anchor=\"middle\" font-size=\"18px\">X</text><rect x=\"1702.44640625\" y=\"455.0\" width=\"106.42117187500001\" height=\"40\" stroke=\"black\" fill=\"white\" stroke-width=\"1\" /><text x=\"1755.6569921875\" y=\"475.0\" dominant-baseline=\"middle\" text-anchor=\"middle\" font-size=\"14px\">Rz(1.0*gamma)</text><circle cx=\"1848.8675781250001\" cy=\"325.0\" r=\"10.0\" /><rect x=\"1828.8675781250001\" y=\"455.0\" width=\"40\" height=\"40\" stroke=\"black\" fill=\"white\" stroke-width=\"1\" /><text x=\"1848.8675781250001\" y=\"475.0\" dominant-baseline=\"middle\" text-anchor=\"middle\" font-size=\"18px\">X</text><circle cx=\"1908.8675781250001\" cy=\"125.0\" r=\"10.0\" /><rect x=\"1888.8675781250001\" y=\"455.0\" width=\"40\" height=\"40\" stroke=\"black\" fill=\"white\" stroke-width=\"1\" /><text x=\"1908.8675781250001\" y=\"475.0\" dominant-baseline=\"middle\" text-anchor=\"middle\" font-size=\"18px\">X</text><rect x=\"1948.8675781250001\" y=\"455.0\" width=\"106.42117187500001\" height=\"40\" stroke=\"black\" fill=\"white\" stroke-width=\"1\" /><text x=\"2002.0781640625\" y=\"475.0\" dominant-baseline=\"middle\" text-anchor=\"middle\" font-size=\"14px\">Rz(1.0*gamma)</text><circle cx=\"2095.28875\" cy=\"125.0\" r=\"10.0\" /><rect x=\"2075.28875\" y=\"455.0\" width=\"40\" height=\"40\" stroke=\"black\" fill=\"white\" stroke-width=\"1\" /><text x=\"2095.28875\" y=\"475.0\" dominant-baseline=\"middle\" text-anchor=\"middle\" font-size=\"18px\">X</text><circle cx=\"2155.28875\" cy=\"375.0\" r=\"10.0\" /><rect x=\"2135.28875\" y=\"455.0\" width=\"40\" height=\"40\" stroke=\"black\" fill=\"white\" stroke-width=\"1\" /><text x=\"2155.28875\" y=\"475.0\" dominant-baseline=\"middle\" text-anchor=\"middle\" font-size=\"18px\">X</text><rect x=\"2195.28875\" y=\"455.0\" width=\"106.42117187500001\" height=\"40\" stroke=\"black\" fill=\"white\" stroke-width=\"1\" /><text x=\"2248.4993359375003\" y=\"475.0\" dominant-baseline=\"middle\" text-anchor=\"middle\" font-size=\"14px\">Rz(1.0*gamma)</text><circle cx=\"2341.709921875\" cy=\"375.0\" r=\"10.0\" /><rect x=\"2321.709921875\" y=\"455.0\" width=\"40\" height=\"40\" stroke=\"black\" fill=\"white\" stroke-width=\"1\" /><text x=\"2341.709921875\" y=\"475.0\" dominant-baseline=\"middle\" text-anchor=\"middle\" font-size=\"18px\">X</text><circle cx=\"2401.709921875\" cy=\"325.0\" r=\"10.0\" /><rect x=\"2381.709921875\" y=\"355.0\" width=\"40\" height=\"40\" stroke=\"black\" fill=\"white\" stroke-width=\"1\" /><text x=\"2401.709921875\" y=\"375.0\" dominant-baseline=\"middle\" text-anchor=\"middle\" font-size=\"18px\">X</text><rect x=\"2441.709921875\" y=\"355.0\" width=\"106.42117187500001\" height=\"40\" stroke=\"black\" fill=\"white\" stroke-width=\"1\" /><text x=\"2494.9205078125\" y=\"375.0\" dominant-baseline=\"middle\" text-anchor=\"middle\" font-size=\"14px\">Rz(1.0*gamma)</text><circle cx=\"2588.1310937499998\" cy=\"325.0\" r=\"10.0\" /><rect x=\"2568.1310937499998\" y=\"355.0\" width=\"40\" height=\"40\" stroke=\"black\" fill=\"white\" stroke-width=\"1\" /><text x=\"2588.1310937499998\" y=\"375.0\" dominant-baseline=\"middle\" text-anchor=\"middle\" font-size=\"18px\">X</text><circle cx=\"2648.1310937499998\" cy=\"325.0\" r=\"10.0\" /><rect x=\"2628.1310937499998\" y=\"405.0\" width=\"40\" height=\"40\" stroke=\"black\" fill=\"white\" stroke-width=\"1\" /><text x=\"2648.1310937499998\" y=\"425.0\" dominant-baseline=\"middle\" text-anchor=\"middle\" font-size=\"18px\">X</text><rect x=\"2688.1310937499998\" y=\"405.0\" width=\"106.42117187500001\" height=\"40\" stroke=\"black\" fill=\"white\" stroke-width=\"1\" /><text x=\"2741.3416796875\" y=\"425.0\" dominant-baseline=\"middle\" text-anchor=\"middle\" font-size=\"14px\">Rz(1.0*gamma)</text><circle cx=\"2834.5522656249996\" cy=\"325.0\" r=\"10.0\" /><rect x=\"2814.5522656249996\" y=\"405.0\" width=\"40\" height=\"40\" stroke=\"black\" fill=\"white\" stroke-width=\"1\" /><text x=\"2834.5522656249996\" y=\"425.0\" dominant-baseline=\"middle\" text-anchor=\"middle\" font-size=\"18px\">X</text><circle cx=\"2894.5522656249996\" cy=\"75.0\" r=\"10.0\" /><rect x=\"2874.5522656249996\" y=\"155.0\" width=\"40\" height=\"40\" stroke=\"black\" fill=\"white\" stroke-width=\"1\" /><text x=\"2894.5522656249996\" y=\"175.0\" dominant-baseline=\"middle\" text-anchor=\"middle\" font-size=\"18px\">X</text><rect x=\"2934.5522656249996\" y=\"155.0\" width=\"106.42117187500001\" height=\"40\" stroke=\"black\" fill=\"white\" stroke-width=\"1\" /><text x=\"2987.7628515624997\" y=\"175.0\" dominant-baseline=\"middle\" text-anchor=\"middle\" font-size=\"14px\">Rz(1.0*gamma)</text><circle cx=\"3080.9734374999994\" cy=\"75.0\" r=\"10.0\" /><rect x=\"3060.9734374999994\" y=\"155.0\" width=\"40\" height=\"40\" stroke=\"black\" fill=\"white\" stroke-width=\"1\" /><text x=\"3080.9734374999994\" y=\"175.0\" dominant-baseline=\"middle\" text-anchor=\"middle\" font-size=\"18px\">X</text><circle cx=\"3140.9734374999994\" cy=\"75.0\" r=\"10.0\" /><rect x=\"3120.9734374999994\" y=\"205.0\" width=\"40\" height=\"40\" stroke=\"black\" fill=\"white\" stroke-width=\"1\" /><text x=\"3140.9734374999994\" y=\"225.0\" dominant-baseline=\"middle\" text-anchor=\"middle\" font-size=\"18px\">X</text><rect x=\"3180.9734374999994\" y=\"205.0\" width=\"106.42117187500001\" height=\"40\" stroke=\"black\" fill=\"white\" stroke-width=\"1\" /><text x=\"3234.1840234374995\" y=\"225.0\" dominant-baseline=\"middle\" text-anchor=\"middle\" font-size=\"14px\">Rz(1.0*gamma)</text><circle cx=\"3327.394609374999\" cy=\"75.0\" r=\"10.0\" /><rect x=\"3307.394609374999\" y=\"205.0\" width=\"40\" height=\"40\" stroke=\"black\" fill=\"white\" stroke-width=\"1\" /><text x=\"3327.394609374999\" y=\"225.0\" dominant-baseline=\"middle\" text-anchor=\"middle\" font-size=\"18px\">X</text><circle cx=\"3387.394609374999\" cy=\"25.0\" r=\"10.0\" /><rect x=\"3367.394609374999\" y=\"55.0\" width=\"40\" height=\"40\" stroke=\"black\" fill=\"white\" stroke-width=\"1\" /><text x=\"3387.394609374999\" y=\"75.0\" dominant-baseline=\"middle\" text-anchor=\"middle\" font-size=\"18px\">X</text><rect x=\"3427.394609374999\" y=\"55.0\" width=\"106.42117187500001\" height=\"40\" stroke=\"black\" fill=\"white\" stroke-width=\"1\" /><text x=\"3480.6051953124993\" y=\"75.0\" dominant-baseline=\"middle\" text-anchor=\"middle\" font-size=\"14px\">Rz(1.0*gamma)</text><circle cx=\"3573.815781249999\" cy=\"25.0\" r=\"10.0\" /><rect x=\"3553.815781249999\" y=\"55.0\" width=\"40\" height=\"40\" stroke=\"black\" fill=\"white\" stroke-width=\"1\" /><text x=\"3573.815781249999\" y=\"75.0\" dominant-baseline=\"middle\" text-anchor=\"middle\" font-size=\"18px\">X</text><circle cx=\"3633.815781249999\" cy=\"75.0\" r=\"10.0\" /><rect x=\"3613.815781249999\" y=\"405.0\" width=\"40\" height=\"40\" stroke=\"black\" fill=\"white\" stroke-width=\"1\" /><text x=\"3633.815781249999\" y=\"425.0\" dominant-baseline=\"middle\" text-anchor=\"middle\" font-size=\"18px\">X</text><rect x=\"3673.815781249999\" y=\"405.0\" width=\"106.42117187500001\" height=\"40\" stroke=\"black\" fill=\"white\" stroke-width=\"1\" /><text x=\"3727.026367187499\" y=\"425.0\" dominant-baseline=\"middle\" text-anchor=\"middle\" font-size=\"14px\">Rz(1.0*gamma)</text><circle cx=\"3820.2369531249988\" cy=\"75.0\" r=\"10.0\" /><rect x=\"3800.2369531249988\" y=\"405.0\" width=\"40\" height=\"40\" stroke=\"black\" fill=\"white\" stroke-width=\"1\" /><text x=\"3820.2369531249988\" y=\"425.0\" dominant-baseline=\"middle\" text-anchor=\"middle\" font-size=\"18px\">X</text><circle cx=\"3880.2369531249988\" cy=\"25.0\" r=\"10.0\" /><rect x=\"3860.2369531249988\" y=\"155.0\" width=\"40\" height=\"40\" stroke=\"black\" fill=\"white\" stroke-width=\"1\" /><text x=\"3880.2369531249988\" y=\"175.0\" dominant-baseline=\"middle\" text-anchor=\"middle\" font-size=\"18px\">X</text><rect x=\"3920.2369531249988\" y=\"155.0\" width=\"106.42117187500001\" height=\"40\" stroke=\"black\" fill=\"white\" stroke-width=\"1\" /><text x=\"3973.447539062499\" y=\"175.0\" dominant-baseline=\"middle\" text-anchor=\"middle\" font-size=\"14px\">Rz(1.0*gamma)</text><circle cx=\"4066.6581249999986\" cy=\"25.0\" r=\"10.0\" /><rect x=\"4046.6581249999986\" y=\"155.0\" width=\"40\" height=\"40\" stroke=\"black\" fill=\"white\" stroke-width=\"1\" /><text x=\"4066.6581249999986\" y=\"175.0\" dominant-baseline=\"middle\" text-anchor=\"middle\" font-size=\"18px\">X</text><circle cx=\"4126.658124999998\" cy=\"125.0\" r=\"10.0\" /><rect x=\"4106.658124999998\" y=\"155.0\" width=\"40\" height=\"40\" stroke=\"black\" fill=\"white\" stroke-width=\"1\" /><text x=\"4126.658124999998\" y=\"175.0\" dominant-baseline=\"middle\" text-anchor=\"middle\" font-size=\"18px\">X</text><rect x=\"4166.658124999998\" y=\"155.0\" width=\"106.42117187500001\" height=\"40\" stroke=\"black\" fill=\"white\" stroke-width=\"1\" /><text x=\"4219.868710937498\" y=\"175.0\" dominant-baseline=\"middle\" text-anchor=\"middle\" font-size=\"14px\">Rz(1.0*gamma)</text><circle cx=\"4313.079296874998\" cy=\"125.0\" r=\"10.0\" /><rect x=\"4293.079296874998\" y=\"155.0\" width=\"40\" height=\"40\" stroke=\"black\" fill=\"white\" stroke-width=\"1\" /><text x=\"4313.079296874998\" y=\"175.0\" dominant-baseline=\"middle\" text-anchor=\"middle\" font-size=\"18px\">X</text><circle cx=\"4373.079296874998\" cy=\"225.0\" r=\"10.0\" /><rect x=\"4353.079296874998\" y=\"405.0\" width=\"40\" height=\"40\" stroke=\"black\" fill=\"white\" stroke-width=\"1\" /><text x=\"4373.079296874998\" y=\"425.0\" dominant-baseline=\"middle\" text-anchor=\"middle\" font-size=\"18px\">X</text><rect x=\"4413.079296874998\" y=\"405.0\" width=\"106.42117187500001\" height=\"40\" stroke=\"black\" fill=\"white\" stroke-width=\"1\" /><text x=\"4466.289882812498\" y=\"425.0\" dominant-baseline=\"middle\" text-anchor=\"middle\" font-size=\"14px\">Rz(1.0*gamma)</text><circle cx=\"4559.500468749999\" cy=\"225.0\" r=\"10.0\" /><rect x=\"4539.500468749999\" y=\"405.0\" width=\"40\" height=\"40\" stroke=\"black\" fill=\"white\" stroke-width=\"1\" /><text x=\"4559.500468749999\" y=\"425.0\" dominant-baseline=\"middle\" text-anchor=\"middle\" font-size=\"18px\">X</text><circle cx=\"4619.500468749999\" cy=\"25.0\" r=\"10.0\" /><rect x=\"4599.500468749999\" y=\"205.0\" width=\"40\" height=\"40\" stroke=\"black\" fill=\"white\" stroke-width=\"1\" /><text x=\"4619.500468749999\" y=\"225.0\" dominant-baseline=\"middle\" text-anchor=\"middle\" font-size=\"18px\">X</text><rect x=\"4659.500468749999\" y=\"205.0\" width=\"106.42117187500001\" height=\"40\" stroke=\"black\" fill=\"white\" stroke-width=\"1\" /><text x=\"4712.711054687498\" y=\"225.0\" dominant-baseline=\"middle\" text-anchor=\"middle\" font-size=\"14px\">Rz(1.0*gamma)</text><circle cx=\"4805.921640624999\" cy=\"25.0\" r=\"10.0\" /><rect x=\"4785.921640624999\" y=\"205.0\" width=\"40\" height=\"40\" stroke=\"black\" fill=\"white\" stroke-width=\"1\" /><text x=\"4805.921640624999\" y=\"225.0\" dominant-baseline=\"middle\" text-anchor=\"middle\" font-size=\"18px\">X</text><circle cx=\"4865.921640624999\" cy=\"375.0\" r=\"10.0\" /><rect x=\"4845.921640624999\" y=\"405.0\" width=\"40\" height=\"40\" stroke=\"black\" fill=\"white\" stroke-width=\"1\" /><text x=\"4865.921640624999\" y=\"425.0\" dominant-baseline=\"middle\" text-anchor=\"middle\" font-size=\"18px\">X</text><rect x=\"4905.921640624999\" y=\"405.0\" width=\"106.42117187500001\" height=\"40\" stroke=\"black\" fill=\"white\" stroke-width=\"1\" /><text x=\"4959.1322265624985\" y=\"425.0\" dominant-baseline=\"middle\" text-anchor=\"middle\" font-size=\"14px\">Rz(1.0*gamma)</text><circle cx=\"5052.342812499999\" cy=\"375.0\" r=\"10.0\" /><rect x=\"5032.342812499999\" y=\"405.0\" width=\"40\" height=\"40\" stroke=\"black\" fill=\"white\" stroke-width=\"1\" /><text x=\"5052.342812499999\" y=\"425.0\" dominant-baseline=\"middle\" text-anchor=\"middle\" font-size=\"18px\">X</text><circle cx=\"5112.342812499999\" cy=\"25.0\" r=\"10.0\" /><rect x=\"5092.342812499999\" y=\"105.0\" width=\"40\" height=\"40\" stroke=\"black\" fill=\"white\" stroke-width=\"1\" /><text x=\"5112.342812499999\" y=\"125.0\" dominant-baseline=\"middle\" text-anchor=\"middle\" font-size=\"18px\">X</text><rect x=\"5152.342812499999\" y=\"105.0\" width=\"106.42117187500001\" height=\"40\" stroke=\"black\" fill=\"white\" stroke-width=\"1\" /><text x=\"5205.553398437499\" y=\"125.0\" dominant-baseline=\"middle\" text-anchor=\"middle\" font-size=\"14px\">Rz(1.0*gamma)</text><circle cx=\"5298.763984374999\" cy=\"25.0\" r=\"10.0\" /><rect x=\"5278.763984374999\" y=\"105.0\" width=\"40\" height=\"40\" stroke=\"black\" fill=\"white\" stroke-width=\"1\" /><text x=\"5298.763984374999\" y=\"125.0\" dominant-baseline=\"middle\" text-anchor=\"middle\" font-size=\"18px\">X</text><circle cx=\"5358.763984374999\" cy=\"125.0\" r=\"10.0\" /><rect x=\"5338.763984374999\" y=\"355.0\" width=\"40\" height=\"40\" stroke=\"black\" fill=\"white\" stroke-width=\"1\" /><text x=\"5358.763984374999\" y=\"375.0\" dominant-baseline=\"middle\" text-anchor=\"middle\" font-size=\"18px\">X</text><rect x=\"5398.763984374999\" y=\"355.0\" width=\"106.42117187500001\" height=\"40\" stroke=\"black\" fill=\"white\" stroke-width=\"1\" /><text x=\"5451.974570312499\" y=\"375.0\" dominant-baseline=\"middle\" text-anchor=\"middle\" font-size=\"14px\">Rz(1.0*gamma)</text><circle cx=\"5545.18515625\" cy=\"125.0\" r=\"10.0\" /><rect x=\"5525.18515625\" y=\"355.0\" width=\"40\" height=\"40\" stroke=\"black\" fill=\"white\" stroke-width=\"1\" /><text x=\"5545.18515625\" y=\"375.0\" dominant-baseline=\"middle\" text-anchor=\"middle\" font-size=\"18px\">X</text><rect x=\"5585.18515625\" y=\"255.0\" width=\"40\" height=\"40\" stroke=\"black\" fill=\"white\" stroke-width=\"1\" /><text x=\"5605.18515625\" y=\"275.0\" dominant-baseline=\"middle\" text-anchor=\"middle\" font-size=\"18px\">H</text><rect x=\"5645.18515625\" y=\"255.0\" width=\"86.98660156250001\" height=\"40\" stroke=\"black\" fill=\"white\" stroke-width=\"1\" /><text x=\"5688.678457031249\" y=\"275.0\" dominant-baseline=\"middle\" text-anchor=\"middle\" font-size=\"14px\">Rz(2.0*beta)</text><rect x=\"5752.1717578125\" y=\"255.0\" width=\"40\" height=\"40\" stroke=\"black\" fill=\"white\" stroke-width=\"1\" /><text x=\"5772.1717578125\" y=\"275.0\" dominant-baseline=\"middle\" text-anchor=\"middle\" font-size=\"18px\">H</text><rect x=\"5812.1717578125\" y=\"455.0\" width=\"40\" height=\"40\" stroke=\"black\" fill=\"white\" stroke-width=\"1\" /><text x=\"5832.1717578125\" y=\"475.0\" dominant-baseline=\"middle\" text-anchor=\"middle\" font-size=\"18px\">H</text><rect x=\"5872.1717578125\" y=\"455.0\" width=\"86.98660156250001\" height=\"40\" stroke=\"black\" fill=\"white\" stroke-width=\"1\" /><text x=\"5915.66505859375\" y=\"475.0\" dominant-baseline=\"middle\" text-anchor=\"middle\" font-size=\"14px\">Rz(2.0*beta)</text><rect x=\"5979.158359375\" y=\"455.0\" width=\"40\" height=\"40\" stroke=\"black\" fill=\"white\" stroke-width=\"1\" /><text x=\"5999.158359375\" y=\"475.0\" dominant-baseline=\"middle\" text-anchor=\"middle\" font-size=\"18px\">H</text><rect x=\"6039.158359375\" y=\"305.0\" width=\"40\" height=\"40\" stroke=\"black\" fill=\"white\" stroke-width=\"1\" /><text x=\"6059.158359375\" y=\"325.0\" dominant-baseline=\"middle\" text-anchor=\"middle\" font-size=\"18px\">H</text><rect x=\"6099.158359375\" y=\"305.0\" width=\"86.98660156250001\" height=\"40\" stroke=\"black\" fill=\"white\" stroke-width=\"1\" /><text x=\"6142.65166015625\" y=\"325.0\" dominant-baseline=\"middle\" text-anchor=\"middle\" font-size=\"14px\">Rz(2.0*beta)</text><rect x=\"6206.1449609375\" y=\"305.0\" width=\"40\" height=\"40\" stroke=\"black\" fill=\"white\" stroke-width=\"1\" /><text x=\"6226.1449609375\" y=\"325.0\" dominant-baseline=\"middle\" text-anchor=\"middle\" font-size=\"18px\">H</text><rect x=\"6266.1449609375\" y=\"55.0\" width=\"40\" height=\"40\" stroke=\"black\" fill=\"white\" stroke-width=\"1\" /><text x=\"6286.1449609375\" y=\"75.0\" dominant-baseline=\"middle\" text-anchor=\"middle\" font-size=\"18px\">H</text><rect x=\"6326.1449609375\" y=\"55.0\" width=\"86.98660156250001\" height=\"40\" stroke=\"black\" fill=\"white\" stroke-width=\"1\" /><text x=\"6369.63826171875\" y=\"75.0\" dominant-baseline=\"middle\" text-anchor=\"middle\" font-size=\"14px\">Rz(2.0*beta)</text><rect x=\"6433.131562500001\" y=\"55.0\" width=\"40\" height=\"40\" stroke=\"black\" fill=\"white\" stroke-width=\"1\" /><text x=\"6453.131562500001\" y=\"75.0\" dominant-baseline=\"middle\" text-anchor=\"middle\" font-size=\"18px\">H</text><rect x=\"6493.131562500001\" y=\"155.0\" width=\"40\" height=\"40\" stroke=\"black\" fill=\"white\" stroke-width=\"1\" /><text x=\"6513.131562500001\" y=\"175.0\" dominant-baseline=\"middle\" text-anchor=\"middle\" font-size=\"18px\">H</text><rect x=\"6553.131562500001\" y=\"155.0\" width=\"86.98660156250001\" height=\"40\" stroke=\"black\" fill=\"white\" stroke-width=\"1\" /><text x=\"6596.62486328125\" y=\"175.0\" dominant-baseline=\"middle\" text-anchor=\"middle\" font-size=\"14px\">Rz(2.0*beta)</text><rect x=\"6660.118164062501\" y=\"155.0\" width=\"40\" height=\"40\" stroke=\"black\" fill=\"white\" stroke-width=\"1\" /><text x=\"6680.118164062501\" y=\"175.0\" dominant-baseline=\"middle\" text-anchor=\"middle\" font-size=\"18px\">H</text><rect x=\"6720.118164062501\" y=\"205.0\" width=\"40\" height=\"40\" stroke=\"black\" fill=\"white\" stroke-width=\"1\" /><text x=\"6740.118164062501\" y=\"225.0\" dominant-baseline=\"middle\" text-anchor=\"middle\" font-size=\"18px\">H</text><rect x=\"6780.118164062501\" y=\"205.0\" width=\"86.98660156250001\" height=\"40\" stroke=\"black\" fill=\"white\" stroke-width=\"1\" /><text x=\"6823.611464843751\" y=\"225.0\" dominant-baseline=\"middle\" text-anchor=\"middle\" font-size=\"14px\">Rz(2.0*beta)</text><rect x=\"6887.104765625001\" y=\"205.0\" width=\"40\" height=\"40\" stroke=\"black\" fill=\"white\" stroke-width=\"1\" /><text x=\"6907.104765625001\" y=\"225.0\" dominant-baseline=\"middle\" text-anchor=\"middle\" font-size=\"18px\">H</text><rect x=\"6947.104765625001\" y=\"405.0\" width=\"40\" height=\"40\" stroke=\"black\" fill=\"white\" stroke-width=\"1\" /><text x=\"6967.104765625001\" y=\"425.0\" dominant-baseline=\"middle\" text-anchor=\"middle\" font-size=\"18px\">H</text><rect x=\"7007.104765625001\" y=\"405.0\" width=\"86.98660156250001\" height=\"40\" stroke=\"black\" fill=\"white\" stroke-width=\"1\" /><text x=\"7050.598066406251\" y=\"425.0\" dominant-baseline=\"middle\" text-anchor=\"middle\" font-size=\"14px\">Rz(2.0*beta)</text><rect x=\"7114.091367187501\" y=\"405.0\" width=\"40\" height=\"40\" stroke=\"black\" fill=\"white\" stroke-width=\"1\" /><text x=\"7134.091367187501\" y=\"425.0\" dominant-baseline=\"middle\" text-anchor=\"middle\" font-size=\"18px\">H</text><rect x=\"7174.091367187501\" y=\"5.0\" width=\"40\" height=\"40\" stroke=\"black\" fill=\"white\" stroke-width=\"1\" /><text x=\"7194.091367187501\" y=\"25.0\" dominant-baseline=\"middle\" text-anchor=\"middle\" font-size=\"18px\">H</text><rect x=\"7234.091367187501\" y=\"5.0\" width=\"86.98660156250001\" height=\"40\" stroke=\"black\" fill=\"white\" stroke-width=\"1\" /><text x=\"7277.584667968751\" y=\"25.0\" dominant-baseline=\"middle\" text-anchor=\"middle\" font-size=\"14px\">Rz(2.0*beta)</text><rect x=\"7341.077968750002\" y=\"5.0\" width=\"40\" height=\"40\" stroke=\"black\" fill=\"white\" stroke-width=\"1\" /><text x=\"7361.077968750002\" y=\"25.0\" dominant-baseline=\"middle\" text-anchor=\"middle\" font-size=\"18px\">H</text><rect x=\"7401.077968750002\" y=\"355.0\" width=\"40\" height=\"40\" stroke=\"black\" fill=\"white\" stroke-width=\"1\" /><text x=\"7421.077968750002\" y=\"375.0\" dominant-baseline=\"middle\" text-anchor=\"middle\" font-size=\"18px\">H</text><rect x=\"7461.077968750002\" y=\"355.0\" width=\"86.98660156250001\" height=\"40\" stroke=\"black\" fill=\"white\" stroke-width=\"1\" /><text x=\"7504.571269531251\" y=\"375.0\" dominant-baseline=\"middle\" text-anchor=\"middle\" font-size=\"14px\">Rz(2.0*beta)</text><rect x=\"7568.064570312502\" y=\"355.0\" width=\"40\" height=\"40\" stroke=\"black\" fill=\"white\" stroke-width=\"1\" /><text x=\"7588.064570312502\" y=\"375.0\" dominant-baseline=\"middle\" text-anchor=\"middle\" font-size=\"18px\">H</text><rect x=\"7628.064570312502\" y=\"105.0\" width=\"40\" height=\"40\" stroke=\"black\" fill=\"white\" stroke-width=\"1\" /><text x=\"7648.064570312502\" y=\"125.0\" dominant-baseline=\"middle\" text-anchor=\"middle\" font-size=\"18px\">H</text><rect x=\"7688.064570312502\" y=\"105.0\" width=\"86.98660156250001\" height=\"40\" stroke=\"black\" fill=\"white\" stroke-width=\"1\" /><text x=\"7731.557871093752\" y=\"125.0\" dominant-baseline=\"middle\" text-anchor=\"middle\" font-size=\"14px\">Rz(2.0*beta)</text><rect x=\"7795.051171875002\" y=\"105.0\" width=\"40\" height=\"40\" stroke=\"black\" fill=\"white\" stroke-width=\"1\" /><text x=\"7815.051171875002\" y=\"125.0\" dominant-baseline=\"middle\" text-anchor=\"middle\" font-size=\"18px\">H</text></svg>"
      ],
      "text/plain": [
       "<cirq.contrib.svg.svg.SVGCircuit at 0x7fc8286c5350>"
      ]
     },
     "execution_count": 7,
     "metadata": {},
     "output_type": "execute_result"
    }
   ],
   "source": [
    "# Use SymPy to define the parameters for 1 block (p=1) of QAOA circuit\n",
    "qaoa_params = sympy.symbols('gamma beta')\n",
    "\n",
    "# Create the unitary ops that represent the QAOA circuit\n",
    "qaoa_circuit = tfq.util.exponential(operators= \n",
    "                                    [cost_H, mixing_H],\n",
    "                                   coefficients= qaoa_params)\n",
    "\n",
    "# Visualize this circuit\n",
    "SVGCircuit(qaoa_circuit)"
   ]
  },
  {
   "cell_type": "markdown",
   "metadata": {},
   "source": [
    "## Step 3\n",
    "1. Define the model, the model readout, and training data\n",
    "2. Build the Keras model\n",
    "3. Optimize the parameters for this particular ansatz state\n",
    "    - Can be any optimizer, the Adam optimizer is chosen here \n",
    "    - I'm planning on playing around with different optimizers and determining which one is most efficient for this 4-regular, 10 node graph structure\n",
    "4. Train the model"
   ]
  },
  {
   "cell_type": "code",
   "execution_count": 8,
   "metadata": {},
   "outputs": [],
   "source": [
    "\n",
    "model_circuit = qaoa_circuit\n",
    "model_readout = cost_H\n",
    "\n",
    "# I belive this is the training data for our model\n",
    "# as we have no input labels or data\n",
    "input_val = [hadamard_circuit]\n",
    "input_val_conv = tfq.convert_to_tensor(input_val)\n",
    "\n",
    "# Provide the 'y' value for the model\n",
    "optimum = [0]"
   ]
  },
  {
   "cell_type": "code",
   "execution_count": 9,
   "metadata": {},
   "outputs": [],
   "source": [
    "# Build the Keras model\n",
    "optimum = np.array(optimum)\n",
    "optimum\n",
    "complete_model = tf.keras.Sequential()\n",
    "\n",
    "# Create an input layer\n",
    "complete_model.add(tf.keras.layers.Input(shape=(), \n",
    "                                         dtype=tf.dtypes.string))\n",
    "\n",
    "# Create a layer for the PQC\n",
    "complete_model.add(tfq.layers.PQC(model_circuit, model_readout))"
   ]
  },
  {
   "cell_type": "code",
   "execution_count": 10,
   "metadata": {},
   "outputs": [
    {
     "name": "stdout",
     "output_type": "stream",
     "text": [
      "Train on 1 samples\n",
      "Epoch 1/100\n",
      "1/1 [==============================] - 1s 1s/sample - loss: 10.0397\n",
      "Epoch 2/100\n",
      "1/1 [==============================] - 0s 9ms/sample - loss: 10.0387\n",
      "Epoch 3/100\n",
      "1/1 [==============================] - 0s 8ms/sample - loss: 10.0378\n",
      "Epoch 4/100\n",
      "1/1 [==============================] - 0s 7ms/sample - loss: 10.0368\n",
      "Epoch 5/100\n",
      "1/1 [==============================] - 0s 7ms/sample - loss: 10.0359\n",
      "Epoch 6/100\n",
      "1/1 [==============================] - 0s 9ms/sample - loss: 10.0349\n",
      "Epoch 7/100\n",
      "1/1 [==============================] - 0s 7ms/sample - loss: 10.0340\n",
      "Epoch 8/100\n",
      "1/1 [==============================] - 0s 9ms/sample - loss: 10.0331\n",
      "Epoch 9/100\n",
      "1/1 [==============================] - 0s 7ms/sample - loss: 10.0323\n",
      "Epoch 10/100\n",
      "1/1 [==============================] - 0s 9ms/sample - loss: 10.0314\n",
      "Epoch 11/100\n",
      "1/1 [==============================] - 0s 9ms/sample - loss: 10.0306\n",
      "Epoch 12/100\n",
      "1/1 [==============================] - 0s 8ms/sample - loss: 10.0297\n",
      "Epoch 13/100\n",
      "1/1 [==============================] - 0s 9ms/sample - loss: 10.0289\n",
      "Epoch 14/100\n",
      "1/1 [==============================] - 0s 8ms/sample - loss: 10.0281\n",
      "Epoch 15/100\n",
      "1/1 [==============================] - 0s 9ms/sample - loss: 10.0274\n",
      "Epoch 16/100\n",
      "1/1 [==============================] - 0s 8ms/sample - loss: 10.0266\n",
      "Epoch 17/100\n",
      "1/1 [==============================] - 0s 8ms/sample - loss: 10.0259\n",
      "Epoch 18/100\n",
      "1/1 [==============================] - 0s 7ms/sample - loss: 10.0251\n",
      "Epoch 19/100\n",
      "1/1 [==============================] - 0s 9ms/sample - loss: 10.0244\n",
      "Epoch 20/100\n",
      "1/1 [==============================] - 0s 8ms/sample - loss: 10.0237\n",
      "Epoch 21/100\n",
      "1/1 [==============================] - 0s 8ms/sample - loss: 10.0231\n",
      "Epoch 22/100\n",
      "1/1 [==============================] - 0s 8ms/sample - loss: 10.0224\n",
      "Epoch 23/100\n",
      "1/1 [==============================] - 0s 7ms/sample - loss: 10.0218\n",
      "Epoch 24/100\n",
      "1/1 [==============================] - 0s 6ms/sample - loss: 10.0211\n",
      "Epoch 25/100\n",
      "1/1 [==============================] - 0s 9ms/sample - loss: 10.0205\n",
      "Epoch 26/100\n",
      "1/1 [==============================] - 0s 9ms/sample - loss: 10.0199\n",
      "Epoch 27/100\n",
      "1/1 [==============================] - 0s 8ms/sample - loss: 10.0193\n",
      "Epoch 28/100\n",
      "1/1 [==============================] - 0s 9ms/sample - loss: 10.0187\n",
      "Epoch 29/100\n",
      "1/1 [==============================] - 0s 9ms/sample - loss: 10.0182\n",
      "Epoch 30/100\n",
      "1/1 [==============================] - 0s 8ms/sample - loss: 10.0176\n",
      "Epoch 31/100\n",
      "1/1 [==============================] - 0s 8ms/sample - loss: 10.0171\n",
      "Epoch 32/100\n",
      "1/1 [==============================] - 0s 9ms/sample - loss: 10.0166\n",
      "Epoch 33/100\n",
      "1/1 [==============================] - 0s 9ms/sample - loss: 10.0161\n",
      "Epoch 34/100\n",
      "1/1 [==============================] - 0s 8ms/sample - loss: 10.0156\n",
      "Epoch 35/100\n",
      "1/1 [==============================] - 0s 9ms/sample - loss: 10.0151\n",
      "Epoch 36/100\n",
      "1/1 [==============================] - 0s 9ms/sample - loss: 10.0146\n",
      "Epoch 37/100\n",
      "1/1 [==============================] - 0s 9ms/sample - loss: 10.0142\n",
      "Epoch 38/100\n",
      "1/1 [==============================] - 0s 8ms/sample - loss: 10.0137\n",
      "Epoch 39/100\n",
      "1/1 [==============================] - 0s 9ms/sample - loss: 10.0133\n",
      "Epoch 40/100\n",
      "1/1 [==============================] - 0s 8ms/sample - loss: 10.0129\n",
      "Epoch 41/100\n",
      "1/1 [==============================] - 0s 9ms/sample - loss: 10.0124\n",
      "Epoch 42/100\n",
      "1/1 [==============================] - 0s 7ms/sample - loss: 10.0120\n",
      "Epoch 43/100\n",
      "1/1 [==============================] - 0s 10ms/sample - loss: 10.0116\n",
      "Epoch 44/100\n",
      "1/1 [==============================] - 0s 9ms/sample - loss: 10.0113\n",
      "Epoch 45/100\n",
      "1/1 [==============================] - 0s 8ms/sample - loss: 10.0109\n",
      "Epoch 46/100\n",
      "1/1 [==============================] - 0s 10ms/sample - loss: 10.0105\n",
      "Epoch 47/100\n",
      "1/1 [==============================] - 0s 8ms/sample - loss: 10.0102\n",
      "Epoch 48/100\n",
      "1/1 [==============================] - 0s 11ms/sample - loss: 10.0098\n",
      "Epoch 49/100\n",
      "1/1 [==============================] - 0s 8ms/sample - loss: 10.0095\n",
      "Epoch 50/100\n",
      "1/1 [==============================] - 0s 8ms/sample - loss: 10.0091\n",
      "Epoch 51/100\n",
      "1/1 [==============================] - 0s 9ms/sample - loss: 10.0088\n",
      "Epoch 52/100\n",
      "1/1 [==============================] - 0s 8ms/sample - loss: 10.0085\n",
      "Epoch 53/100\n",
      "1/1 [==============================] - 0s 9ms/sample - loss: 10.0082\n",
      "Epoch 54/100\n",
      "1/1 [==============================] - 0s 8ms/sample - loss: 10.0079\n",
      "Epoch 55/100\n",
      "1/1 [==============================] - 0s 9ms/sample - loss: 10.0076\n",
      "Epoch 56/100\n",
      "1/1 [==============================] - 0s 8ms/sample - loss: 10.0073\n",
      "Epoch 57/100\n",
      "1/1 [==============================] - 0s 7ms/sample - loss: 10.0070\n",
      "Epoch 58/100\n",
      "1/1 [==============================] - 0s 7ms/sample - loss: 10.0067\n",
      "Epoch 59/100\n",
      "1/1 [==============================] - 0s 7ms/sample - loss: 10.0065\n",
      "Epoch 60/100\n",
      "1/1 [==============================] - 0s 8ms/sample - loss: 10.0062\n",
      "Epoch 61/100\n",
      "1/1 [==============================] - 0s 7ms/sample - loss: 10.0060\n",
      "Epoch 62/100\n",
      "1/1 [==============================] - 0s 7ms/sample - loss: 10.0057\n",
      "Epoch 63/100\n",
      "1/1 [==============================] - 0s 8ms/sample - loss: 10.0054\n",
      "Epoch 64/100\n",
      "1/1 [==============================] - 0s 8ms/sample - loss: 10.0052\n",
      "Epoch 65/100\n",
      "1/1 [==============================] - 0s 7ms/sample - loss: 10.0050\n",
      "Epoch 66/100\n",
      "1/1 [==============================] - 0s 8ms/sample - loss: 10.0047\n",
      "Epoch 67/100\n",
      "1/1 [==============================] - 0s 7ms/sample - loss: 10.0045\n",
      "Epoch 68/100\n",
      "1/1 [==============================] - 0s 10ms/sample - loss: 10.0043\n",
      "Epoch 69/100\n",
      "1/1 [==============================] - 0s 8ms/sample - loss: 10.0040\n",
      "Epoch 70/100\n",
      "1/1 [==============================] - 0s 8ms/sample - loss: 10.0038\n",
      "Epoch 71/100\n",
      "1/1 [==============================] - 0s 8ms/sample - loss: 10.0036\n",
      "Epoch 72/100\n",
      "1/1 [==============================] - 0s 7ms/sample - loss: 10.0034\n",
      "Epoch 73/100\n",
      "1/1 [==============================] - 0s 7ms/sample - loss: 10.0032\n",
      "Epoch 74/100\n",
      "1/1 [==============================] - 0s 8ms/sample - loss: 10.0030\n",
      "Epoch 75/100\n",
      "1/1 [==============================] - 0s 7ms/sample - loss: 10.0028\n",
      "Epoch 76/100\n",
      "1/1 [==============================] - 0s 8ms/sample - loss: 10.0026\n",
      "Epoch 77/100\n",
      "1/1 [==============================] - 0s 7ms/sample - loss: 10.0024\n",
      "Epoch 78/100\n",
      "1/1 [==============================] - 0s 7ms/sample - loss: 10.0022\n",
      "Epoch 79/100\n",
      "1/1 [==============================] - 0s 10ms/sample - loss: 10.0020\n",
      "Epoch 80/100\n",
      "1/1 [==============================] - 0s 8ms/sample - loss: 10.0018\n",
      "Epoch 81/100\n",
      "1/1 [==============================] - 0s 8ms/sample - loss: 10.0017\n",
      "Epoch 82/100\n",
      "1/1 [==============================] - 0s 7ms/sample - loss: 10.0015\n",
      "Epoch 83/100\n",
      "1/1 [==============================] - 0s 7ms/sample - loss: 10.0013\n",
      "Epoch 84/100\n",
      "1/1 [==============================] - 0s 9ms/sample - loss: 10.0011\n",
      "Epoch 85/100\n",
      "1/1 [==============================] - 0s 9ms/sample - loss: 10.0009\n",
      "Epoch 86/100\n",
      "1/1 [==============================] - 0s 8ms/sample - loss: 10.0008\n",
      "Epoch 87/100\n",
      "1/1 [==============================] - 0s 8ms/sample - loss: 10.0006\n",
      "Epoch 88/100\n",
      "1/1 [==============================] - 0s 10ms/sample - loss: 10.0004\n",
      "Epoch 89/100\n",
      "1/1 [==============================] - 0s 8ms/sample - loss: 10.0002\n",
      "Epoch 90/100\n",
      "1/1 [==============================] - 0s 8ms/sample - loss: 10.0001\n",
      "Epoch 91/100\n",
      "1/1 [==============================] - 0s 9ms/sample - loss: 9.9999\n",
      "Epoch 92/100\n",
      "1/1 [==============================] - 0s 8ms/sample - loss: 9.9998\n",
      "Epoch 93/100\n",
      "1/1 [==============================] - 0s 8ms/sample - loss: 9.9996\n",
      "Epoch 94/100\n",
      "1/1 [==============================] - 0s 8ms/sample - loss: 9.9994\n",
      "Epoch 95/100\n",
      "1/1 [==============================] - 0s 7ms/sample - loss: 9.9993\n",
      "Epoch 96/100\n",
      "1/1 [==============================] - 0s 8ms/sample - loss: 9.9991\n",
      "Epoch 97/100\n",
      "1/1 [==============================] - 0s 9ms/sample - loss: 9.9989\n",
      "Epoch 98/100\n",
      "1/1 [==============================] - 0s 8ms/sample - loss: 9.9988\n",
      "Epoch 99/100\n",
      "1/1 [==============================] - 0s 9ms/sample - loss: 9.9986\n",
      "Epoch 100/100\n",
      "1/1 [==============================] - 0s 9ms/sample - loss: 9.9984\n"
     ]
    }
   ],
   "source": [
    "# Provide a specific loss fxn and optimizer method for complete_model\n",
    "complete_model.compile(loss=tf.keras.losses.mean_absolute_error,\n",
    "             optimizer=tf.keras.optimizers.Adam())\n",
    "\n",
    "# Train the model and store the results\n",
    "# Here the first argument is out 'feature column'\n",
    "# Argument 2: Our minimization goal\n",
    "results = complete_model.fit(input_val_conv, optimum, epochs=100,\n",
    "                            verbose=1)"
   ]
  },
  {
   "cell_type": "code",
   "execution_count": 32,
   "metadata": {},
   "outputs": [
    {
     "name": "stdout",
     "output_type": "stream",
     "text": [
      "Loss in epoch 0: 10.039714813232422\n",
      "Loss in epoch 1: 10.038732528686523\n",
      "Loss in epoch 2: 10.037757873535156\n",
      "Loss in epoch 3: 10.036800384521484\n",
      "Loss in epoch 4: 10.035857200622559\n",
      "Loss in epoch 5: 10.03493881225586\n",
      "Loss in epoch 6: 10.034022331237793\n",
      "Loss in epoch 7: 10.033138275146484\n",
      "Loss in epoch 8: 10.032258987426758\n",
      "Loss in epoch 9: 10.03140640258789\n",
      "Loss in epoch 10: 10.03056526184082\n",
      "Loss in epoch 11: 10.029742240905762\n",
      "Loss in epoch 12: 10.028932571411133\n",
      "Loss in epoch 13: 10.028133392333984\n",
      "Loss in epoch 14: 10.027366638183594\n",
      "Loss in epoch 15: 10.026605606079102\n",
      "Loss in epoch 16: 10.025869369506836\n",
      "Loss in epoch 17: 10.025146484375\n",
      "Loss in epoch 18: 10.024436950683594\n",
      "Loss in epoch 19: 10.023746490478516\n",
      "Loss in epoch 20: 10.023061752319336\n",
      "Loss in epoch 21: 10.022401809692383\n",
      "Loss in epoch 22: 10.02175521850586\n",
      "Loss in epoch 23: 10.021121978759766\n",
      "Loss in epoch 24: 10.020511627197266\n",
      "Loss in epoch 25: 10.019903182983398\n",
      "Loss in epoch 26: 10.019319534301758\n",
      "Loss in epoch 27: 10.018749237060547\n",
      "Loss in epoch 28: 10.018190383911133\n",
      "Loss in epoch 29: 10.01763916015625\n",
      "Loss in epoch 30: 10.017107009887695\n",
      "Loss in epoch 31: 10.016586303710938\n",
      "Loss in epoch 32: 10.016074180603027\n",
      "Loss in epoch 33: 10.015588760375977\n",
      "Loss in epoch 34: 10.015094757080078\n",
      "Loss in epoch 35: 10.014631271362305\n",
      "Loss in epoch 36: 10.014174461364746\n",
      "Loss in epoch 37: 10.013717651367188\n",
      "Loss in epoch 38: 10.01328182220459\n",
      "Loss in epoch 39: 10.012855529785156\n",
      "Loss in epoch 40: 10.01244068145752\n",
      "Loss in epoch 41: 10.01203727722168\n",
      "Loss in epoch 42: 10.011648178100586\n",
      "Loss in epoch 43: 10.011256217956543\n",
      "Loss in epoch 44: 10.010887145996094\n",
      "Loss in epoch 45: 10.010519027709961\n",
      "Loss in epoch 46: 10.010157585144043\n",
      "Loss in epoch 47: 10.00981330871582\n",
      "Loss in epoch 48: 10.009471893310547\n",
      "Loss in epoch 49: 10.009130477905273\n",
      "Loss in epoch 50: 10.008807182312012\n",
      "Loss in epoch 51: 10.008493423461914\n",
      "Loss in epoch 52: 10.008188247680664\n",
      "Loss in epoch 53: 10.007884979248047\n",
      "Loss in epoch 54: 10.007579803466797\n",
      "Loss in epoch 55: 10.007293701171875\n",
      "Loss in epoch 56: 10.007011413574219\n",
      "Loss in epoch 57: 10.00674057006836\n",
      "Loss in epoch 58: 10.006467819213867\n",
      "Loss in epoch 59: 10.006202697753906\n",
      "Loss in epoch 60: 10.005950927734375\n",
      "Loss in epoch 61: 10.005687713623047\n",
      "Loss in epoch 62: 10.005439758300781\n",
      "Loss in epoch 63: 10.005191802978516\n",
      "Loss in epoch 64: 10.004962921142578\n",
      "Loss in epoch 65: 10.004728317260742\n",
      "Loss in epoch 66: 10.004499435424805\n",
      "Loss in epoch 67: 10.004270553588867\n",
      "Loss in epoch 68: 10.004049301147461\n",
      "Loss in epoch 69: 10.00383186340332\n",
      "Loss in epoch 70: 10.003622055053711\n",
      "Loss in epoch 71: 10.003412246704102\n",
      "Loss in epoch 72: 10.003202438354492\n",
      "Loss in epoch 73: 10.002999305725098\n",
      "Loss in epoch 74: 10.002801895141602\n",
      "Loss in epoch 75: 10.002599716186523\n",
      "Loss in epoch 76: 10.002403259277344\n",
      "Loss in epoch 77: 10.002212524414062\n",
      "Loss in epoch 78: 10.002021789550781\n",
      "Loss in epoch 79: 10.001837730407715\n",
      "Loss in epoch 80: 10.001659393310547\n",
      "Loss in epoch 81: 10.001468658447266\n",
      "Loss in epoch 82: 10.001296997070312\n",
      "Loss in epoch 83: 10.001124382019043\n",
      "Loss in epoch 84: 10.000934600830078\n",
      "Loss in epoch 85: 10.000762939453125\n",
      "Loss in epoch 86: 10.000591278076172\n",
      "Loss in epoch 87: 10.000419616699219\n",
      "Loss in epoch 88: 10.000247955322266\n",
      "Loss in epoch 89: 10.00009536743164\n",
      "Loss in epoch 90: 9.999923706054688\n",
      "Loss in epoch 91: 9.999752044677734\n",
      "Loss in epoch 92: 9.999580383300781\n",
      "Loss in epoch 93: 9.999427795410156\n",
      "Loss in epoch 94: 9.999256134033203\n",
      "Loss in epoch 95: 9.99908447265625\n",
      "Loss in epoch 96: 9.998931884765625\n",
      "Loss in epoch 97: 9.998760223388672\n",
      "Loss in epoch 98: 9.998603820800781\n",
      "Loss in epoch 99: 9.998435974121094\n"
     ]
    }
   ],
   "source": [
    "# Extract the performance of the model\n",
    "for epoch, loss in enumerate(results.history['loss']):\n",
    "    print(f'Loss in epoch {epoch}: {loss}')"
   ]
  },
  {
   "cell_type": "code",
   "execution_count": 31,
   "metadata": {},
   "outputs": [
    {
     "data": {
      "image/png": "[encoded data removed]",
      "text/plain": [
       "<Figure size 432x288 with 1 Axes>"
      ]
     },
     "metadata": {
      "needs_background": "light"
     },
     "output_type": "display_data"
    }
   ],
   "source": [
    "# Plot the performance\n",
    "plt.plot(results.history['loss'])\n",
    "plt.xlabel('Epoch')\n",
    "plt.ylabel('Loss (Mean Abs Error)')\n",
    "plt.title('Loss (Mean Abs Error) vs. Epoch')\n",
    "plt.show()\n"
   ]
  },
  {
   "cell_type": "markdown",
   "metadata": {},
   "source": [
    "# II. MaxCut QAOA (4-regular) at depth p=3 with 10 qubits (nodes)"
   ]
  },
  {
   "cell_type": "code",
   "execution_count": null,
   "metadata": {},
   "outputs": [],
   "source": []
  }
 ],
 "metadata": {
  "kernelspec": {
   "display_name": "Python 3",
   "language": "python",
   "name": "python3"
  },
  "language_info": {
   "codemirror_mode": {
    "name": "ipython",
    "version": 3
   },
   "file_extension": ".py",
   "mimetype": "text/x-python",
   "name": "python",
   "nbconvert_exporter": "python",
   "pygments_lexer": "ipython3",
   "version": "3.7.6"
  }
 },
 "nbformat": 4,
 "nbformat_minor": 4
}
