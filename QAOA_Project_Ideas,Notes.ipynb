{
 "cells": [
  {
   "cell_type": "markdown",
   "metadata": {},
   "source": [
    "# Questions\n",
    "1. Hardware vs. non-hardware native graphs\n",
    "    - Hardware native- problem topology matches the hardware topology, these are easier to solve as the logical info in each qubit is contained within that same qubit throughout\n",
    "    - Non-hardware native: require more overhead, specifically need to move/swap logical info between qubits -> must use swap networks\n",
    "    - How difficult is it to apply QAOA to these non-hardware native graphs?\n",
    "2. What does the convergence path for ($\\beta, \\gamma$) look like in $\\mathbb{R}^{2}$\n",
    "    - Could we plot the convergence path $\\forall \\; (\\beta_{i}, \\gamma_{i})$ pairs $\\in\\mathbb{R}^{2p}$?\n",
    "    - You can plot ($\\beta, \\gamma$) space with a heat map where the 3rd axis is the normalized cost fxn $\\frac{<C>}{C_{min}}$, aka approximation ratio\n",
    "3. To compete with analog best classical algos, QAOA must go past low-depth (p=1) and we currently explore the range $p\\in[1,10]$ \n",
    "    - But as $\\lim_{p\\to\\infty}$, optimization of the 2p parameters becomes __exponentially__ difficult if we pick RI (random initialization)"
   ]
  },
  {
   "cell_type": "markdown",
   "metadata": {},
   "source": [
    "## QAOA Methods\n",
    "1. Parameter initialization:\n",
    "    - Standard approach: random initialization of ($\\vec{\\beta},\\vec{\\gamma}$)\n",
    "2. Cost/Problem Hamiltionian $H_{c}$- diagonal in the comp. basis:\n",
    "$$H_{C}=\\frac{1}{2}\\sum_{i,j\\in E}w_{i,j}(I_{2}-\\sigma_{i}^{z}\\sigma_{j}^{z})$$\n",
    "    - $w$ is the adjacency(udR)/edge weight(wdR) matrix of the graph:\n",
    "    - $w=c, c\\in[0,1]$ if nodes(qubits) are connected\n",
    "    - $w=0$ if nodes(qubits) are not connected -> no edge between them\n",
    "    "
   ]
  },
  {
   "cell_type": "markdown",
   "metadata": {},
   "source": [
    "## QAOA Parameter Initialization Methods\n",
    "1. __ALL INITIALIZATION PARAMETERS AFTER CHOOSING ARE FED TO STANDARD OPTIMIZATION ROUTINES__ post unitary evolution:\n",
    "    - GD\n",
    "    - SGD: Adam is a varaint of this\n",
    "    - BFGS\n",
    "    - Nelder-Mead\n",
    "    - Bayesian Optimization\n",
    "    - Monte-Carlo\n",
    "    - quasi-Newton\n",
    "2. RI (random initialization)- Pick random set of parameters to begin optimization\n",
    "3. INTERP- Linear interpolation to choose initial params\n",
    "4. FOURIER- Discrete Sin/Cosine transforms, 2p-> 2q parameters\n",
    "5. Machine Learning\n",
    "    - Training, validation, test sets? -> For each graph size, n randomly generated from the Erdös-Renyí ensemble\n",
    "    - Issue: for small wdR/udR graphs, training set may contain test set graphs but the set of all wdR/udR graphs scale VERY fast as the # vertices (nodes) increase\n",
    "    - Solution/Note: As long as n<<# graphs in set, chance of classical ML model 'seeing' same graph in training/testing is unlikely\n",
    "    "
   ]
  },
  {
   "cell_type": "markdown",
   "metadata": {},
   "source": [
    "## MaxCut Graph methods\n",
    "1. Fix the udR, wdR d-regular graphs and vary/sweep through the number of vertices (qubits)\n",
    "2. Also sweep through the intermediate p-level depth QAOA circuits because these circuits hold the most promise for a computational speed up\n",
    "    - Specifically, sweep through $1<p\\leq10$?\n",
    "4. Assessing perfomance of QAOA: \n",
    "    - Approximation ratio (r): $$\\frac{<C>}{C_{min}}$$\n",
    "    - Fractional error 1-r: $$1-\\frac{<C>}{C_{min}}$$\n",
    "5. Key question- how does the performance (r, 1-r, etc.) SCALE with p, aka $r\\propto?$? Can we fit a curve to this and what is it dependent on?\n",
    "6. Implementing the qubit swap network for non-native graphs- what is the overhead? the QAOA ansatz? Which gates are used to transfer the logical info?\n",
    "7. Getting the exact solution is NP-Hard, QAOA and others try and approximate it\n",
    "    - Classical algo: Goemans-Williamson guarantees AR (r) = 0.8785"
   ]
  },
  {
   "cell_type": "markdown",
   "metadata": {},
   "source": [
    "## Physical Qubits to Quantum Circuit ansatz\n",
    "1. Any hardware native graph -> can apply gates directly between any 2 qubits\n",
    "2. Current NISQ chips -> 2-D lattice architecure __with only nearest neighbors connectivity/accessibility__\n",
    "3. Non-native hardware graphs -> must use SWAP network to transfer logical info between physical qubits\n",
    "    - Analyze overhead\n",
    "    - Apply in a brickwork pattern, cyclic shift operation\n",
    "    - After half cycle- every qubit has been exchanged with every other qubit\n",
    "    - SWAP Gates- built out of 3 CNOTs\n",
    "    - ZZ- built out of 2 CNOTs\n",
    "    - Provide a 'gate cost' in terms of total CNOTs utilized\n",
    "4. Combining the ZZ, SWAP gates- PSWAP -> parametrized SWAP network, can be implemented with MAX 3 CNOTs\n",
    "5. Limitations- although we can run QAOA with deep p, __is it realistic? What are the physical barriers?__\n",
    "6. __Circuit execution time/circuit latency__- sum of the number of specifc gates times their operation times.\n",
    "    - For any $p>1$ circuits, then multiply that QAOA instance by p (EXCLUDE the Hadamard transform) to get total circuit execution time\n",
    "    - QAOA: $H_{c}$ execution time accounts for MOST of the total circuit execution time\n",
    "    - Use circuit latency for comparison in physical qubit realistic computations?"
   ]
  },
  {
   "cell_type": "markdown",
   "metadata": {},
   "source": [
    "## Noise in physical qubits\n",
    "1. Hardware noises:\n",
    "    - Gate error- \n",
    "    - T1 (relaxation time)- \n",
    "    - T2 (decoherence)- \n",
    "2. Severely limits the realisitc depth experiments for QAOA on real QCs\n",
    "3. All 3 noises in hardware compoound in error\n",
    "4. Key: look at cost hamiltonian execution time (CHET) and specific error ratios:\n",
    "$$\\frac{CHET}{T_{1}}, \\frac{CHET}{T_{2}}$$"
   ]
  },
  {
   "cell_type": "markdown",
   "metadata": {},
   "source": [
    "## Qubit routing problem\n",
    "1. The quantum circuit model allows/assumes multi-qubit gates can act on any qubits without restriction\n",
    "    - Aka it assumes all-to-all connectivity for n qubits\n",
    "2. Realistic NISQ hardware- fixed 2D,3D lattice or other topology where gates can only be apply to neighboring qubits (nearest neighbors)\n",
    "    - Thus a quantum circuit must be modified using a SWAP network to move logical info to be adjacnet in memory for a multi-qubit gate execution\n",
    "3. Qubit routing problem- challenge of modifying/manipulating your desired quantum circuit model in an agreeable form with your quantum hardware topology\n",
    "4. Key challenge- since routing requires a SWAP network thus increasing the total number of gates, __we need to find a stable medium between growth of total gates and correct hardware connectivity__"
   ]
  },
  {
   "cell_type": "code",
   "execution_count": null,
   "metadata": {},
   "outputs": [],
   "source": []
  }
 ],
 "metadata": {
  "kernelspec": {
   "display_name": "Python 3",
   "language": "python",
   "name": "python3"
  },
  "language_info": {
   "codemirror_mode": {
    "name": "ipython",
    "version": 3
   },
   "file_extension": ".py",
   "mimetype": "text/x-python",
   "name": "python",
   "nbconvert_exporter": "python",
   "pygments_lexer": "ipython3",
   "version": "3.7.7"
  }
 },
 "nbformat": 4,
 "nbformat_minor": 4
}
